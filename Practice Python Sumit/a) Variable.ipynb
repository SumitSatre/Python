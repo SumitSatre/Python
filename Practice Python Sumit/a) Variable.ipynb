{
 "cells": [
  {
   "cell_type": "code",
   "execution_count": 5,
   "id": "5691f3f4",
   "metadata": {},
   "outputs": [
    {
     "name": "stdout",
     "output_type": "stream",
     "text": [
      "John\n",
      "John\n",
      "John\n",
      "John\n",
      "John\n",
      "John\n"
     ]
    }
   ],
   "source": [
    "#These are the ways to write the variacle\n",
    "myvar = \"John\"\n",
    "my_var = \"John\"\n",
    "_my_var = \"John\"\n",
    "myVar = \"John\"\n",
    "MYVAR = \"John\"\n",
    "myvar2 = \"John\"\n",
    "\n",
    "\n",
    "print(myvar)\n",
    "print(my_var)\n",
    "print(_my_var)\n",
    "print(myVar)\n",
    "print(MYVAR)\n",
    "print(myvar2)\n"
   ]
  },
  {
   "cell_type": "code",
   "execution_count": 1,
   "id": "32316228",
   "metadata": {},
   "outputs": [
    {
     "name": "stdout",
     "output_type": "stream",
     "text": [
      "Hello Sumit!!\n"
     ]
    }
   ],
   "source": [
    "#for print syntax is givan as:\n",
    "print(\"Hello Sumit!!\")"
   ]
  },
  {
   "cell_type": "markdown",
   "id": "a17e24a3",
   "metadata": {},
   "source": [
    "# \n"
   ]
  },
  {
   "cell_type": "code",
   "execution_count": 43,
   "id": "c91f2526",
   "metadata": {},
   "outputs": [
    {
     "name": "stdout",
     "output_type": "stream",
     "text": [
      "3.143\n",
      "\n",
      "213,263,453,452,522\n",
      "\n",
      ".............................................Sumit\n",
      "\n",
      "Sumit.............................................\n",
      "\n",
      "**********************Sumit***********************\n",
      "hello ____________________ World\n",
      "Heloo ____________________ World\n"
     ]
    },
    {
     "data": {
      "text/plain": [
       "'*___________________'"
      ]
     },
     "execution_count": 43,
     "metadata": {},
     "output_type": "execute_result"
    }
   ],
   "source": [
    "print(format(22/7 , '.3f')) #This is used for floating point numbers\n",
    "print()\n",
    "print(format(213263453452522, ','))\n",
    "print()\n",
    "print(format(\"Sumit\" , '.>50'))\n",
    "print()\n",
    "print(format(\"Sumit\" , '.<50'))\n",
    "print()\n",
    "print(format(\"Sumit\" , '*^50'))\n",
    "\n",
    "print(\"hello\" , \"____________________\" , \"World\")\n",
    "print(\"Heloo\" , format(\"_\" , '_<20') , \"World\")\n",
    "format(\"*\" , '_<20')"
   ]
  },
  {
   "cell_type": "code",
   "execution_count": 1,
   "id": "83ba921c",
   "metadata": {},
   "outputs": [
    {
     "name": "stdout",
     "output_type": "stream",
     "text": [
      "Hello \n",
      "Sumit!!\n",
      "Hello \tSumit!!\n"
     ]
    }
   ],
   "source": [
    "print(\"Hello \\nSumit!!\")\n",
    "print(\"Hello \\tSumit!!\")"
   ]
  },
  {
   "cell_type": "code",
   "execution_count": 2,
   "id": "004162a1",
   "metadata": {},
   "outputs": [
    {
     "name": "stdout",
     "output_type": "stream",
     "text": [
      "Enter your Name : sumit\n",
      "Enter your Age : 18\n",
      "sumit your age is 18\n"
     ]
    }
   ],
   "source": [
    "n = input(\"Enter your Name : \")\n",
    "a= int(input(\"Enter your Age : \"))\n",
    "print(F\"{n} your age is {a}\")"
   ]
  },
  {
   "cell_type": "code",
   "execution_count": 3,
   "id": "b8464a4d",
   "metadata": {},
   "outputs": [
    {
     "name": "stdout",
     "output_type": "stream",
     "text": [
      "The addition of x and y is 50\n",
      "The subtraction of x and y is 10\n",
      "The multiplication of x and y is 600\n",
      "The division of x and y is 1.5\n",
      "The floor division of x and y is 1\n",
      "The remainder of x and y is 10\n",
      "x raised to z is 900\n"
     ]
    }
   ],
   "source": [
    "# Arithmetic Operators\n",
    "\n",
    "x = 30\n",
    "y = 20\n",
    "z = 2\n",
    "\n",
    "print(\"The addition of x and y is\",x+y)\n",
    "print(\"The subtraction of x and y is\",x-y)\n",
    "print(\"The multiplication of x and y is\",x*y)\n",
    "print(\"The division of x and y is\",x/y)\n",
    "print(\"The floor division of x and y is\",x//y)\n",
    "print(\"The remainder of x and y is\",x%y)\n",
    "print(\"x raised to z is\", x**z)\n"
   ]
  },
  {
   "cell_type": "code",
   "execution_count": 15,
   "id": "ef99c3ba",
   "metadata": {},
   "outputs": [
    {
     "name": "stdout",
     "output_type": "stream",
     "text": [
      "False\n",
      "True\n",
      "True\n",
      "False\n"
     ]
    }
   ],
   "source": [
    "# Comparision Opeerators\n",
    "\n",
    "a = 200\n",
    "b = 300\n",
    "\n",
    "print(a==b)\n",
    "print(a!=b)\n",
    "print(a<=b)\n",
    "print(a>=b)"
   ]
  },
  {
   "cell_type": "code",
   "execution_count": 24,
   "id": "51f2698d",
   "metadata": {},
   "outputs": [
    {
     "name": "stdout",
     "output_type": "stream",
     "text": [
      "**Hello**  **Hello**  **Hello**  **Hello**  **Hello**  \n"
     ]
    }
   ],
   "source": [
    "# print hello 5 times\n",
    "print(\"**Hello**  \" * 5)"
   ]
  },
  {
   "cell_type": "code",
   "execution_count": 31,
   "id": "f010bd4a",
   "metadata": {},
   "outputs": [
    {
     "name": "stdout",
     "output_type": "stream",
     "text": [
      "Enter the radius of the circle : 3\n",
      "The Area of the Circle is 28.26\n",
      "The Circumference of the Circle is 18.84\n"
     ]
    }
   ],
   "source": [
    "# Calculate the Area and Circumference of the Circle\n",
    "\n",
    "r = float(input(\"Enter the radius of the circle : \"))\n",
    "area = 3.14 * r * r\n",
    "circum = 2 * 3.14 * r\n",
    "print(f\"The Area of the Circle is\" , format(area , '.2f'))\n",
    "print(f\"The Circumference of the Circle is {circum}\")"
   ]
  },
  {
   "cell_type": "code",
   "execution_count": 4,
   "id": "059306eb",
   "metadata": {
    "scrolled": true
   },
   "outputs": [
    {
     "name": "stdout",
     "output_type": "stream",
     "text": [
      "Enter the Number:  8211562104\n",
      "the last digit of the number is  4\n",
      "\n"
     ]
    }
   ],
   "source": [
    "# Write  a program to print last digit of number\n",
    "a = int(input(\"Enter the Number:  \"))\n",
    "last_place_digit = a % 10\n",
    "print(\"the last digit of the number is \" ,last_place_digit )\n",
    "print()"
   ]
  },
  {
   "cell_type": "code",
   "execution_count": 49,
   "id": "fad961cd",
   "metadata": {},
   "outputs": [
    {
     "name": "stdout",
     "output_type": "stream",
     "text": [
      "Enter the floating point number : 45.648946\n",
      "The integer of 45.648946 is 45\n"
     ]
    }
   ],
   "source": [
    "# Write a program to convert floating point number to integer \n",
    "a = float(input(\"Enter the floating point number : \"))\n",
    "print(f\"The integer of {a} is {int(a)}\")"
   ]
  },
  {
   "cell_type": "code",
   "execution_count": 17,
   "id": "921548fa",
   "metadata": {
    "scrolled": false
   },
   "outputs": [
    {
     "name": "stdout",
     "output_type": "stream",
     "text": [
      "Enter the value of x1 : 8\n",
      "Enter the value of x2 : 10\n",
      "Enter the value of y1 : 9\n",
      "Enter the value of y2 : 12\n",
      "The distance between two points is :3.605551275463989\n"
     ]
    }
   ],
   "source": [
    "#Write a program to calculate distance between two points\n",
    "x1 = int(input(\"Enter the value of x1 : \"))\n",
    "x2 = int(input(\"Enter the value of x2 : \"))\n",
    "y1 = int(input(\"Enter the value of y1 : \"))\n",
    "y2 = int(input(\"Enter the value of y2 : \"))\n",
    "\n",
    "dis = ((x2-x1)**2+(y2-y1)**2)**0.5\n",
    "print(f\"The distance between two points is :{dis}\") "
   ]
  },
  {
   "cell_type": "code",
   "execution_count": null,
   "id": "971a1022",
   "metadata": {},
   "outputs": [],
   "source": []
  }
 ],
 "metadata": {
  "kernelspec": {
   "display_name": "Python 3 (ipykernel)",
   "language": "python",
   "name": "python3"
  },
  "language_info": {
   "codemirror_mode": {
    "name": "ipython",
    "version": 3
   },
   "file_extension": ".py",
   "mimetype": "text/x-python",
   "name": "python",
   "nbconvert_exporter": "python",
   "pygments_lexer": "ipython3",
   "version": "3.9.7"
  }
 },
 "nbformat": 4,
 "nbformat_minor": 5
}
