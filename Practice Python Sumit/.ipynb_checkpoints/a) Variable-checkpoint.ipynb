{
 "cells": [
  {
   "cell_type": "code",
   "execution_count": 5,
   "id": "5691f3f4",
   "metadata": {},
   "outputs": [
    {
     "name": "stdout",
     "output_type": "stream",
     "text": [
      "John\n",
      "John\n",
      "John\n",
      "John\n",
      "John\n",
      "John\n"
     ]
    }
   ],
   "source": [
    "#These are the ways to write the variacle\n",
    "myvar = \"John\"\n",
    "my_var = \"John\"\n",
    "_my_var = \"John\"\n",
    "myVar = \"John\"\n",
    "MYVAR = \"John\"\n",
    "myvar2 = \"John\"\n",
    "\n",
    "\n",
    "print(myvar)\n",
    "print(my_var)\n",
    "print(_my_var)\n",
    "print(myVar)\n",
    "print(MYVAR)\n",
    "print(myvar2)\n"
   ]
  },
  {
   "cell_type": "code",
   "execution_count": 1,
   "id": "32316228",
   "metadata": {},
   "outputs": [
    {
     "name": "stdout",
     "output_type": "stream",
     "text": [
      "Hello Sumit!!\n"
     ]
    }
   ],
   "source": [
    "#for print syntax is givan as:\n",
    "print(\"Hello Sumit!!\")"
   ]
  },
  {
   "cell_type": "markdown",
   "id": "a17e24a3",
   "metadata": {},
   "source": [
    "# \n"
   ]
  },
  {
   "cell_type": "code",
   "execution_count": 43,
   "id": "c91f2526",
   "metadata": {},
   "outputs": [
    {
     "name": "stdout",
     "output_type": "stream",
     "text": [
      "3.143\n",
      "\n",
      "213,263,453,452,522\n",
      "\n",
      ".............................................Sumit\n",
      "\n",
      "Sumit.............................................\n",
      "\n",
      "**********************Sumit***********************\n",
      "hello ____________________ World\n",
      "Heloo ____________________ World\n"
     ]
    },
    {
     "data": {
      "text/plain": [
       "'*___________________'"
      ]
     },
     "execution_count": 43,
     "metadata": {},
     "output_type": "execute_result"
    }
   ],
   "source": [
    "print(format(22/7 , '.3f')) #This is used for floating point numbers\n",
    "print()\n",
    "print(format(213263453452522, ','))\n",
    "print()\n",
    "print(format(\"Sumit\" , '.>50'))\n",
    "print()\n",
    "print(format(\"Sumit\" , '.<50'))\n",
    "print()\n",
    "print(format(\"Sumit\" , '*^50'))\n",
    "\n",
    "print(\"hello\" , \"____________________\" , \"World\")\n",
    "print(\"Heloo\" , format(\"_\" , '_<20') , \"World\")\n",
    "format(\"*\" , '_<20')"
   ]
  },
  {
   "cell_type": "code",
   "execution_count": 1,
   "id": "83ba921c",
   "metadata": {},
   "outputs": [
    {
     "name": "stdout",
     "output_type": "stream",
     "text": [
      "Hello \n",
      "Sumit!!\n",
      "Hello \tSumit!!\n"
     ]
    }
   ],
   "source": [
    "print(\"Hello \\nSumit!!\")\n",
    "print(\"Hello \\tSumit!!\")"
   ]
  },
  {
   "cell_type": "code",
   "execution_count": 3,
   "id": "004162a1",
   "metadata": {},
   "outputs": [
    {
     "name": "stdout",
     "output_type": "stream",
     "text": [
      "Enter your Name : Sumit\n",
      "Enter your Age : 18\n",
      "Sumit your age is 18\n"
     ]
    }
   ],
   "source": [
    "n = input(\"Enter your Name : \")\n",
    "a= int(input(\"Enter your Age : \"))\n",
    "print(F\"{n} your age is {a}\")"
   ]
  },
  {
   "cell_type": "code",
   "execution_count": null,
   "id": "b8464a4d",
   "metadata": {},
   "outputs": [],
   "source": [
    "# Arithmetic Operators\n",
    "\n",
    "x = 300 \n",
    "y = 200\n",
    "print()"
   ]
  }
 ],
 "metadata": {
  "kernelspec": {
   "display_name": "Python 3 (ipykernel)",
   "language": "python",
   "name": "python3"
  },
  "language_info": {
   "codemirror_mode": {
    "name": "ipython",
    "version": 3
   },
   "file_extension": ".py",
   "mimetype": "text/x-python",
   "name": "python",
   "nbconvert_exporter": "python",
   "pygments_lexer": "ipython3",
   "version": "3.9.7"
  }
 },
 "nbformat": 4,
 "nbformat_minor": 5
}
