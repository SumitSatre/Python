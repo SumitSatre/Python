{
 "cells": [
  {
   "cell_type": "code",
   "execution_count": 4,
   "id": "6613d108",
   "metadata": {},
   "outputs": [
    {
     "name": "stdout",
     "output_type": "stream",
     "text": [
      "Enter the number : 10\n",
      "The Sum of n natural numbers are 55\n",
      "The average of n natural numbers is 5.5\n"
     ]
    }
   ],
   "source": [
    "n = int(input(\"Enter the number : \"))\n",
    "sum = 0\n",
    "for i in range(1,n+1):\n",
    "    sum = sum + i\n",
    "    \n",
    "print(F\"The Sum of n natural numbers are {sum}\")\n",
    "print(F\"The average of n natural numbers is {sum/n}\")"
   ]
  },
  {
   "cell_type": "code",
   "execution_count": 7,
   "id": "97ec0d72",
   "metadata": {},
   "outputs": [
    {
     "name": "stdout",
     "output_type": "stream",
     "text": [
      "Enter the number : 5\n",
      "5 X 1 = 5\n",
      "5 X 2 = 10\n",
      "5 X 3 = 15\n",
      "5 X 4 = 20\n",
      "5 X 5 = 25\n",
      "5 X 6 = 30\n",
      "5 X 7 = 35\n",
      "5 X 8 = 40\n",
      "5 X 9 = 45\n",
      "5 X 10 = 50\n"
     ]
    }
   ],
   "source": [
    "# Write a program to print a multiplication table\n",
    "n = int(input(\"Enter the number : \"))\n",
    "\n",
    "for i in range(1,11):\n",
    "    print(F\"{n} X {i} = {n*i}\")"
   ]
  },
  {
   "cell_type": "code",
   "execution_count": 25,
   "id": "b7ba8fb9",
   "metadata": {},
   "outputs": [
    {
     "name": "stdout",
     "output_type": "stream",
     "text": [
      "Enter the number : 9\n",
      "It is not prime \n"
     ]
    }
   ],
   "source": [
    "# Write a program to classify a given number as a prime number\n",
    "composite = 2\n",
    "num = int(input(\"Enter the number : \"))\n",
    "for i in range(2,num):\n",
    "    if num%i==0:\n",
    "        composite = 1\n",
    "        break\n",
    "\n",
    "if composite == 1:\n",
    "    print(\"It is not prime \")\n",
    "        \n",
    "else:\n",
    "    print(\"It is  prime\")"
   ]
  },
  {
   "cell_type": "code",
   "execution_count": 31,
   "id": "a58d746e",
   "metadata": {},
   "outputs": [
    {
     "name": "stdout",
     "output_type": "stream",
     "text": [
      "Enter the number : 5\n",
      "Till which power to calculate ??  2\n",
      "5 Raised to 2 is 25\n"
     ]
    }
   ],
   "source": [
    "# Write a program to calculate the power\n",
    "\n",
    "num = int(input(\"Enter the number : \"))\n",
    "n = int(input(\"Till which power to calculate ??  \"))\n",
    "result = 1\n",
    "for i in range(1,n+1):\n",
    "    result = result *num\n",
    "    \n",
    "print(F\"{num} Raised to {n} is {result}\")\n",
    "    "
   ]
  },
  {
   "cell_type": "code",
   "execution_count": 33,
   "id": "b494036e",
   "metadata": {},
   "outputs": [
    {
     "name": "stdout",
     "output_type": "stream",
     "text": [
      "Enter the number : 5\n",
      "The sum is 1.4636111111111112\n"
     ]
    }
   ],
   "source": [
    "# Write a program to sum the series -- 1/1**2 + 1/2**2 + .......+ 1/n**2\n",
    " \n",
    "n = int(input(\"Enter the number : \"))\n",
    "s = 0\n",
    "for i in range(1,n+1):\n",
    "    num = 1 / (i**2)\n",
    "    s = s+ num\n",
    "\n",
    "print(F\"The sum is {s}\")"
   ]
  },
  {
   "cell_type": "code",
   "execution_count": null,
   "id": "2a828a86",
   "metadata": {},
   "outputs": [],
   "source": []
  }
 ],
 "metadata": {
  "kernelspec": {
   "display_name": "Python 3 (ipykernel)",
   "language": "python",
   "name": "python3"
  },
  "language_info": {
   "codemirror_mode": {
    "name": "ipython",
    "version": 3
   },
   "file_extension": ".py",
   "mimetype": "text/x-python",
   "name": "python",
   "nbconvert_exporter": "python",
   "pygments_lexer": "ipython3",
   "version": "3.9.7"
  }
 },
 "nbformat": 4,
 "nbformat_minor": 5
}
