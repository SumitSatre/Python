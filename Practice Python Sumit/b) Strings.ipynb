{
 "cells": [
  {
   "cell_type": "code",
   "execution_count": 39,
   "id": "be6cff5b",
   "metadata": {},
   "outputs": [
    {
     "name": "stdout",
     "output_type": "stream",
     "text": [
      "2\n",
      "False\n",
      "True\n",
      "True\n",
      "the sumit is very 🥰brave man\n"
     ]
    }
   ],
   "source": [
    "\n",
    "sumit = \"the sumit is very 🥰brave man\"\n",
    "\n",
    "print(sumit.count(\"t\"))\n",
    "\n",
    "print(sumit.endswith(\"good\"))\n",
    "print(sumit.endswith(\"man\"))\n",
    "\n",
    "print(sumit.startswith(\"the\"))\n",
    "\n",
    "sumit.find(\"sumit\")\n",
    "print(sumit)\n"
   ]
  },
  {
   "cell_type": "code",
   "execution_count": 29,
   "id": "50389e8b",
   "metadata": {},
   "outputs": [
    {
     "name": "stdout",
     "output_type": "stream",
     "text": [
      "tst\n",
      "The sumit\n"
     ]
    }
   ],
   "source": [
    "sumit = \"the sumit\"\n",
    "x =sumit[0:9:4]\n",
    "print(x)\n",
    "print(sumit.capitalize())\n"
   ]
  },
  {
   "cell_type": "code",
   "execution_count": 6,
   "id": "e2907cf4",
   "metadata": {},
   "outputs": [
    {
     "name": "stdout",
     "output_type": "stream",
     "text": [
      "message [0] = #\n",
      "message [1] = s\n",
      "message [2] = u\n",
      "message [3] = m\n",
      "message [4] = i\n",
      "message [5] = t\n"
     ]
    }
   ],
   "source": [
    "x = \"#sumit\"\n",
    "index = 0\n",
    "for i in x:\n",
    "    print(F\"message [{index}] = {i}\")\n",
    "    index= index + 1"
   ]
  },
  {
   "cell_type": "code",
   "execution_count": 9,
   "id": "a2e0d88d",
   "metadata": {},
   "outputs": [
    {
     "name": "stdout",
     "output_type": "stream",
     "text": [
      "Hello Sumit\n"
     ]
    }
   ],
   "source": [
    "str = \"Hello \"\n",
    "name = \"Sumit\"\n",
    "str += name\n",
    "print(str)"
   ]
  },
  {
   "cell_type": "code",
   "execution_count": 12,
   "id": "27014a2e",
   "metadata": {},
   "outputs": [
    {
     "name": "stdout",
     "output_type": "stream",
     "text": [
      "name = Sumit and age = 18 and Character = P\n"
     ]
    }
   ],
   "source": [
    "print(\"name = %s and age = %d and Character = %c\" %(\"Sumit\",18 ,'P'))"
   ]
  },
  {
   "cell_type": "code",
   "execution_count": 14,
   "id": "e0b95e6c",
   "metadata": {},
   "outputs": [
    {
     "data": {
      "text/plain": [
       "'00002003'"
      ]
     },
     "execution_count": 14,
     "metadata": {},
     "output_type": "execute_result"
    }
   ],
   "source": [
    "str = \"2003\"\n",
    "str.zfill(8)"
   ]
  },
  {
   "cell_type": "code",
   "execution_count": 16,
   "id": "f1c05f25",
   "metadata": {},
   "outputs": [
    {
     "name": "stdout",
     "output_type": "stream",
     "text": [
      "\n",
      "A \n",
      "A B \n",
      "A B C \n",
      "A B C D \n",
      "A B C D E \n",
      "A B C D E F "
     ]
    }
   ],
   "source": [
    "for i in range(1,7):\n",
    "    ch = 'A'\n",
    "    print()\n",
    "    for j in range(1,i+1):\n",
    "        print(ch, end = \" \")\n",
    "        ch = chr(ord(ch)+1)"
   ]
  }
 ],
 "metadata": {
  "kernelspec": {
   "display_name": "Python 3 (ipykernel)",
   "language": "python",
   "name": "python3"
  },
  "language_info": {
   "codemirror_mode": {
    "name": "ipython",
    "version": 3
   },
   "file_extension": ".py",
   "mimetype": "text/x-python",
   "name": "python",
   "nbconvert_exporter": "python",
   "pygments_lexer": "ipython3",
   "version": "3.9.7"
  }
 },
 "nbformat": 4,
 "nbformat_minor": 5
}
