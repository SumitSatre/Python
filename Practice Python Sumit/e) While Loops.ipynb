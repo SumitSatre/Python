{
 "cells": [
  {
   "cell_type": "code",
   "execution_count": 49,
   "id": "07386127",
   "metadata": {},
   "outputs": [
    {
     "name": "stdout",
     "output_type": "stream",
     "text": [
      "1 2 3 4 5 6 7 8 9 10 "
     ]
    }
   ],
   "source": [
    "# Program to print first 10 letters  a  while loop\n",
    "\n",
    "i =1 \n",
    "while i<11:\n",
    "    print(i , end = \" \")\n",
    "    i+=1"
   ]
  },
  {
   "cell_type": "code",
   "execution_count": 11,
   "id": "830734a1",
   "metadata": {},
   "outputs": [
    {
     "name": "stdout",
     "output_type": "stream",
     "text": [
      "10\t9\t8\t7\t6\t5\t4\t3\t2\t1\t"
     ]
    }
   ],
   "source": [
    "# Program to print first 10 letters  a  while loop and also tab\n",
    "\n",
    "i =10\n",
    "while i>=1:\n",
    "    print(i ,end= \"\\t\")\n",
    "    i+=-1"
   ]
  },
  {
   "cell_type": "code",
   "execution_count": 12,
   "id": "040e6495",
   "metadata": {},
   "outputs": [
    {
     "name": "stdout",
     "output_type": "stream",
     "text": [
      "The sum of first 10 numbes is 55\n",
      "The average of first 10 numbes is 5.5\n"
     ]
    }
   ],
   "source": [
    "# write a program to sum and average of first 10 numbers \n",
    "\n",
    "i=1\n",
    "sum = 0\n",
    "while i<=10:\n",
    "    sum = sum +i\n",
    "    i = i+1\n",
    "\n",
    "avg = sum / 10\n",
    "print(f\"The sum of first 10 numbes is {sum}\")\n",
    "print(f\"The average of first 10 numbes is {avg}\")"
   ]
  },
  {
   "cell_type": "code",
   "execution_count": 14,
   "id": "ed51b40e",
   "metadata": {},
   "outputs": [
    {
     "name": "stdout",
     "output_type": "stream",
     "text": [
      "********************"
     ]
    }
   ],
   "source": [
    "# Write a program to print 20 horizontal asterisks (*)\n",
    "\n",
    "i = 1\n",
    "while i<21:\n",
    "    print(\"*\" , end = \"\")\n",
    "    i = i+1\n"
   ]
  },
  {
   "cell_type": "code",
   "execution_count": 17,
   "id": "05f18670",
   "metadata": {},
   "outputs": [
    {
     "name": "stdout",
     "output_type": "stream",
     "text": [
      "Enter the starting number : 1\n",
      "Enter the ending number : 10\n",
      "The sum of first 10 numbes is 55\n"
     ]
    }
   ],
   "source": [
    "# Write a program to find sum of numbers m to n\n",
    "\n",
    "m = int(input(\"Enter the starting number : \"))\n",
    "n = int(input(\"Enter the ending number : \"))\n",
    "i=m\n",
    "sum = 0\n",
    "\n",
    "while i<=n:\n",
    "    sum = sum +i\n",
    "    i = i +1\n",
    "\n",
    "print(f\"The sum of first 10 numbes is {sum}\")"
   ]
  },
  {
   "cell_type": "code",
   "execution_count": 29,
   "id": "39581f67",
   "metadata": {},
   "outputs": [
    {
     "name": "stdout",
     "output_type": "stream",
     "text": [
      "To stop the loop enter the -1 number \n",
      "Enter the number : 46\n",
      "Enter the number : -56\n",
      "Enter the number : 0\n",
      "Enter the number : 59\n",
      "Enter the number : -556\n",
      "Enter the number : 0\n",
      "Enter the number : -1\n",
      "The positive numbers are 2\n",
      "The positive numbers are 2\n",
      "The positive numbers are 2\n"
     ]
    }
   ],
   "source": [
    "\n",
    "pos=neg=ze = 0\n",
    "print(\"To stop the loop enter the -1 number \")\n",
    "while 2:\n",
    "    num = int(input(\"Enter the number : \"))\n",
    "    if num == -1:\n",
    "        break\n",
    "    elif num>0:\n",
    "        pos = pos + 1\n",
    "    \n",
    "    elif num<0:\n",
    "        neg = neg + 1\n",
    "    \n",
    "    else:\n",
    "        ze = ze +1\n",
    "    i = i+1\n",
    "    \n",
    "\n",
    "print(f\"The positive numbers are {pos}\")\n",
    "print(f\"The positive numbers are {neg}\")\n",
    "print(f\"The positive numbers are {ze}\")"
   ]
  },
  {
   "cell_type": "code",
   "execution_count": 45,
   "id": "8817be06",
   "metadata": {},
   "outputs": [
    {
     "name": "stdout",
     "output_type": "stream",
     "text": [
      "To stop the loop enter the -1 number \n",
      "Enter the number : 12\n",
      "Enter the number : 13\n",
      "Enter the number : 14\n",
      "Enter the number : -16\n",
      "Enter the number : -17\n",
      "Enter the number : -18\n",
      "Enter the number : -1\n",
      "The positive numbers are 3\n",
      "The negative numbers are 3\n",
      "The average of positive numbers are 13.0\n",
      "The average of negative numbers are -17.0\n"
     ]
    }
   ],
   "source": [
    "'''Write a program to read the numbers until -1 is encounterd .\n",
    "find the average of positive number and negative numbers entered by the user'''\n",
    "\n",
    "pos=neg=ze = 0\n",
    "pos_total = neg_total = 0\n",
    "print(\"To stop the loop enter the -1 number \")\n",
    "while 2:\n",
    "    num = int(input(\"Enter the number : \"))\n",
    "    if num == -1:\n",
    "        break\n",
    "    elif num>0:\n",
    "        pos = pos + 1\n",
    "        num1 = num \n",
    "        pos_total = pos_total + num1\n",
    "    \n",
    "    elif num<0:\n",
    "        neg = neg + 1\n",
    "        num2 = num\n",
    "        neg_total = neg_total + num2 \n",
    "    i = i+1\n",
    "    \n",
    "pos_avg=  pos_total / pos\n",
    "neg_avg = neg_total / neg\n",
    "\n",
    "print(f\"The positive numbers are {pos}\")\n",
    "print(f\"The negative numbers are {neg}\")\n",
    "\n",
    "\n",
    "print(F\"The average of positive numbers are {pos_avg}\")\n",
    "print(F\"The average of negative numbers are {neg_avg}\")"
   ]
  },
  {
   "cell_type": "code",
   "execution_count": 46,
   "id": "d7cea7c2",
   "metadata": {},
   "outputs": [
    {
     "name": "stdout",
     "output_type": "stream",
     "text": [
      "Enter the number : 12\n",
      "To stop the loop enter the -1 number \n",
      "Enter the number : 13\n",
      "Enter the number : 14\n",
      "Enter the number : -16\n",
      "Enter the number : -17\n",
      "Enter the number : -18\n",
      "Enter the number : -1\n",
      "The positive numbers are 3\n",
      "The negative numbers are 3\n",
      "The average of positive numbers are 13.0\n",
      "The average of negative numbers are -17.0\n"
     ]
    }
   ],
   "source": [
    "# Above quetion by book method\n",
    "\n",
    "pos=neg= 0\n",
    "pos_total = neg_total = 0\n",
    "num = int(input(\"Enter the number : \"))\n",
    "print(\"To stop the loop enter the -1 number \")\n",
    "while num!=-1:\n",
    "    if num>0:\n",
    "        pos = pos + 1\n",
    "        pos_total = pos_total + num\n",
    "    \n",
    "    else:\n",
    "        neg = neg + 1\n",
    "        neg_total = neg_total + num\n",
    "    i = i+1\n",
    "    num = int(input(\"Enter the number : \"))\n",
    "    \n",
    "pos_avg=  float(pos_total) / pos\n",
    "neg_avg = float(neg_total)/ neg\n",
    "\n",
    "print(f\"The positive numbers are {pos}\")\n",
    "print(f\"The negative numbers are {neg}\")\n",
    "\n",
    "\n",
    "print(F\"The average of positive numbers are {pos_avg}\")\n",
    "print(F\"The average of negative numbers are {neg_avg}\")"
   ]
  },
  {
   "cell_type": "code",
   "execution_count": null,
   "id": "649d565a",
   "metadata": {},
   "outputs": [],
   "source": [
    "uppercase = lowercase = num = 0\n",
    "print(\"To exit loop press a .....\")\n",
    "char = input(\"Enter the character : \")\n",
    "while char!='a':\n",
    "    if char>='A' and char<='Z' :\n",
    "        uppercase = uppercase + 1\n",
    "        \n",
    "    elif char>='a' and char<='z':\n",
    "        lowercase = lowercase + 1\n",
    "        \n",
    "    elif char>='1' and char<='9':\n",
    "        num = num +1\n",
    "        \n",
    "    char =input(\"Enter the character : \")\n",
    "    i=i+1\n",
    "\n",
    "print(f\"The uppercase characters are : {uppercase}\")\n",
    "print(f\"The uppercase characters are : {lowercase}\")\n",
    "print(f\"The Numbers are : {int(num)}\")"
   ]
  },
  {
   "cell_type": "code",
   "execution_count": 74,
   "id": "8f52a00d",
   "metadata": {},
   "outputs": [
    {
     "name": "stdout",
     "output_type": "stream",
     "text": [
      "Enter the number : 123\n",
      "3  2  1  "
     ]
    }
   ],
   "source": [
    "# write a program to print the reverse of the number \n",
    "num = int(input(\"Enter the number : \"))\n",
    "\n",
    "while num!=0:\n",
    "    last = num%10\n",
    "    print(last , end = \"  \")\n",
    "    num = num//10"
   ]
  },
  {
   "cell_type": "code",
   "execution_count": 75,
   "id": "169cddf0",
   "metadata": {},
   "outputs": [
    {
     "name": "stdout",
     "output_type": "stream",
     "text": [
      "Enter the number : 1234\n",
      "The sum of the functions is 10\n"
     ]
    }
   ],
   "source": [
    "num = int(input(\"Enter the number : \"))\n",
    "sum = 0\n",
    "while num!= 0 :\n",
    "    last = num % 10\n",
    "    sum = last + sum \n",
    "    num = num // 10\n",
    "    \n",
    "print(f\"The sum of the functions is {sum}\")"
   ]
  },
  {
   "cell_type": "code",
   "execution_count": 96,
   "id": "a4ae07e2",
   "metadata": {
    "scrolled": true
   },
   "outputs": [
    {
     "name": "stdout",
     "output_type": "stream",
     "text": [
      "Enter the number : 5\n",
      "The factorial of 5 is 120\n"
     ]
    }
   ],
   "source": [
    "factorial =i= 1\n",
    "num = int(input(\"Enter the number : \"))\n",
    "while i<=num:\n",
    "    factorial = factorial * i\n",
    "    i+=1\n",
    "    \n",
    "print(F\"The factorial of {num} is {factorial}\")\n",
    "    \n"
   ]
  },
  {
   "cell_type": "code",
   "execution_count": 4,
   "id": "fb6dc7be",
   "metadata": {},
   "outputs": [
    {
     "name": "stdout",
     "output_type": "stream",
     "text": [
      "Enter the number : 10\n",
      "10   9   8   7   6   5   4   3   2   1   0   "
     ]
    }
   ],
   "source": [
    "num = int(input(\"Enter the number : \"))\n",
    "while num>=0:\n",
    "    print(num , end = \"   \")\n",
    "    num = num - 1"
   ]
  },
  {
   "cell_type": "code",
   "execution_count": 7,
   "id": "ffa74f02",
   "metadata": {},
   "outputs": [
    {
     "name": "stdout",
     "output_type": "stream",
     "text": [
      "Enter the number : 123456\n",
      "6  5  4  3  2  1  "
     ]
    }
   ],
   "source": [
    "num = int(input(\"Enter the number : \"))\n",
    "while num!=0:\n",
    "    re = num % 10\n",
    "    print(re , end = \"  \")\n",
    "    num = num // 10"
   ]
  },
  {
   "cell_type": "code",
   "execution_count": null,
   "id": "b847e1b3",
   "metadata": {},
   "outputs": [],
   "source": []
  }
 ],
 "metadata": {
  "kernelspec": {
   "display_name": "Python 3 (ipykernel)",
   "language": "python",
   "name": "python3"
  },
  "language_info": {
   "codemirror_mode": {
    "name": "ipython",
    "version": 3
   },
   "file_extension": ".py",
   "mimetype": "text/x-python",
   "name": "python",
   "nbconvert_exporter": "python",
   "pygments_lexer": "ipython3",
   "version": "3.9.7"
  }
 },
 "nbformat": 4,
 "nbformat_minor": 5
}
