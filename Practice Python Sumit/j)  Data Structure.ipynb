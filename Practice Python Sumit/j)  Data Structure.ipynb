{
 "cells": [
  {
   "cell_type": "markdown",
   "id": "d999874f",
   "metadata": {},
   "source": [
    "# List is Mutable which means that value of its elements can be changed\n",
    "\n",
    "# "
   ]
  },
  {
   "cell_type": "code",
   "execution_count": 2,
   "id": "cb96030b",
   "metadata": {},
   "outputs": [
    {
     "name": "stdout",
     "output_type": "stream",
     "text": [
      "[56, 4, 23, 52]\n",
      "[3, 23, 45]\n"
     ]
    }
   ],
   "source": [
    "a = [56,12,3,4,2,4,23,46,21,52,45]\n",
    "print(a[::3])\n",
    "\n",
    "print(a[2::4])"
   ]
  },
  {
   "cell_type": "code",
   "execution_count": 10,
   "id": "be9bd124",
   "metadata": {},
   "outputs": [
    {
     "name": "stdout",
     "output_type": "stream",
     "text": [
      "[56, 12, 3, 4, 2, 4, 23, 46, 21, 52, 45, 99]\n"
     ]
    }
   ],
   "source": [
    "# To add the values in the list\n",
    "a = [56,12,3,4,2,4,23,46,21,52,45]\n",
    "\n",
    "a.append(99)\n",
    "print(a)"
   ]
  },
  {
   "cell_type": "code",
   "execution_count": 20,
   "id": "7ffc6594",
   "metadata": {},
   "outputs": [
    {
     "data": {
      "text/plain": [
       "[56, 12, 3]"
      ]
     },
     "execution_count": 20,
     "metadata": {},
     "output_type": "execute_result"
    }
   ],
   "source": [
    "# To removes the values from the list\n",
    "\n",
    "a = [56,12,3,4,2,4,23,76,21,52,45]\n",
    "\n",
    "a.remove(45)\n",
    "\n",
    "a.pop(-1)\n",
    "\n",
    "del a[-1]\n",
    "del a[3:]\n",
    "a"
   ]
  },
  {
   "cell_type": "code",
   "execution_count": 21,
   "id": "1437c469",
   "metadata": {},
   "outputs": [
    {
     "name": "stdout",
     "output_type": "stream",
     "text": [
      "56\n",
      "12\n",
      "3\n",
      "4\n",
      "[2, 4, 23, 76, 21]\n",
      "52\n",
      "45\n"
     ]
    }
   ],
   "source": [
    "a = [56,12,3,4,[2,4,23,76,21],52,45]\n",
    "for value in a :\n",
    "    print(value)"
   ]
  },
  {
   "cell_type": "code",
   "execution_count": 22,
   "id": "fb1939f4",
   "metadata": {},
   "outputs": [
    {
     "data": {
      "text/plain": [
       "11"
      ]
     },
     "execution_count": 22,
     "metadata": {},
     "output_type": "execute_result"
    }
   ],
   "source": [
    "# len() is used to know how many characters in list \n",
    "a = [56,12,3,4,2,4,23,76,21,52,45]\n",
    "\n",
    "len(a)"
   ]
  },
  {
   "cell_type": "code",
   "execution_count": 24,
   "id": "43e1b096",
   "metadata": {},
   "outputs": [
    {
     "name": "stdout",
     "output_type": "stream",
     "text": [
      "[56, 12, 3, 4, 2, 4, 23, 76, 21, 52, 45, 98, 97, 96, 95]\n"
     ]
    }
   ],
   "source": [
    "a = [56,12,3,4,2,4,23,76,21,52,45]\n",
    "b = [98,97,96,95]\n",
    "c = a + b\n",
    "print(c)"
   ]
  },
  {
   "cell_type": "code",
   "execution_count": 28,
   "id": "a1467aec",
   "metadata": {},
   "outputs": [
    {
     "name": "stdout",
     "output_type": "stream",
     "text": [
      "Yes\n"
     ]
    }
   ],
   "source": [
    "a = [56,12,3,4,2,4,23,76,21,52,45]\n",
    "\n",
    "if 56 in a:\n",
    "    print(\"Yes\")\n",
    "\n",
    "if 56 not in a:\n",
    "    print(\"No\")"
   ]
  },
  {
   "cell_type": "code",
   "execution_count": 31,
   "id": "0c53c4ef",
   "metadata": {},
   "outputs": [
    {
     "name": "stdout",
     "output_type": "stream",
     "text": [
      "76\n",
      "2\n",
      "298\n"
     ]
    }
   ],
   "source": [
    "a = [56,12,3,4,2,4,23,76,21,52,45]\n",
    "\n",
    "print(max(a))\n",
    "print(min(a))\n",
    "print(sum(a))\n"
   ]
  },
  {
   "cell_type": "code",
   "execution_count": 40,
   "id": "33a2e83e",
   "metadata": {},
   "outputs": [
    {
     "name": "stdout",
     "output_type": "stream",
     "text": [
      "[3, 4, 5, 6, 7, 8]\n"
     ]
    },
    {
     "data": {
      "text/plain": [
       "[3, 4, 5, 6, 7, 8]"
      ]
     },
     "execution_count": 40,
     "metadata": {},
     "output_type": "execute_result"
    }
   ],
   "source": [
    "t = (3,4,5,6,7,8)\n",
    "l = list(t)\n",
    "print(l)\n",
    "sorted(l)"
   ]
  },
  {
   "cell_type": "code",
   "execution_count": 46,
   "id": "ce767988",
   "metadata": {},
   "outputs": [
    {
     "name": "stdout",
     "output_type": "stream",
     "text": [
      "List =  [0, 1, 2, 3, 4, 5, 6, 7, 8, 9, 10]\n",
      "Even =  [0, 2, 4, 6, 8, 10]\n",
      "Odd =  [1, 3, 5, 7, 9]\n"
     ]
    }
   ],
   "source": [
    "a = []\n",
    "for i in range(11):\n",
    "    a.append(i)\n",
    "print('List = ',a)\n",
    "\n",
    "even = []\n",
    "odd = []\n",
    "\n",
    "for j in range(len(a)):\n",
    "    if j%2==0:\n",
    "        even.append(j)\n",
    "    else:\n",
    "        odd.append(j)\n",
    "\n",
    "print(\"Even = \" ,even)\n",
    "print(\"Odd = \" , odd)"
   ]
  },
  {
   "cell_type": "code",
   "execution_count": null,
   "id": "04f625ed",
   "metadata": {},
   "outputs": [],
   "source": []
  }
 ],
 "metadata": {
  "kernelspec": {
   "display_name": "Python 3 (ipykernel)",
   "language": "python",
   "name": "python3"
  },
  "language_info": {
   "codemirror_mode": {
    "name": "ipython",
    "version": 3
   },
   "file_extension": ".py",
   "mimetype": "text/x-python",
   "name": "python",
   "nbconvert_exporter": "python",
   "pygments_lexer": "ipython3",
   "version": "3.9.7"
  }
 },
 "nbformat": 4,
 "nbformat_minor": 5
}
