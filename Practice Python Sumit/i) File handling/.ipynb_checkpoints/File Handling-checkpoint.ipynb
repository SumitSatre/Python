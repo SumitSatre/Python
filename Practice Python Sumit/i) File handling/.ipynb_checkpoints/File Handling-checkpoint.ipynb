{
 "cells": [
  {
   "cell_type": "markdown",
   "id": "c4a084e8",
   "metadata": {},
   "source": [
    "# By Simple Method of fike handling"
   ]
  },
  {
   "cell_type": "code",
   "execution_count": 5,
   "id": "afbaf629",
   "metadata": {},
   "outputs": [
    {
     "name": "stdout",
     "output_type": "stream",
     "text": [
      "My name is Sumit.\n",
      "I am in first year. \n",
      "i am 18 year old .\n"
     ]
    }
   ],
   "source": [
    "file = open(\"sumit\" , 'r')\n",
    "data = file.read()\n",
    "print(data)\n",
    "file.close()"
   ]
  },
  {
   "cell_type": "code",
   "execution_count": 70,
   "id": "24cbd5e4",
   "metadata": {},
   "outputs": [
    {
     "name": "stdout",
     "output_type": "stream",
     "text": [
      "My name is Sumit.\n",
      "\n",
      "I am in first year. \n",
      "\n"
     ]
    }
   ],
   "source": [
    "file = open(\"sumit\" , 'r')\n",
    "\n",
    "data = file.readline()\n",
    "print(data)\n",
    "\n",
    "data = file.readline()\n",
    "print(data)\n",
    "\n",
    "file.close()"
   ]
  },
  {
   "cell_type": "code",
   "execution_count": 40,
   "id": "30dafbbb",
   "metadata": {},
   "outputs": [],
   "source": [
    "file = open(\"sumit op\" , 'w')\n",
    "file.write(\"Sumit live in pune . \\n He is very talented. \\n He is very honeest\")\n",
    "file.close()"
   ]
  },
  {
   "cell_type": "code",
   "execution_count": 41,
   "id": "eb3b8e22",
   "metadata": {},
   "outputs": [],
   "source": [
    "file = open(\"sumit op\" , 'a')\n",
    "file.write(\"\\nHe Passed out 12th from Garware college.\")\n",
    "file.close()"
   ]
  },
  {
   "cell_type": "markdown",
   "id": "f2d7e166",
   "metadata": {},
   "source": [
    "# By with as method"
   ]
  },
  {
   "cell_type": "code",
   "execution_count": 19,
   "id": "4aaabdde",
   "metadata": {},
   "outputs": [
    {
     "name": "stdout",
     "output_type": "stream",
     "text": [
      "My name is Sumit.\n",
      "I am in first year. \n",
      "i am 18 year old .\n",
      "\n"
     ]
    }
   ],
   "source": [
    "with open('sumit' , 'r') as f:\n",
    "    data = f.read()\n",
    "    print(data)"
   ]
  },
  {
   "cell_type": "code",
   "execution_count": 28,
   "id": "779af176",
   "metadata": {},
   "outputs": [],
   "source": [
    "for i in range(2,6):\n",
    "    with open(f\"multication table of {i}\" , 'w') as f:\n",
    "        f.write(F\"This is The Table of {i}\\n\")\n",
    "        for j in range(1,11):\n",
    "            f.write(f\"{i} X {j} = {i*j}\\n\")"
   ]
  },
  {
   "cell_type": "code",
   "execution_count": 32,
   "id": "2cea5044",
   "metadata": {},
   "outputs": [],
   "source": [
    "for i in range(2,6):\n",
    "    with open(f\"multication_table_of_{i}\" , 'a') as f:\n",
    "        f.write(F\"This is The Table of {i}\\n\")\n",
    "    for j in range(1,11):\n",
    "        with open(f\"multication_table_of_{i}\" , 'a') as f:\n",
    "            f.write(f\"{i} X {j} = {i*j}\\n\")\n",
    "            \n",
    "    "
   ]
  },
  {
   "cell_type": "code",
   "execution_count": 48,
   "id": "ff65be72",
   "metadata": {},
   "outputs": [
    {
     "name": "stdout",
     "output_type": "stream",
     "text": [
      "['My', 'name', 'is', 'Sumit.']\n",
      "['I', 'am', 'in', 'first', 'year.']\n"
     ]
    }
   ],
   "source": [
    "with open(\"sumit\" , \"r\") as file:\n",
    "    data = file.readline()\n",
    "    data2 = file.readline()\n",
    "    print(data.split())\n",
    "    print(data2.split())\n"
   ]
  },
  {
   "cell_type": "code",
   "execution_count": 74,
   "id": "953a3ded",
   "metadata": {},
   "outputs": [
    {
     "name": "stdout",
     "output_type": "stream",
     "text": [
      "\n"
     ]
    }
   ],
   "source": [
    "with open('sumit' , 'a') as f:\n",
    "    print()\n",
    "    f.writelines([\"\\n\",\"sumit\",\"saurabh\",\"Aditya\"])\n",
    "    "
   ]
  },
  {
   "cell_type": "code",
   "execution_count": 67,
   "id": "f110aed9",
   "metadata": {
    "scrolled": false
   },
   "outputs": [
    {
     "name": "stdout",
     "output_type": "stream",
     "text": [
      "03/22 08:51:02 INFO   :..python is not working\n",
      "\n",
      "python is present in the line 12\n",
      "03/22 08:51:06 INFO   :...Python is not working\n",
      "\n",
      "python is present in the line 25\n",
      "03/22 08:51:11 INFO   :...Python is not working\n",
      "\n",
      "python is present in the line 81\n"
     ]
    }
   ],
   "source": [
    "i=1\n",
    "content = True\n",
    "with open(\"log file\" , \"r\") as file:\n",
    "    while content:\n",
    "        content = file.readline()\n",
    "        \n",
    "        if \"python\" in content.lower():\n",
    "            print(content)\n",
    "            print(f\"python is present in the line {i}\")\n",
    "        i+=1\n"
   ]
  },
  {
   "cell_type": "code",
   "execution_count": 81,
   "id": "aa3316b7",
   "metadata": {},
   "outputs": [
    {
     "ename": "FileNotFoundError",
     "evalue": "[WinError 2] The system cannot find the file specified: 'Sumit3'",
     "output_type": "error",
     "traceback": [
      "\u001b[1;31m---------------------------------------------------------------------------\u001b[0m",
      "\u001b[1;31mFileNotFoundError\u001b[0m                         Traceback (most recent call last)",
      "\u001b[1;32m~\\AppData\\Local\\Temp/ipykernel_45548/637450225.py\u001b[0m in \u001b[0;36m<module>\u001b[1;34m\u001b[0m\n\u001b[0;32m      6\u001b[0m \u001b[1;33m\u001b[0m\u001b[0m\n\u001b[0;32m      7\u001b[0m \u001b[1;32mimport\u001b[0m \u001b[0mos\u001b[0m\u001b[1;33m\u001b[0m\u001b[1;33m\u001b[0m\u001b[0m\n\u001b[1;32m----> 8\u001b[1;33m \u001b[0mos\u001b[0m\u001b[1;33m.\u001b[0m\u001b[0mremove\u001b[0m\u001b[1;33m(\u001b[0m\u001b[1;34m'Sumit3'\u001b[0m\u001b[1;33m)\u001b[0m\u001b[1;33m\u001b[0m\u001b[1;33m\u001b[0m\u001b[0m\n\u001b[0m",
      "\u001b[1;31mFileNotFoundError\u001b[0m: [WinError 2] The system cannot find the file specified: 'Sumit3'"
     ]
    }
   ],
   "source": [
    "with open('sumit' , 'r') as f:\n",
    "    data = f.read()\n",
    "\n",
    "with open('Aplhabate' , 'w') as file2:\n",
    "    file2.write(data)\n",
    "\n",
    "import os\n",
    "os.remove('Sumit3')\n"
   ]
  },
  {
   "cell_type": "code",
   "execution_count": null,
   "id": "71e6bf2b",
   "metadata": {},
   "outputs": [],
   "source": []
  }
 ],
 "metadata": {
  "kernelspec": {
   "display_name": "Python 3 (ipykernel)",
   "language": "python",
   "name": "python3"
  },
  "language_info": {
   "codemirror_mode": {
    "name": "ipython",
    "version": 3
   },
   "file_extension": ".py",
   "mimetype": "text/x-python",
   "name": "python",
   "nbconvert_exporter": "python",
   "pygments_lexer": "ipython3",
   "version": "3.9.7"
  }
 },
 "nbformat": 4,
 "nbformat_minor": 5
}
