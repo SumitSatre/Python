{
 "cells": [
  {
   "cell_type": "code",
   "execution_count": 21,
   "id": "6887d3b8",
   "metadata": {},
   "outputs": [
    {
     "name": "stdout",
     "output_type": "stream",
     "text": [
      "sumit 12 12345  satre "
     ]
    }
   ],
   "source": [
    "#Create your own print Function\n",
    "\n",
    "def print1(*x):\n",
    "    for i in x:\n",
    "        print(i , end = \" \")\n",
    "        \n",
    "x=12\n",
    "print1(\"sumit\"  , x , 12345 , \" satre\" , )"
   ]
  },
  {
   "cell_type": "code",
   "execution_count": 2,
   "id": "95935906",
   "metadata": {},
   "outputs": [
    {
     "name": "stdout",
     "output_type": "stream",
     "text": [
      "35\n"
     ]
    }
   ],
   "source": [
    "def add(*values):\n",
    "    sum=0\n",
    "    for i in values:\n",
    "        sum = sum + i\n",
    "    print(sum)\n",
    "    \n",
    "add(10+12+13)"
   ]
  },
  {
   "cell_type": "code",
   "execution_count": 3,
   "id": "f429b525",
   "metadata": {},
   "outputs": [
    {
     "name": "stdout",
     "output_type": "stream",
     "text": [
      "The Subtraction of the numbers  is 5\n",
      "\n",
      "The Subtraction of the numbers  is -61059\n"
     ]
    }
   ],
   "source": [
    "# Program that subtract two numbers using funtion . \n",
    "\n",
    "def diff(x,y):\n",
    "    print(f\"The Subtraction of the numbers  is {x-y}\")\n",
    "    \n",
    "diff(8,3)\n",
    "print()\n",
    "diff(3674,64733)"
   ]
  },
  {
   "cell_type": "code",
   "execution_count": 6,
   "id": "469a81ba",
   "metadata": {},
   "outputs": [
    {
     "name": "stdout",
     "output_type": "stream",
     "text": [
      "hello\n"
     ]
    }
   ],
   "source": [
    "def func(str):\n",
    "    print(str)\n",
    "    \n",
    "func(\"hello\")"
   ]
  },
  {
   "cell_type": "code",
   "execution_count": 9,
   "id": "1c25fb41",
   "metadata": {},
   "outputs": [
    {
     "name": "stdout",
     "output_type": "stream",
     "text": [
      "Enter the starting number : 12\n",
      "Enter the ending number : 46\n",
      "The addition of the numbers is 58\n"
     ]
    }
   ],
   "source": [
    "def add(a,b):\n",
    "    print(f\"The addition of the numbers is {a+b}\")\n",
    "    \n",
    "m = int(input(\"Enter the starting number : \"))\n",
    "n = int(input(\"Enter the ending number : \"))\n",
    "\n",
    "add(m,n)"
   ]
  },
  {
   "cell_type": "code",
   "execution_count": 1,
   "id": "18a051aa",
   "metadata": {},
   "outputs": [
    {
     "name": "stdout",
     "output_type": "stream",
     "text": [
      "The cube of the number is  27\n"
     ]
    }
   ],
   "source": [
    "# find cube\n",
    "def cube(x):\n",
    "    return x*x*x\n",
    "a = 3\n",
    "result = cube\n",
    "print(\"The cube of the number is \" , result(a) )"
   ]
  },
  {
   "cell_type": "code",
   "execution_count": 14,
   "id": "e6ce5646",
   "metadata": {},
   "outputs": [
    {
     "name": "stdout",
     "output_type": "stream",
     "text": [
      "The inner function  30\n",
      "The outer function  20\n",
      "10\n"
     ]
    }
   ],
   "source": [
    "x= 10\n",
    "\n",
    "def func():\n",
    "    x = 20 \n",
    "    def inner_func():\n",
    "        x=30\n",
    "        print(\"The inner function \" , x)\n",
    "    \n",
    "    inner_func()\n",
    "    print(\"The outer function \" , x)\n",
    "    \n",
    "func()\n",
    "    \n",
    "print(x)"
   ]
  },
  {
   "cell_type": "code",
   "execution_count": 5,
   "id": "cf0687d9",
   "metadata": {},
   "outputs": [
    {
     "name": "stdout",
     "output_type": "stream",
     "text": [
      "The inner function  30\n",
      "The outer function  20\n",
      "20\n"
     ]
    }
   ],
   "source": [
    "x= 10\n",
    "\n",
    "def func():\n",
    "    global x\n",
    "    x = 20 \n",
    "    def inner_func():\n",
    "        x=30\n",
    "        print(\"The inner function \" , x)\n",
    "    \n",
    "    inner_func()\n",
    "    print(\"The outer function \" , x)\n",
    "    \n",
    "func()\n",
    "    \n",
    "print(x)"
   ]
  },
  {
   "cell_type": "code",
   "execution_count": 10,
   "id": "755e2d30",
   "metadata": {},
   "outputs": [
    {
     "name": "stdout",
     "output_type": "stream",
     "text": [
      "The inner function  Aditya\n",
      "The outer function  Saurabh\n",
      "Saurabh\n"
     ]
    }
   ],
   "source": [
    "name = \"Sumit\"\n",
    "\n",
    "def func():\n",
    "    global name\n",
    "    name = \"Saurabh\" \n",
    "    def inner_func():\n",
    "        name = \"Aditya\"\n",
    "        print(\"The inner function \" , name)\n",
    "    \n",
    "    inner_func()\n",
    "    print(\"The outer function \" , name)\n",
    "    \n",
    "func()\n",
    "    \n",
    "print(name)"
   ]
  },
  {
   "cell_type": "code",
   "execution_count": 35,
   "id": "87feaa3c",
   "metadata": {},
   "outputs": [
    {
     "name": "stdout",
     "output_type": "stream",
     "text": [
      "10\n",
      "20\n"
     ]
    }
   ],
   "source": [
    "a = 10\n",
    "def f():\n",
    "    print(a)\n",
    "    b = 20\n",
    "    print(b)\n",
    "   \n",
    "f()"
   ]
  },
  {
   "cell_type": "code",
   "execution_count": 38,
   "id": "ffbb2f5d",
   "metadata": {},
   "outputs": [
    {
     "name": "stdout",
     "output_type": "stream",
     "text": [
      "10\n",
      "20\n"
     ]
    }
   ],
   "source": [
    "a = 10\n",
    "def f():\n",
    "    global a\n",
    "    print(a)\n",
    "    a = 20\n",
    "    print(a)\n",
    "   \n",
    "f()"
   ]
  },
  {
   "cell_type": "code",
   "execution_count": 36,
   "id": "861469bf",
   "metadata": {},
   "outputs": [
    {
     "name": "stdout",
     "output_type": "stream",
     "text": [
      "The inner function  Aditya\n",
      "The outer function  Aditya\n",
      "Aditya\n"
     ]
    }
   ],
   "source": [
    "name = \"Sumit\"\n",
    "\n",
    "def func():\n",
    "    def inner_func():\n",
    "        global name\n",
    "        name = \"Aditya\"\n",
    "        print(\"The inner function \" , name)\n",
    "    \n",
    "    inner_func()\n",
    "    print(\"The outer function \" , name)\n",
    "    \n",
    "func()\n",
    "    \n",
    "print(name)"
   ]
  },
  {
   "cell_type": "code",
   "execution_count": 52,
   "id": "643c987f",
   "metadata": {},
   "outputs": [
    {
     "name": "stdout",
     "output_type": "stream",
     "text": [
      "The Sumit whos age is 20 have salary 50,000\n"
     ]
    }
   ],
   "source": [
    "def func(name,salary= \"50,000\" , age = \"20\"):\n",
    "    print(F\"The {name} whos age is {age} have salary {salary}\")\n",
    "    \n",
    "func(\"Sumit\" )"
   ]
  },
  {
   "cell_type": "code",
   "execution_count": 2,
   "id": "b3c2fdff",
   "metadata": {},
   "outputs": [
    {
     "name": "stdout",
     "output_type": "stream",
     "text": [
      "The Sumit whos age is 19 have salary 30,000\n"
     ]
    }
   ],
   "source": [
    "def func(name,salary, age):\n",
    "    print(F\"The {name} whos age is {age} have salary {salary}\")\n",
    "    \n",
    "func( salary = \"30,000\" , name=\"Sumit\" ,age = 19 )"
   ]
  },
  {
   "cell_type": "code",
   "execution_count": 5,
   "id": "97c3abf6",
   "metadata": {},
   "outputs": [
    {
     "name": "stdout",
     "output_type": "stream",
     "text": [
      "Multiplication is 24\n"
     ]
    }
   ],
   "source": [
    "mul = lambda x,y,z : x*y*z\n",
    "print(\"Multiplication is\" , mul(4,3,2))"
   ]
  },
  {
   "cell_type": "code",
   "execution_count": 9,
   "id": "1af1373e",
   "metadata": {},
   "outputs": [
    {
     "name": "stdout",
     "output_type": "stream",
     "text": [
      "Enter the starting number : 12\n",
      "Enter the ending number : 13\n",
      "13 is greater.\n"
     ]
    }
   ],
   "source": [
    "def check_relation(n1,n2):\n",
    "    if n1==n2:\n",
    "        return print(F\"Numbers are equal.\")\n",
    "    elif n1>n2:\n",
    "        return print(F\"{n1} is greater.\")\n",
    "    else:\n",
    "        return print(F\"{n2} is greater.\")\n",
    "    \n",
    "n1 = int(input(\"Enter the starting number : \"))\n",
    "n2 = int(input(\"Enter the ending number : \"))\n",
    "\n",
    "check_relation(n1,n2)"
   ]
  },
  {
   "cell_type": "code",
   "execution_count": 14,
   "id": "cab3d36c",
   "metadata": {},
   "outputs": [
    {
     "name": "stdout",
     "output_type": "stream",
     "text": [
      "3 is odd \n",
      "4 is even \n",
      "29 is odd \n"
     ]
    }
   ],
   "source": [
    "def even_odd(a):\n",
    "    if a%2==0:\n",
    "        return print(F\"{a} is even \")\n",
    "    else:\n",
    "        return print(F\"{a} is odd \")\n",
    "    \n",
    "even_odd(3)\n",
    "even_odd(4)\n",
    "even_odd(29)"
   ]
  },
  {
   "cell_type": "code",
   "execution_count": 17,
   "id": "9d8a70c8",
   "metadata": {},
   "outputs": [
    {
     "name": "stdout",
     "output_type": "stream",
     "text": [
      "Minutes = 394\n"
     ]
    }
   ],
   "source": [
    "def convert_min(hrs,min):\n",
    "    min = hrs * 60 + min\n",
    "    return print(F\"Minutes = {min}\") \n",
    "\n",
    "convert_min(6,34)"
   ]
  },
  {
   "cell_type": "code",
   "execution_count": 19,
   "id": "0fe79ca1",
   "metadata": {},
   "outputs": [
    {
     "name": "stdout",
     "output_type": "stream",
     "text": [
      "The volume is 48\n"
     ]
    }
   ],
   "source": [
    "def volume(l,b = 3,h = 4):\n",
    "    return print(F\"The volume is {l*b*h}\")\n",
    "volume(4)"
   ]
  },
  {
   "cell_type": "code",
   "execution_count": 27,
   "id": "84cae9f6",
   "metadata": {},
   "outputs": [
    {
     "name": "stdout",
     "output_type": "stream",
     "text": [
      "44.20833333333333\n"
     ]
    }
   ],
   "source": [
    "def fact(n):\n",
    "    a=0\n",
    "    b= 1\n",
    "    for i in range(1,n+1):\n",
    "        b= b*i\n",
    "        a= a + i**i / b \n",
    "    print(a)\n",
    "        \n",
    "fact(5)"
   ]
  },
  {
   "cell_type": "code",
   "execution_count": 11,
   "id": "fda064da",
   "metadata": {},
   "outputs": [
    {
     "name": "stdout",
     "output_type": "stream",
     "text": [
      "Welcome sumit , Python is Fun. 🥰🥳 \n"
     ]
    }
   ],
   "source": [
    "def greet(name, mesg):\n",
    "    print(f\"Welcome {name} , {mesg} \")\n",
    "    \n",
    "greet(\"sumit\" , \"Python is Fun. 🥰🥳\")"
   ]
  },
  {
   "cell_type": "code",
   "execution_count": 1,
   "id": "394063fb",
   "metadata": {},
   "outputs": [
    {
     "data": {
      "text/plain": [
       "120"
      ]
     },
     "execution_count": 1,
     "metadata": {},
     "output_type": "execute_result"
    }
   ],
   "source": [
    "def factorial(n):\n",
    "    if n==1 or n==0:\n",
    "        return 1\n",
    "    else:\n",
    "        return n*factorial(n-1)\n",
    "    \n",
    "factorial(5)"
   ]
  },
  {
   "cell_type": "code",
   "execution_count": null,
   "id": "038a54c2",
   "metadata": {},
   "outputs": [],
   "source": []
  }
 ],
 "metadata": {
  "kernelspec": {
   "display_name": "Python 3 (ipykernel)",
   "language": "python",
   "name": "python3"
  },
  "language_info": {
   "codemirror_mode": {
    "name": "ipython",
    "version": 3
   },
   "file_extension": ".py",
   "mimetype": "text/x-python",
   "name": "python",
   "nbconvert_exporter": "python",
   "pygments_lexer": "ipython3",
   "version": "3.9.7"
  }
 },
 "nbformat": 4,
 "nbformat_minor": 5
}
