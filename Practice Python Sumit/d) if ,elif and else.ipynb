{
 "cells": [
  {
   "cell_type": "code",
   "execution_count": 12,
   "id": "dde841df",
   "metadata": {},
   "outputs": [
    {
     "name": "stdout",
     "output_type": "stream",
     "text": [
      "Enter your age = 10\n",
      "You are not eligible for vote, wait for 8 years \n"
     ]
    }
   ],
   "source": [
    "#Write a program to check person is eligible to vote or not\n",
    "age = int(input(\"Enter your age = \"))\n",
    "if age>=18:\n",
    "    print(\"You are eligible for vote\")\n",
    "    \n",
    "else:\n",
    "    r = 18 - age\n",
    "    print(F\"You are not eligible for vote, wait for {r} years \")"
   ]
  },
  {
   "cell_type": "code",
   "execution_count": 8,
   "id": "d0e3bfd1",
   "metadata": {},
   "outputs": [
    {
     "name": "stdout",
     "output_type": "stream",
     "text": [
      "enter the key : 5\n",
      "The enterd key is digit\n"
     ]
    }
   ],
   "source": [
    "# Write a program to determine the character enterd by the user\n",
    "c = input(\"enter the key : \")\n",
    "if c.isdigit():\n",
    "    print(\"The enterd key is digit\")\n",
    "elif c.isalpha():\n",
    "    print(\"The enterd key is character\")\n",
    "elif c.isspace():\n",
    "    print(\"The enterd key is space\")"
   ]
  },
  {
   "cell_type": "code",
   "execution_count": 10,
   "id": "cb02590e",
   "metadata": {},
   "outputs": [
    {
     "name": "stdout",
     "output_type": "stream",
     "text": [
      "Enter the Number a :  9\n",
      "Enter the Number b :  6\n",
      "a is greater than b\n"
     ]
    }
   ],
   "source": [
    "# Write a program to check the find larger number in two numbers\n",
    "\n",
    "a = int(input(\"Enter the Number a :  \"))\n",
    "b = int(input(\"Enter the Number b :  \"))\n",
    "\n",
    "if a>b:\n",
    "    print(\"a is greater than b\")\n",
    "elif b>a:\n",
    "    print(\"b is greater than a\")\n",
    "    \n",
    "else:\n",
    "    print(\"The numbers are equal\")\n",
    "\n",
    "a = int(input(\"Enter the Number :  \"))\n",
    "if a%2==0:\n",
    "    print(\"The number is even \")\n",
    "else:\n",
    "    print(\"The number is odd\")"
   ]
  },
  {
   "cell_type": "code",
   "execution_count": 19,
   "id": "c7fa38be",
   "metadata": {},
   "outputs": [
    {
     "name": "stdout",
     "output_type": "stream",
     "text": [
      "Enter the Character :  M\n",
      "entered character is in uppercase . In lowercase of it is m\n"
     ]
    }
   ],
   "source": [
    "ch = input(\"Enter the Character :  \")\n",
    "if (ch >= 'A' and ch <= 'Z') :\n",
    "    ch = ch.lower()\n",
    "    print(f\"entered character is in uppercase . In lowercase of it is {ch}\")\n",
    "    \n",
    "else:\n",
    "    ch = ch.upper()\n",
    "    print(f\"entered character is in lowercase . In uppercase of it is {ch}\")"
   ]
  },
  {
   "cell_type": "code",
   "execution_count": 22,
   "id": "0bbae334",
   "metadata": {},
   "outputs": [
    {
     "name": "stdout",
     "output_type": "stream",
     "text": [
      "Enter the Number :  -86\n",
      "The number is negative\n"
     ]
    }
   ],
   "source": [
    "#Program to test the given number is negative , posiive or zero\n",
    "\n",
    "num = int(input(\"Enter the Number :  \"))\n",
    "if num==0 :\n",
    "    print(\"The number is zero\")\n",
    "    \n",
    "elif num<0:\n",
    "    print(\"The number is negative\")\n",
    "\n",
    "else:\n",
    "    print(\"The number is positive\")"
   ]
  },
  {
   "cell_type": "code",
   "execution_count": 26,
   "id": "ab540965",
   "metadata": {},
   "outputs": [
    {
     "name": "stdout",
     "output_type": "stream",
     "text": [
      "Enter the Number1 :  3\n",
      "Enter the Number2 :  6\n",
      "Enter the Number3 :  9\n",
      "Number3 is greater\n"
     ]
    }
   ],
   "source": [
    "# Write a program ton find gretest number in all three numbers\n",
    "num1 = int(input(\"Enter the Number1 :  \"))\n",
    "num2 = int(input(\"Enter the Number2 :  \"))\n",
    "num3 = int(input(\"Enter the Number3 :  \"))\n",
    "\n",
    "if num1>num2 :\n",
    "    if num1>num3: \n",
    "        print(\"The number 1 is greater\")\n",
    "    else:\n",
    "        print(\"Number3 is greater\")\n",
    "    \n",
    "elif num2>num1 :\n",
    "    if num2>num3:\n",
    "        print(\"The number 2 is greater\")\n",
    "    else:\n",
    "        print(\"Number3 is greater\")\n",
    "        \n",
    "else:\n",
    "    print(\"All numbers are eequal\")"
   ]
  },
  {
   "cell_type": "code",
   "execution_count": 28,
   "id": "7bfe6cdc",
   "metadata": {},
   "outputs": [
    {
     "name": "stdout",
     "output_type": "stream",
     "text": [
      "Enter the Number a :  5\n",
      "Enter the Number b :  14\n",
      "Enter the Number c :  3\n",
      "Real Roots\n",
      "Root1 = -12.83380962103094 and Root2 = -15.16619037896906 \n"
     ]
    }
   ],
   "source": [
    "\n",
    "\n",
    "a = int(input(\"Enter the Number a :  \"))\n",
    "b = int(input(\"Enter the Number b :  \"))\n",
    "c = int(input(\"Enter the Number c :  \"))\n",
    "\n",
    "D = b*b-4*a*c\n",
    "deno = 2*a\n",
    "\n",
    "if D>0:\n",
    "    print(\"Real Roots\")\n",
    "    root1 = -b + D**0.5 / deno\n",
    "    root2 = -b - D**0.5 / deno\n",
    "    print(f\"Root1 = {root1} and Root2 = {root2} \")\n",
    "    \n",
    "elif D==0:\n",
    "    print(\"Equal Roots\")\n",
    "    root1 = -b / deno\n",
    "    print(f\"Root1 and Root2 are {root1}\")\n",
    "    \n",
    "else:\n",
    "    print(\"Imaginary Roots\")"
   ]
  },
  {
   "cell_type": "code",
   "execution_count": null,
   "id": "e961a84b",
   "metadata": {},
   "outputs": [],
   "source": []
  }
 ],
 "metadata": {
  "kernelspec": {
   "display_name": "Python 3 (ipykernel)",
   "language": "python",
   "name": "python3"
  },
  "language_info": {
   "codemirror_mode": {
    "name": "ipython",
    "version": 3
   },
   "file_extension": ".py",
   "mimetype": "text/x-python",
   "name": "python",
   "nbconvert_exporter": "python",
   "pygments_lexer": "ipython3",
   "version": "3.9.7"
  }
 },
 "nbformat": 4,
 "nbformat_minor": 5
}
