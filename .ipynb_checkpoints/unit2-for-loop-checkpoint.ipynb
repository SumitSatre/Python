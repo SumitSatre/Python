{
 "cells": [
  {
   "cell_type": "markdown",
   "id": "7d1004a7",
   "metadata": {},
   "source": [
    "# shorthand method for \"if-else statement\"\n"
   ]
  },
  {
   "cell_type": "code",
   "execution_count": 2,
   "id": "335d5609",
   "metadata": {},
   "outputs": [
    {
     "name": "stdout",
     "output_type": "stream",
     "text": [
      "A\n"
     ]
    }
   ],
   "source": [
    "a = 27\n",
    "b = 5\n",
    "print(\"A\") if a > b else print(\"B\")"
   ]
  },
  {
   "cell_type": "code",
   "execution_count": 3,
   "id": "9ad54a04",
   "metadata": {},
   "outputs": [
    {
     "name": "stdout",
     "output_type": "stream",
     "text": [
      "enter your age : 33\n",
      "Elligible\n"
     ]
    }
   ],
   "source": [
    "age=int(input(\"enter your age : \"))\n",
    "print(\"Elligible\")if age>=18 else print(\"Not Elligible\")"
   ]
  },
  {
   "cell_type": "markdown",
   "id": "d93005e3",
   "metadata": {},
   "source": [
    "# Nested if statements\n",
    "You can have if statements inside if statements, this is called nested if statements."
   ]
  },
  {
   "cell_type": "code",
   "execution_count": 4,
   "id": "99d0eaf0",
   "metadata": {},
   "outputs": [
    {
     "name": "stdout",
     "output_type": "stream",
     "text": [
      "Above ten,\n",
      "and also above 20!\n"
     ]
    }
   ],
   "source": [
    "x = 55\n",
    "\n",
    "if x > 10:\n",
    "  print(\"Above ten,\")\n",
    "  if x > 20:\n",
    "    print(\"and also above 20!\")\n",
    "  else:\n",
    "    print(\"but not above 20.\")"
   ]
  },
  {
   "cell_type": "code",
   "execution_count": null,
   "id": "7fe7dbec",
   "metadata": {},
   "outputs": [],
   "source": []
  },
  {
   "cell_type": "markdown",
   "id": "ab6bf2b6",
   "metadata": {},
   "source": [
    "# Elif\n",
    "The elif keyword is pythons way of saying \"if the previous conditions were not true, then try this condition\". \n",
    "it's short for else - if, to test additional conditions apart from the initial test expression."
   ]
  },
  {
   "cell_type": "code",
   "execution_count": 4,
   "id": "2b0a2dda",
   "metadata": {},
   "outputs": [
    {
     "name": "stdout",
     "output_type": "stream",
     "text": [
      "Enter first number: 4\n",
      "Enter second number: 5\n",
      "Enter third number: 1\n",
      "The largest number is 5\n"
     ]
    }
   ],
   "source": [
    "#  program to find the largest number among the three input numbers\n",
    "\n",
    "\n",
    "num1 = int(input(\"Enter first number: \"))\n",
    "num2 = int(input(\"Enter second number: \"))\n",
    "num3 = int(input(\"Enter third number: \"))\n",
    " \n",
    "if (num1 > num2) and (num1 > num3):\n",
    "   largest = num1\n",
    "elif (num2 > num1) and (num2 > num3):\n",
    "   largest = num2\n",
    "else:\n",
    "   largest = num3\n",
    "print(\"The largest number is\",largest)\n",
    "\n",
    "\n",
    "\n",
    " \n"
   ]
  },
  {
   "cell_type": "code",
   "execution_count": null,
   "id": "273833fe",
   "metadata": {},
   "outputs": [],
   "source": []
  },
  {
   "cell_type": "code",
   "execution_count": 5,
   "id": "6cc1f48e",
   "metadata": {},
   "outputs": [
    {
     "name": "stdout",
     "output_type": "stream",
     "text": [
      "Enter weekday day number (1-7) : 6\n",
      "\n",
      "Saturday\n"
     ]
    }
   ],
   "source": [
    "# program to displays the corresponding day of week.\n",
    "\n",
    "weekday = int(input(\"Enter weekday day number (1-7) : \"))\n",
    "\n",
    "if weekday == 1 :\n",
    "    print(\"\\n Monday\");\n",
    "\n",
    "elif weekday == 2 :\n",
    "    print(\"\\nTuesday\")\n",
    "\n",
    "elif(weekday == 3) :\n",
    "    print(\"\\nWednesday\")\n",
    "\n",
    "elif(weekday == 4) :\n",
    "    print(\"Thursday\")\n",
    "\n",
    "elif(weekday == 5) :\n",
    "    print(\"\\nFriday\")\n",
    "\n",
    "elif(weekday == 6) :\n",
    "    print(\"\\nSaturday\")\n",
    "\n",
    "elif (weekday == 7) :\n",
    "    print(\"\\nSunday\")\n",
    "\n",
    "else :\n",
    "    print(\"\\nPlease enter weekday number between 1-7.\")"
   ]
  },
  {
   "cell_type": "code",
   "execution_count": null,
   "id": "ed4b2593",
   "metadata": {},
   "outputs": [],
   "source": []
  },
  {
   "cell_type": "code",
   "execution_count": null,
   "id": "492e26f2",
   "metadata": {},
   "outputs": [],
   "source": [
    "###    write a prog to enter the marks of a student in four subjects. \n",
    "then calculate toal and aggregate, and display the grade obtain by the student . \n",
    "if student scores aggregate greater than 75%,then grade is Distiction.\n",
    "if aggregate is 60>= and <75,then grade is 1st division. \n",
    "if aggregate is 50>= and <60,then grade is 2nd division.  \n",
    "if aggregate is 40>= and <50,then grade is 3rd division.\n",
    "else the grade is Fail."
   ]
  },
  {
   "cell_type": "code",
   "execution_count": 12,
   "id": "2bbf6f6c",
   "metadata": {},
   "outputs": [
    {
     "name": "stdout",
     "output_type": "stream",
     "text": [
      "enter your marks10\n",
      "enter your marks20\n",
      "enter your marks22\n",
      "enter your marks11\n",
      "fail\n"
     ]
    }
   ],
   "source": [
    "mark1= int(input(\"enter your marks\"))\n",
    "mark2= int(input(\"enter your marks\"))\n",
    "mark3= int(input(\"enter your marks\"))\n",
    "mark4= int(input(\"enter your marks\"))\n",
    "total= mark1+mark2+mark3+mark4\n",
    "aggregate= float(total)/4\n",
    "if(aggregate>=75):\n",
    "    print(\"Distinction\")\n",
    "elif(aggregate>=60 and aggregate<75):\n",
    "    print(\"1st division\")\n",
    "elif(aggregate>=50 and aggregate<60):\n",
    "    print(\"2nd division\")\n",
    "elif(aggregate>=40 and aggregate<50):\n",
    "    print(\"3rd division\")\n",
    "else:\n",
    "    print(\"fail\")\n",
    "    \n",
    "\n"
   ]
  },
  {
   "cell_type": "markdown",
   "id": "cb9d7fb3",
   "metadata": {},
   "source": [
    "# Python While Loops\n",
    "\n",
    "##With the while loop we can execute a set of statements as long as a condition is true.   \n"
   ]
  },
  {
   "cell_type": "code",
   "execution_count": 1,
   "id": "f6f01cc7",
   "metadata": {},
   "outputs": [
    {
     "name": "stdout",
     "output_type": "stream",
     "text": [
      "1\n",
      "2\n",
      "3\n",
      "4\n",
      "5\n",
      "6\n",
      "7\n",
      "8\n",
      "9\n",
      "10\n"
     ]
    }
   ],
   "source": [
    "#Print i as long as i is less than 10:\n",
    "\n",
    "\n",
    "i = 1\n",
    "while i <=10:\n",
    "  print(i)\n",
    "  \n",
    "  i += 1    #i=i+1 "
   ]
  },
  {
   "cell_type": "code",
   "execution_count": 2,
   "id": "a545c905",
   "metadata": {},
   "outputs": [
    {
     "name": "stdout",
     "output_type": "stream",
     "text": [
      "enter a number44\n",
      "44 43 42 41 40 39 38 37 36 35 34 33 32 31 30 29 28 27 26 25 24 23 22 21 20 "
     ]
    }
   ],
   "source": [
    "# prog to print countdown of a given number.\n",
    "\n",
    "n= int(input(\"enter a number\"))\n",
    "while n >= 20:\n",
    "       print(n,end=' ')\n",
    "       n = n-1"
   ]
  },
  {
   "cell_type": "code",
   "execution_count": null,
   "id": "4c777a6b",
   "metadata": {},
   "outputs": [],
   "source": [
    "# prog to print the reverse of a number.\n",
    "\n",
    "num = int(input(\"enter a number : \"))\n"
   ]
  },
  {
   "cell_type": "code",
   "execution_count": null,
   "id": "9dad7ff8",
   "metadata": {},
   "outputs": [],
   "source": []
  },
  {
   "cell_type": "markdown",
   "id": "3e42a495",
   "metadata": {},
   "source": [
    "# For loop\n",
    "\n",
    "Python’s for keyword provides a more comprehensive mechanism to constitute a loop. \n",
    "The for loop in Python is used to iterate the statements or a part of the program several times.\n"
   ]
  },
  {
   "cell_type": "code",
   "execution_count": 1,
   "id": "7682546f",
   "metadata": {},
   "outputs": [
    {
     "name": "stdout",
     "output_type": "stream",
     "text": [
      "7 14 21 28 35 42 49 56 63 70 "
     ]
    }
   ],
   "source": [
    "#  Program to print Numbers 1 to 10 using for loop :\n",
    "for i in range (1,11):\n",
    "    print (i *7,end=\" \")\n"
   ]
  },
  {
   "cell_type": "markdown",
   "id": "88579eea",
   "metadata": {},
   "source": [
    "#  range function\n",
    "\n",
    "The range() function returns a sequence of numbers, starting from 0 by default, and increments by 1 (by default), and ends at a specified number. \n",
    "We can also define the start, stop and step size as range (start, stop, step size). Step size defaults to 1 if not provided.\n",
    "This function does not store all the values in memory, it would be inefficient. So it remembers the start, stop, step size and generates the next number on the go.\n"
   ]
  },
  {
   "cell_type": "markdown",
   "id": "bb4bdca8",
   "metadata": {},
   "source": [
    "# range() Function Examples :"
   ]
  },
  {
   "cell_type": "code",
   "execution_count": 4,
   "id": "ec78646d",
   "metadata": {},
   "outputs": [
    {
     "name": "stdout",
     "output_type": "stream",
     "text": [
      "0\n",
      "1\n",
      "2\n",
      "3\n",
      "4\n",
      "5\n"
     ]
    }
   ],
   "source": [
    "#   Create a sequence of numbers from 0 to 5, and print each item in the sequence:\n",
    "\n",
    "x = range(6)\n",
    "for n in x:\n",
    "  print(n) \n",
    "\n"
   ]
  },
  {
   "cell_type": "code",
   "execution_count": 2,
   "id": "4723f52e",
   "metadata": {},
   "outputs": [
    {
     "name": "stdout",
     "output_type": "stream",
     "text": [
      "20\n",
      "21\n",
      "22\n",
      "23\n",
      "24\n",
      "25\n",
      "26\n",
      "27\n",
      "28\n",
      "29\n"
     ]
    }
   ],
   "source": [
    "# Create a sequence of numbers from 10 to 20, and print each item in the sequence :\n",
    "\n",
    "for n in range(20,30):\n",
    "    print(n)\n",
    "  "
   ]
  },
  {
   "cell_type": "code",
   "execution_count": 11,
   "id": "c95f6ab1",
   "metadata": {},
   "outputs": [
    {
     "name": "stdout",
     "output_type": "stream",
     "text": [
      "1900  1904  1908  1912  1916  1920  1924  1928  1932  1936  1940  1944  1948  1952  1956  1960  1964  1968  1972  1976  1980  1984  1988  1992  1996  2000  2004  2008  2012  2016  2020  2024  2028  2032  2036  2040  2044  2048  2052  2056  2060  2064  2068  2072  2076  2080  2084  2088  2092  2096  "
     ]
    }
   ],
   "source": [
    "#prog to display all leap years from 1900 to 2101.\n",
    "\n",
    "for i in range(1900,2100,4):\n",
    "    print(i,end=\"  \")"
   ]
  },
  {
   "cell_type": "markdown",
   "id": "22b68020",
   "metadata": {},
   "source": [
    "# Break Statement :\n",
    "\n",
    "If break statement is inside a nested loop (loop inside another loop), break will terminate the innermost loop.\n",
    "In other words, we can say that break is used to abort the current execution of the program and the control goes to the next line after the loop. \n",
    "The break is commonly used in the cases where we need to break the loop for a given condition. \n"
   ]
  },
  {
   "cell_type": "code",
   "execution_count": 3,
   "id": "2383939e",
   "metadata": {},
   "outputs": [
    {
     "name": "stdout",
     "output_type": "stream",
     "text": [
      "Current Letter : P\n",
      "Current Letter : y\n",
      "Current Letter : t\n"
     ]
    }
   ],
   "source": [
    "#example 1:\n",
    "\n",
    "for letter in 'Python':\n",
    "    if letter == 'h':\n",
    "        break\n",
    "    print('Current Letter :', letter)\n",
    " \n"
   ]
  },
  {
   "cell_type": "code",
   "execution_count": 3,
   "id": "94b2b6e2",
   "metadata": {},
   "outputs": [
    {
     "name": "stdout",
     "output_type": "stream",
     "text": [
      "1 2 3 4 "
     ]
    }
   ],
   "source": [
    "# #example 2:\n",
    "\n",
    "for i in range(1,11):\n",
    "    if i == 5:\n",
    "        break   #to stop current iteration of the loop\n",
    "    print(i,end=\" \")"
   ]
  },
  {
   "cell_type": "code",
   "execution_count": null,
   "id": "f3b7119b",
   "metadata": {},
   "outputs": [],
   "source": []
  },
  {
   "cell_type": "markdown",
   "id": "e1257e17",
   "metadata": {},
   "source": [
    "# Continue Statement :\n",
    "\n",
    "The continue statement is used to stop the current iteration of the loop and continues with the next one. \n",
    "It is mainly used for a particular condition inside the loop so that we can skip some specific code for a particular condition.\n"
   ]
  },
  {
   "cell_type": "code",
   "execution_count": 4,
   "id": "86f97506",
   "metadata": {},
   "outputs": [
    {
     "name": "stdout",
     "output_type": "stream",
     "text": [
      "Current Letter : P\n",
      "Current Letter : y\n",
      "Current Letter : t\n",
      "Current Letter : o\n",
      "Current Letter : n\n"
     ]
    }
   ],
   "source": [
    "#example 1:\n",
    "for letter in 'Python':\n",
    "    if letter == 'h':\n",
    "        continue    #to stop current iteration of the loop\n",
    "    print('Current Letter :', letter)\n",
    " "
   ]
  },
  {
   "cell_type": "code",
   "execution_count": 10,
   "id": "3111fe89",
   "metadata": {},
   "outputs": [
    {
     "name": "stdout",
     "output_type": "stream",
     "text": [
      "1 2 3 4 6 7 8 9 10 "
     ]
    }
   ],
   "source": [
    "#example 2:\n",
    "for i in range(1,11):\n",
    "    if i == 5:\n",
    "        continue    #to stop current iteration of the loop\n",
    "    print(i,end=\" \")\n",
    " "
   ]
  },
  {
   "cell_type": "code",
   "execution_count": null,
   "id": "0022e0e2",
   "metadata": {},
   "outputs": [],
   "source": []
  },
  {
   "cell_type": "markdown",
   "id": "22832f45",
   "metadata": {},
   "source": [
    "# pass statement\n",
    "The pass statement is used as a placeholder for future code.\n",
    "When the pass statement is executed, nothing happens, but you avoid getting an error when empty code is not allowed.\n",
    "Empty code is not allowed in loops, function definitions, class definitions, or in if statements."
   ]
  },
  {
   "cell_type": "code",
   "execution_count": 6,
   "id": "ba0bcc66",
   "metadata": {},
   "outputs": [],
   "source": [
    "#example 1:\n",
    "a = 33\n",
    "b = 200\n",
    "\n",
    "if b > a:\n",
    "    pass "
   ]
  },
  {
   "cell_type": "code",
   "execution_count": 12,
   "id": "31145622",
   "metadata": {},
   "outputs": [
    {
     "name": "stdout",
     "output_type": "stream",
     "text": [
      "Current Letter : P\n",
      "Current Letter : y\n",
      "Current Letter : t\n",
      "This is pass block\n",
      "Current Letter : h\n",
      "Current Letter : o\n",
      "Current Letter : n\n",
      "Good bye!\n"
     ]
    }
   ],
   "source": [
    "#example 2 :\n",
    "\n",
    "for letter in 'Python': \n",
    "   if letter == 'h':\n",
    "      pass\n",
    "      print (\"This is pass block\")\n",
    "   print(\"Current Letter :\", letter)\n",
    "\n",
    "print (\"Good bye!\")\n"
   ]
  },
  {
   "cell_type": "code",
   "execution_count": null,
   "id": "9949ce23",
   "metadata": {},
   "outputs": [],
   "source": []
  },
  {
   "cell_type": "code",
   "execution_count": null,
   "id": "c419deae",
   "metadata": {},
   "outputs": [],
   "source": []
  },
  {
   "cell_type": "code",
   "execution_count": 6,
   "id": "d7906e3d",
   "metadata": {},
   "outputs": [
    {
     "name": "stdout",
     "output_type": "stream",
     "text": [
      "enter a number6\n",
      "factorial is 720\n"
     ]
    }
   ],
   "source": [
    "# calculate factorial no by using for loop\n",
    "# factorial of 5! = 5*4*3*2*1\n",
    "num=int(input(\"enter a number\"))\n",
    "if(num==0):\n",
    "   fact=1\n",
    "fact =1 \n",
    "for i in range(1,num+1):  \n",
    "    fact = fact*i\n",
    "print(\"factorial is\",fact) \n",
    "#1st iteration= 1*1=1\n",
    "#2nd iteration =1*2=2\n",
    "#3nd iteration =2*3=6\n",
    "#4nd iteration =6*4=24\n",
    "#5nd iteration =24*5=120\n",
    "#6nd iteration =120*6=720"
   ]
  },
  {
   "cell_type": "code",
   "execution_count": 5,
   "id": "7c1978a0",
   "metadata": {},
   "outputs": [
    {
     "name": "stdout",
     "output_type": "stream",
     "text": [
      "enter a number3\n",
      "sum of cubes :  36\n"
     ]
    }
   ],
   "source": [
    "#prog to find 'sum of cubes'of numbers from 1 to 50.\n",
    "#   1+8+27+64+125+ ..........\n",
    "n=int(input(\"enter a number\"))\n",
    "s=0\n",
    "for i in range(1,n+1):\n",
    "    a=i**3   #to find power of the no\n",
    "    s=s+a\n",
    "print(\"sum of cubes : \",s)\n",
    "#1st iteration= a=1\n",
    " #              s=0+1=1\n",
    "#2st iteration   a=8\n",
    " #               s= 1+8=9\n",
    "#3 t iteration   a=27\n",
    "     #          s= 9+27 =36"
   ]
  },
  {
   "cell_type": "code",
   "execution_count": null,
   "id": "4b03dfa6",
   "metadata": {},
   "outputs": [],
   "source": [
    "# write a prog to generate calender of a month given the start-day and no of days in that month."
   ]
  },
  {
   "cell_type": "code",
   "execution_count": null,
   "id": "a3a41f9c",
   "metadata": {},
   "outputs": [],
   "source": []
  },
  {
   "cell_type": "markdown",
   "id": "518efd1f",
   "metadata": {},
   "source": [
    "# Nested  For Loop:\n",
    "\n",
    "A nested for loop is a for loop inside a for loop.\n",
    "The \"inner for loop\" will be executed one time for each iteration of the \"outer for loop\":"
   ]
  },
  {
   "cell_type": "code",
   "execution_count": 7,
   "id": "f61c0a4b",
   "metadata": {},
   "outputs": [
    {
     "name": "stdout",
     "output_type": "stream",
     "text": [
      "red apple\n",
      "red strwaberry\n",
      "red cherry\n",
      "big apple\n",
      "big strwaberry\n",
      "big cherry\n",
      "tasty apple\n",
      "tasty strwaberry\n",
      "tasty cherry\n"
     ]
    }
   ],
   "source": [
    "#Example\n",
    "# prog to Print each adjective for every fruit:\n",
    "\n",
    "adj = [\"red\", \"big\", \"tasty\"]\n",
    "fruits = [\"apple\", \"strwaberry\", \"cherry\"]\n",
    "\n",
    "for x in adj:\n",
    "  for y in fruits:\n",
    "    print(x, y)"
   ]
  },
  {
   "cell_type": "markdown",
   "id": "b423de97",
   "metadata": {},
   "source": [
    "# print pattern in Python\n",
    "\n",
    "In Python, for loop is used to print the various patterns. Printing the various patterns are most common asked programming questions in the interview. The multiple for loops are used to print the patterns where the first outer loop is used to print the number of rows, and the inner loop is used to print the number of columns. Most of the patterns use the following concepts.\n",
    "\n",
    "The outer loop to print the number of rows.\n",
    "The inner loops to print the number of columns.\n",
    "The variable to print whitespace according to the required place in Python."
   ]
  },
  {
   "cell_type": "markdown",
   "id": "675497e5",
   "metadata": {},
   "source": [
    " #example of print simple pyramid pattern  \n",
    "* \n",
    "* * \n",
    "* * * \n",
    "* * * * \n",
    "* * * * *"
   ]
  },
  {
   "cell_type": "code",
   "execution_count": 16,
   "id": "9cfd2e00",
   "metadata": {},
   "outputs": [
    {
     "name": "stdout",
     "output_type": "stream",
     "text": [
      "\n",
      "*  \n",
      "*  *  \n",
      "*  *  *  \n",
      "*  *  *  *  \n",
      "*  *  *  *  *  \n",
      "*  *  *  *  *  *  \n",
      "*  *  *  *  *  *  *  \n",
      "*  *  *  *  *  *  *  *  \n",
      "*  *  *  *  *  *  *  *  *  \n",
      "*  *  *  *  *  *  *  *  *  *  "
     ]
    }
   ],
   "source": [
    "# prog to print simple pyramid pattern\n",
    "\n",
    "for i in range(1,11):\n",
    "    print()            # print new line\n",
    "    for j in range(i):\n",
    "        print(\"*\",end=\"  \")"
   ]
  },
  {
   "cell_type": "code",
   "execution_count": 23,
   "id": "54158ebf",
   "metadata": {},
   "outputs": [
    {
     "name": "stdout",
     "output_type": "stream",
     "text": [
      "\n",
      "1 \n",
      "1 2 \n",
      "1 2 3 \n",
      "1 2 3 4 \n",
      "1 2 3 4 5 "
     ]
    }
   ],
   "source": [
    "# prog to print numbers in pyramid pattern\n",
    "for i in range(1,6):\n",
    "    print()\n",
    "    for j in range(1,i+1):\n",
    "        print(j,end=\" \")"
   ]
  },
  {
   "cell_type": "code",
   "execution_count": 1,
   "id": "20b6be90",
   "metadata": {},
   "outputs": [
    {
     "name": "stdout",
     "output_type": "stream",
     "text": [
      "1 2 3 4 5 \n",
      "1 2 3 4 5 \n",
      "1 2 3 4 5 \n",
      "1 2 3 4 5 \n",
      "1 2 3 4 5 \n"
     ]
    }
   ],
   "source": [
    "# example:\n",
    "for i in range(1,6)\n",
    "  # print(i,\"-\",end=' ')\n",
    "    for j in range(1,6):\n",
    "        print(j,end=\" \")\n",
    "    print()"
   ]
  },
  {
   "cell_type": "code",
   "execution_count": 5,
   "id": "3725c0a2",
   "metadata": {},
   "outputs": [
    {
     "name": "stdout",
     "output_type": "stream",
     "text": [
      "\n",
      "0 \n",
      "1 2 \n",
      "3 4 5 \n",
      "6 7 8 9 "
     ]
    }
   ],
   "source": [
    "#example\n",
    "count = 0\n",
    "for i in range(1,5):\n",
    "    print()\n",
    "    for j in range(1,i+1):\n",
    "        print(count,end=\" \")\n",
    "        count = count+1"
   ]
  },
  {
   "cell_type": "code",
   "execution_count": 11,
   "id": "3a4a0d54",
   "metadata": {},
   "outputs": [
    {
     "name": "stdout",
     "output_type": "stream",
     "text": [
      "        1 \n",
      "      1 2 \n",
      "    1 2 3 \n",
      "  1 2 3 4 \n",
      "1 2 3 4 5 \n"
     ]
    }
   ],
   "source": [
    "# example:\n",
    "N=5\n",
    "for i in range (1,N+1):\n",
    "    for k in range(N,i,-1):\n",
    "        print(\" \",end = ' ')\n",
    "    for j in range(1,i+1):\n",
    "           print(j,end=\" \")\n",
    "    print()"
   ]
  },
  {
   "cell_type": "code",
   "execution_count": 25,
   "id": "a7005075",
   "metadata": {},
   "outputs": [
    {
     "name": "stdout",
     "output_type": "stream",
     "text": [
      "        1 \n",
      "      1 2 1 \n",
      "    1 2 3 2 1 \n",
      "  1 2 3 4 3 2 1 \n",
      "1 2 3 4 5 4 3 2 1 \n"
     ]
    }
   ],
   "source": [
    "# example:\n",
    "n=5\n",
    "for i in range(1,n+1):\n",
    "    for k in range(n,i,-1):\n",
    "        print(\" \",end =' ')\n",
    "    for j in range(1,i+1):\n",
    "        print(j,end=\" \")\n",
    "    for l in range(i-1,0,-1):\n",
    "        print(l,end=\" \")\n",
    "    print()\n",
    "    "
   ]
  },
  {
   "cell_type": "markdown",
   "id": "09e68c27",
   "metadata": {},
   "source": [
    "# Python for/while loop with else\n",
    "\n",
    "In most of the programming languages (C/C++, Java, etc), the use of else statements has been restricted with the if conditional statements. But Python also allows us to use the else condition with for loops. \n",
    "\n",
    "Note: The else block just after for/while is executed only when the loop is NOT terminated by a break statement "
   ]
  },
  {
   "cell_type": "code",
   "execution_count": null,
   "id": "e953640e",
   "metadata": {},
   "outputs": [],
   "source": []
  },
  {
   "cell_type": "code",
   "execution_count": 3,
   "id": "804c2f07",
   "metadata": {},
   "outputs": [
    {
     "name": "stdout",
     "output_type": "stream",
     "text": [
      "1\n",
      "2\n",
      "3\n",
      "No Break\n",
      "\n"
     ]
    }
   ],
   "source": [
    "for i in range(1, 4):\n",
    "    print(i)\n",
    "else:  # Executed because no break in for\n",
    "    print(\"No Break\\n\")"
   ]
  },
  {
   "cell_type": "code",
   "execution_count": 4,
   "id": "01df6962",
   "metadata": {},
   "outputs": [
    {
     "name": "stdout",
     "output_type": "stream",
     "text": [
      "1\n"
     ]
    }
   ],
   "source": [
    "for i in range(1, 4):\n",
    "    print(i)\n",
    "    break\n",
    "else:  # Not executed as there is a break\n",
    "    print(\"No Break\")"
   ]
  },
  {
   "cell_type": "code",
   "execution_count": 29,
   "id": "fde94fa8",
   "metadata": {},
   "outputs": [
    {
     "name": "stdout",
     "output_type": "stream",
     "text": [
      "0\n",
      "1\n",
      "2\n",
      "3\n",
      "4\n",
      "while loop completely \texhausted, since there is no break.\n",
      "Out of loop\n"
     ]
    }
   ],
   "source": [
    "# else with while Loop :\n",
    "i=0\n",
    "while i<5:\n",
    "    print (i)\n",
    "    i=i+1\n",
    "else :\n",
    "    print (\"while loop completely \texhausted, since there is no break.\")\n",
    "print (\"Out of loop\")\n"
   ]
  },
  {
   "cell_type": "code",
   "execution_count": null,
   "id": "1265f1cc",
   "metadata": {},
   "outputs": [],
   "source": []
  },
  {
   "cell_type": "code",
   "execution_count": null,
   "id": "67cbeba2",
   "metadata": {},
   "outputs": [],
   "source": []
  }
 ],
 "metadata": {
  "kernelspec": {
   "display_name": "Python 3 (ipykernel)",
   "language": "python",
   "name": "python3"
  },
  "language_info": {
   "codemirror_mode": {
    "name": "ipython",
    "version": 3
   },
   "file_extension": ".py",
   "mimetype": "text/x-python",
   "name": "python",
   "nbconvert_exporter": "python",
   "pygments_lexer": "ipython3",
   "version": "3.9.7"
  }
 },
 "nbformat": 4,
 "nbformat_minor": 5
}
