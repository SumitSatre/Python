{
 "cells": [
  {
   "cell_type": "code",
   "execution_count": null,
   "id": "b4a75702",
   "metadata": {},
   "outputs": [],
   "source": [
    "def f1():\n",
    "    print(\"This is First module first function\")\n",
    "    \n",
    "def f1():\n",
    "    print(\"This is First module  function\")"
   ]
  }
 ],
 "metadata": {
  "kernelspec": {
   "display_name": "Python 3 (ipykernel)",
   "language": "python",
   "name": "python3"
  },
  "language_info": {
   "codemirror_mode": {
    "name": "ipython",
    "version": 3
   },
   "file_extension": ".py",
   "mimetype": "text/x-python",
   "name": "python",
   "nbconvert_exporter": "python",
   "pygments_lexer": "ipython3",
   "version": "3.9.7"
  }
 },
 "nbformat": 4,
 "nbformat_minor": 5
}
