{
 "cells": [
  {
   "cell_type": "markdown",
   "id": "db033fa0",
   "metadata": {},
   "source": [
    "# if , elif ,else , nested if"
   ]
  },
  {
   "cell_type": "code",
   "execution_count": 3,
   "id": "0ef1b8a6",
   "metadata": {},
   "outputs": [
    {
     "name": "stdout",
     "output_type": "stream",
     "text": [
      "enter 1st No.  2\n",
      "Enter 2nd No.  5\n",
      "Enter 3rd No.  6\n",
      "num3 is greater than num1 and num2 \n"
     ]
    }
   ],
   "source": [
    "num1 = int(input(\"enter 1st No.  \"))\n",
    "num2 = int(input(\"Enter 2nd No.  \"))\n",
    "num3 = int(input(\"Enter 3rd No.  \"))\n",
    "if (num1 > num2) and (num1 > num3):\n",
    "    print(\"num1 is greater than num2 and num3\")\n",
    "elif(num2 > num1) and (num2 > num3):\n",
    "    print(\"num2 is greater thsn num1 and num3\")\n",
    "elif(num3 > num1) and (num3 > num2):\n",
    "    print(\"num3 is greater than num1 and num2 \")\n",
    "else:\n",
    "    print(\"All numbers are equal\")"
   ]
  },
  {
   "cell_type": "code",
   "execution_count": 6,
   "id": "1cd24c99",
   "metadata": {},
   "outputs": [
    {
     "name": "stdout",
     "output_type": "stream",
     "text": [
      "enter 1st No.  65\n",
      "Enter 2nd No.  32\n",
      "Enter 3rd No.  98\n",
      "num3 is greater than num1 and num2 \n"
     ]
    }
   ],
   "source": [
    "num1 = int(input(\"enter 1st No.  \"))\n",
    "num2 = int(input(\"Enter 2nd No.  \"))\n",
    "num3 = int(input(\"Enter 3rd No.  \"))\n",
    "if (num1 > num2) and (num1 > num3):\n",
    "    print(\"num1 is greater than num2 and num3\")\n",
    "elif(num2 > num1) and (num2 > num3):\n",
    "    print(\"num2 is greater thsn num1 and num3\")\n",
    "elif(num3 > num1) and (num3 > num2):\n",
    "    print(\"num3 is greater than num1 and num2 \")\n",
    "else:\n",
    "    print(\"All numbers are equal\")"
   ]
  },
  {
   "cell_type": "code",
   "execution_count": 9,
   "id": "0ac8cc65",
   "metadata": {},
   "outputs": [
    {
     "name": "stdout",
     "output_type": "stream",
     "text": [
      "i am right\n"
     ]
    }
   ],
   "source": [
    "if True:\n",
    "    print(\"i am right\")\n",
    "#if condition is true it print the statememt"
   ]
  },
  {
   "cell_type": "code",
   "execution_count": 10,
   "id": "f617fff3",
   "metadata": {},
   "outputs": [],
   "source": [
    "if False:\n",
    "    print(\"oops!\")\n",
    "#if the condition is false it does not print (it skip it)"
   ]
  },
  {
   "cell_type": "code",
   "execution_count": 14,
   "id": "3f4a8097",
   "metadata": {},
   "outputs": [
    {
     "name": "stdout",
     "output_type": "stream",
     "text": [
      "one\n",
      "one\n"
     ]
    }
   ],
   "source": [
    "x=1\n",
    "if x==1 :\n",
    "    print(\"one\")\n",
    "if x==1 :\n",
    "    print(\"one\")"
   ]
  },
  {
   "cell_type": "code",
   "execution_count": 13,
   "id": "b938e1e7",
   "metadata": {},
   "outputs": [
    {
     "name": "stdout",
     "output_type": "stream",
     "text": [
      "one\n"
     ]
    }
   ],
   "source": [
    "x=1\n",
    "if x==1 :\n",
    "    print(\"one\")\n",
    "elif x==1 :\n",
    "    print(\"one\")"
   ]
  },
  {
   "cell_type": "code",
   "execution_count": 27,
   "id": "b06cb9cc",
   "metadata": {},
   "outputs": [
    {
     "name": "stdout",
     "output_type": "stream",
     "text": [
      "Enter the marks : 65\n",
      "enter the marks : 35\n",
      "Enter the marks : 98\n",
      "Enter the marks : 75\n",
      "Enter the marks : 45\n",
      "1st Distinction\n"
     ]
    }
   ],
   "source": [
    "sub1 = int(input(\"Enter the marks : \"))\n",
    "sub2 = int(input(\"enter the marks : \"))\n",
    "sub3 = int(input(\"Enter the marks : \"))\n",
    "sub4 = int(input(\"Enter the marks : \"))\n",
    "sub5 = int(input(\"Enter the marks : \"))\n",
    "total = sub1 + sub2 + sub3 + sub4 + sub5\n",
    "aggregate = float(total/5)\n",
    "if (aggregate>=75):\n",
    "    print(\"Distinction\")\n",
    "elif (aggregate < 75) and (aggregate>=60):\n",
    "    print(\"1st Distinction\")\n",
    "elif (aggregate < 60) and (aggregate >=50):\n",
    "    print(\"2nd distinction\")\n",
    "elif (aggregate < 50) and (aggregate >=40):\n",
    "    print(\"3rd Distinction\")\n",
    "else:\n",
    "    print(\"Better luck next time! You are fail\")"
   ]
  },
  {
   "cell_type": "code",
   "execution_count": null,
   "id": "02564eba",
   "metadata": {},
   "outputs": [],
   "source": []
  }
 ],
 "metadata": {
  "kernelspec": {
   "display_name": "Python 3 (ipykernel)",
   "language": "python",
   "name": "python3"
  },
  "language_info": {
   "codemirror_mode": {
    "name": "ipython",
    "version": 3
   },
   "file_extension": ".py",
   "mimetype": "text/x-python",
   "name": "python",
   "nbconvert_exporter": "python",
   "pygments_lexer": "ipython3",
   "version": "3.11.5"
  }
 },
 "nbformat": 4,
 "nbformat_minor": 5
}
