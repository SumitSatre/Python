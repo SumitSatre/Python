{
 "cells": [
  {
   "cell_type": "code",
   "execution_count": 2,
   "id": "b142fc78",
   "metadata": {},
   "outputs": [
    {
     "name": "stdout",
     "output_type": "stream",
     "text": [
      "sumit -1\n",
      "sumit 0\n",
      "sumit 1\n",
      "sumit 2\n",
      "sumit 3\n",
      "sumit 4\n",
      "sumit 5\n"
     ]
    }
   ],
   "source": [
    "i = -1\n",
    "while i<=5:\n",
    "    print(\"sumit\", i)\n",
    "    i=i+1\n",
    "    "
   ]
  },
  {
   "cell_type": "code",
   "execution_count": 43,
   "id": "3c48a5f0",
   "metadata": {
    "scrolled": true
   },
   "outputs": [
    {
     "name": "stdout",
     "output_type": "stream",
     "text": [
      "savita satre 70\n",
      "savita satre 65\n",
      "savita satre 60\n",
      "savita satre 55\n",
      "savita satre 50\n"
     ]
    }
   ],
   "source": [
    "i = 70\n",
    "while i>=50:\n",
    "    print('savita satre' , i)\n",
    "    i=i-5"
   ]
  },
  {
   "cell_type": "code",
   "execution_count": 44,
   "id": "fc916f0d",
   "metadata": {
    "scrolled": false
   },
   "outputs": [
    {
     "name": "stdout",
     "output_type": "stream",
     "text": [
      "savita satre 200\n",
      "savita satre 100.0\n",
      "savita satre 50.0\n"
     ]
    }
   ],
   "source": [
    "i = 200\n",
    "while i>=50:\n",
    "    print('savita satre' , i)\n",
    "    i=i/2"
   ]
  },
  {
   "cell_type": "code",
   "execution_count": 37,
   "id": "a2cb5214",
   "metadata": {
    "scrolled": false
   },
   "outputs": [
    {
     "name": "stdout",
     "output_type": "stream",
     "text": [
      "savita satre -5\n",
      "Vitthal 70\n",
      "Vitthal 65\n",
      "Vitthal 60\n",
      "Vitthal 55\n",
      "Vitthal 50\n",
      "savita satre -4\n",
      "savita satre -3\n",
      "savita satre -2\n",
      "savita satre -1\n",
      "savita satre 0\n",
      "savita satre 1\n",
      "savita satre 2\n",
      "savita satre 3\n",
      "savita satre 4\n",
      "savita satre 5\n",
      "savita satre 6\n",
      "savita satre 7\n",
      "savita satre 8\n",
      "savita satre 9\n",
      "savita satre 10\n"
     ]
    }
   ],
   "source": [
    "i = -5\n",
    "k = 70\n",
    "while i<11:\n",
    "    print('savita satre' , i)\n",
    "    while k>=50:\n",
    "        print('Vitthal' , k)\n",
    "        k=k-5\n",
    "    i=i+1"
   ]
  },
  {
   "cell_type": "code",
   "execution_count": 4,
   "id": "0a6184f2",
   "metadata": {},
   "outputs": [
    {
     "name": "stdout",
     "output_type": "stream",
     "text": [
      "1\n",
      "2\n",
      "3\n",
      "4\n",
      "5\n",
      "6\n",
      "7\n",
      "8\n",
      "9\n",
      "10\n",
      "11\n",
      "12\n"
     ]
    }
   ],
   "source": [
    "i=1\n",
    "while i<=12:\n",
    "    print(i)\n",
    "    i=i+1"
   ]
  },
  {
   "cell_type": "code",
   "execution_count": 5,
   "id": "160690b0",
   "metadata": {},
   "outputs": [
    {
     "name": "stdout",
     "output_type": "stream",
     "text": [
      "harry 1\n",
      "harry 2\n",
      "harry 3\n",
      "harry 4\n"
     ]
    }
   ],
   "source": [
    "i=1\n",
    "while i<5:\n",
    "    print(\"harry\" , i)\n",
    "    i=i+1"
   ]
  },
  {
   "cell_type": "code",
   "execution_count": 16,
   "id": "9be27e7f",
   "metadata": {
    "scrolled": true
   },
   "outputs": [
    {
     "name": "stdout",
     "output_type": "stream",
     "text": [
      "mango 0\n",
      "apple 1\n",
      "grapes 2\n",
      "banana 3\n",
      "watermwlon 4\n"
     ]
    }
   ],
   "source": [
    "fruits = ['mango' , 'apple' , 'grapes', 'banana' ,'watermwlon']\n",
    "i=0\n",
    "while i<len(fruits):\n",
    "    print(fruits[i] , i)\n",
    "    i=i+1"
   ]
  },
  {
   "cell_type": "code",
   "execution_count": 19,
   "id": "0f1b0eba",
   "metadata": {},
   "outputs": [
    {
     "name": "stdout",
     "output_type": "stream",
     "text": [
      "mango\n",
      "apple\n",
      "grapes\n",
      "banana\n",
      "watermwlon\n"
     ]
    }
   ],
   "source": [
    "fruits = ['mango' , 'apple' , 'grapes', 'banana' ,'watermwlon']\n",
    "for ful in fruits:\n",
    "    print(ful)"
   ]
  },
  {
   "cell_type": "code",
   "execution_count": 20,
   "id": "118711b7",
   "metadata": {},
   "outputs": [
    {
     "name": "stdout",
     "output_type": "stream",
     "text": [
      "0\n",
      "1\n",
      "2\n",
      "3\n",
      "4\n",
      "5\n",
      "6\n",
      "7\n"
     ]
    }
   ],
   "source": [
    "for i in range(8) :\n",
    "    print(i)"
   ]
  },
  {
   "cell_type": "code",
   "execution_count": 21,
   "id": "7238af20",
   "metadata": {},
   "outputs": [
    {
     "name": "stdout",
     "output_type": "stream",
     "text": [
      "3\n",
      "4\n",
      "5\n",
      "6\n",
      "7\n"
     ]
    }
   ],
   "source": [
    "for i in range(3,8) :\n",
    "    print(i)"
   ]
  },
  {
   "cell_type": "code",
   "execution_count": 22,
   "id": "d9db9f25",
   "metadata": {},
   "outputs": [
    {
     "name": "stdout",
     "output_type": "stream",
     "text": [
      "1\n",
      "4\n",
      "7\n",
      "10\n"
     ]
    }
   ],
   "source": [
    "for i in range(1,12,3) :\n",
    "    print(i)"
   ]
  },
  {
   "cell_type": "code",
   "execution_count": 25,
   "id": "18e88cd7",
   "metadata": {},
   "outputs": [
    {
     "name": "stdout",
     "output_type": "stream",
     "text": [
      "0\n",
      "1\n",
      "2\n",
      "3\n",
      "4\n",
      "5\n",
      "6\n",
      "7\n",
      "8\n",
      "9\n",
      "nice\n"
     ]
    }
   ],
   "source": [
    "for sumit in range(10):\n",
    "    print(sumit)\n",
    "else:\n",
    "    print(\"nice\")"
   ]
  },
  {
   "cell_type": "code",
   "execution_count": 27,
   "id": "f26401be",
   "metadata": {},
   "outputs": [
    {
     "name": "stdout",
     "output_type": "stream",
     "text": [
      "0\n",
      "1\n",
      "2\n",
      "3\n",
      "4\n",
      "5\n",
      "6\n"
     ]
    }
   ],
   "source": [
    "for sumit in range(10):\n",
    "    print(sumit)\n",
    "    if sumit==6:\n",
    "        break\n",
    "else:\n",
    "    print(\"nice\")"
   ]
  },
  {
   "cell_type": "code",
   "execution_count": 45,
   "id": "177cfc35",
   "metadata": {
    "scrolled": true
   },
   "outputs": [
    {
     "name": "stdout",
     "output_type": "stream",
     "text": [
      "1\n",
      "2\n",
      "3\n",
      "4\n",
      "6\n",
      "7\n",
      "8\n",
      "9\n"
     ]
    }
   ],
   "source": [
    "for sumit in range(1,10):\n",
    "    if sumit==5:\n",
    "        continue\n",
    "    print(sumit)"
   ]
  },
  {
   "cell_type": "code",
   "execution_count": 46,
   "id": "8a05a91c",
   "metadata": {},
   "outputs": [],
   "source": [
    "x=6\n",
    "if x>5:\n",
    "    pass"
   ]
  },
  {
   "cell_type": "code",
   "execution_count": 12,
   "id": "4a6356fb",
   "metadata": {},
   "outputs": [
    {
     "name": "stdout",
     "output_type": "stream",
     "text": [
      "1  2  3  4  5  6  7  8  9  "
     ]
    }
   ],
   "source": [
    "i=0\n",
    "for i in range(1,10):\n",
    "    print(i , end = \"  \")"
   ]
  },
  {
   "cell_type": "code",
   "execution_count": 3,
   "id": "c66f6fad",
   "metadata": {},
   "outputs": [
    {
     "name": "stdout",
     "output_type": "stream",
     "text": [
      "Enter the value of m : 1\n",
      "Enter the value of n : 10\n",
      "1\n",
      "3\n",
      "6\n",
      "10\n",
      "15\n",
      "21\n",
      "28\n",
      "36\n",
      "45\n",
      "55\n"
     ]
    }
   ],
   "source": [
    "m = int(input(\"Enter the value of m : \"))\n",
    "n = int(input(\"Enter the value of n : \"))\n",
    "s= 0\n",
    "for k in range(m,n+1,1):\n",
    "    s=s+k\n",
    "    print(str(s))"
   ]
  },
  {
   "cell_type": "code",
   "execution_count": null,
   "id": "495b5edb",
   "metadata": {},
   "outputs": [],
   "source": []
  },
  {
   "cell_type": "code",
   "execution_count": null,
   "id": "fcda00fe",
   "metadata": {},
   "outputs": [],
   "source": [
    "5"
   ]
  }
 ],
 "metadata": {
  "kernelspec": {
   "display_name": "Python 3 (ipykernel)",
   "language": "python",
   "name": "python3"
  },
  "language_info": {
   "codemirror_mode": {
    "name": "ipython",
    "version": 3
   },
   "file_extension": ".py",
   "mimetype": "text/x-python",
   "name": "python",
   "nbconvert_exporter": "python",
   "pygments_lexer": "ipython3",
   "version": "3.9.7"
  }
 },
 "nbformat": 4,
 "nbformat_minor": 5
}
