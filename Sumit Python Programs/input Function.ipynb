{
 "cells": [
  {
   "cell_type": "markdown",
   "id": "166d3485",
   "metadata": {},
   "source": [
    "# input function"
   ]
  },
  {
   "cell_type": "code",
   "execution_count": 4,
   "id": "48651442",
   "metadata": {},
   "outputs": [
    {
     "name": "stdout",
     "output_type": "stream",
     "text": [
      "enter a character : sumit vitthal satre\n",
      "sumit \n"
     ]
    }
   ],
   "source": [
    "ch = input(\"enter a character : \")\n",
    "print(ch[:6])"
   ]
  },
  {
   "cell_type": "code",
   "execution_count": 20,
   "id": "28f7707a",
   "metadata": {
    "scrolled": true
   },
   "outputs": [
    {
     "name": "stdout",
     "output_type": "stream",
     "text": [
      "Enter the 1st No. : 32\n",
      "Enter the 2nd No. : 32\n",
      "Here is the answer :  64\n"
     ]
    }
   ],
   "source": [
    "x = int(input(\"Enter the 1st No. : \"))\n",
    "y = int(input(\"Enter the 2nd No. : \"))\n",
    "z = x + y\n",
    "print(\"Here is the answer : \" , z)"
   ]
  },
  {
   "cell_type": "code",
   "execution_count": 18,
   "id": "df9d40ef",
   "metadata": {},
   "outputs": [
    {
     "name": "stdout",
     "output_type": "stream",
     "text": [
      "Enter the 1st No. : 125\n",
      "Enter the 2nd No. : 189\n",
      "Here is the answer :  30\n"
     ]
    }
   ],
   "source": [
    "x = int(input(\"Enter the 1st No. : \")[:2])\n",
    "y = int(input(\"Enter the 2nd No. : \")[:2])\n",
    "z = x + y\n",
    "print(\"Here is the answer : \" , z)"
   ]
  },
  {
   "cell_type": "code",
   "execution_count": 24,
   "id": "08f50fa7",
   "metadata": {},
   "outputs": [
    {
     "name": "stdout",
     "output_type": "stream",
     "text": [
      "add you marks : 54+65-55-88/2+55*5\n",
      "295\n"
     ]
    }
   ],
   "source": [
    "marks = int(eval(input(\"add you marks : \")))\n",
    "print(marks)"
   ]
  },
  {
   "cell_type": "code",
   "execution_count": 33,
   "id": "b2b09f88",
   "metadata": {
    "scrolled": true
   },
   "outputs": [
    {
     "name": "stdout",
     "output_type": "stream",
     "text": [
      "enter your all sub points  65.5+0.22+32.88\n",
      "98.6\n"
     ]
    }
   ],
   "source": [
    "pointer = float(eval(input(\"enter your all sub points  \")))\n",
    "print(pointer)"
   ]
  },
  {
   "cell_type": "code",
   "execution_count": 11,
   "id": "d93220f4",
   "metadata": {
    "scrolled": true
   },
   "outputs": [
    {
     "name": "stdout",
     "output_type": "stream",
     "text": [
      "enter the 1st no.  98\n",
      "enter the 2nd no.  102\n",
      "here is addition :  200\n"
     ]
    }
   ],
   "source": [
    "x=int(input(\"enter the 1st no.  \"))\n",
    "y=int(input(\"enter the 2nd no.  \"))\n",
    "z = x + y\n",
    "print(\"here is addition : \" ,z)"
   ]
  },
  {
   "cell_type": "code",
   "execution_count": 15,
   "id": "c419fc49",
   "metadata": {},
   "outputs": [
    {
     "name": "stdout",
     "output_type": "stream",
     "text": [
      "add you marks : 12\n",
      "12\n"
     ]
    }
   ],
   "source": [
    "marks = int(eval(input(\"add you marks : \")))\n",
    "print(marks)"
   ]
  },
  {
   "cell_type": "code",
   "execution_count": null,
   "id": "1150a6c6",
   "metadata": {},
   "outputs": [],
   "source": []
  }
 ],
 "metadata": {
  "kernelspec": {
   "display_name": "Python 3 (ipykernel)",
   "language": "python",
   "name": "python3"
  },
  "language_info": {
   "codemirror_mode": {
    "name": "ipython",
    "version": 3
   },
   "file_extension": ".py",
   "mimetype": "text/x-python",
   "name": "python",
   "nbconvert_exporter": "python",
   "pygments_lexer": "ipython3",
   "version": "3.9.7"
  }
 },
 "nbformat": 4,
 "nbformat_minor": 5
}
