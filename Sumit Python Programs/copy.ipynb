{
 "cells": [
  {
   "cell_type": "code",
   "execution_count": 2,
   "id": "2e115030",
   "metadata": {},
   "outputs": [
    {
     "name": "stdout",
     "output_type": "stream",
     "text": [
      "Sumit 0\n",
      "Sumit 1\n",
      "Sumit 2\n",
      "Sumit 3\n",
      "Sumit 4\n",
      "Sumit 5\n"
     ]
    }
   ],
   "source": [
    "i=0\n",
    "while i<=5:\n",
    "    print(\"Sumit\" ,  i)\n",
    "    i+=1"
   ]
  },
  {
   "cell_type": "code",
   "execution_count": 7,
   "id": "68349217",
   "metadata": {
    "scrolled": true
   },
   "outputs": [
    {
     "name": "stdout",
     "output_type": "stream",
     "text": [
      "Sumit 10\n",
      "Sumit 9\n",
      "Sumit 8\n",
      "Sumit 7\n",
      "Sumit 6\n",
      "Sumit 5\n",
      "Sumit 4\n",
      "Sumit 3\n",
      "Sumit 2\n",
      "Sumit 1\n"
     ]
    }
   ],
   "source": [
    "i=10\n",
    "while i>=1:\n",
    "    print(\"Sumit\" , i)\n",
    "    i+=-1"
   ]
  },
  {
   "cell_type": "code",
   "execution_count": 23,
   "id": "30756ff8",
   "metadata": {},
   "outputs": [
    {
     "name": "stdout",
     "output_type": "stream",
     "text": [
      "Sumit Rocks Rocks Rocks \n",
      "\n",
      "Sumit Rocks Rocks Rocks \n",
      "\n",
      "Sumit Rocks Rocks Rocks \n",
      "\n",
      "Sumit Rocks Rocks Rocks \n",
      "\n",
      "Sumit Rocks Rocks Rocks \n",
      "\n"
     ]
    }
   ],
   "source": [
    "i=1\n",
    "while i<=5:\n",
    "    print(\"Sumit\" , end =\" \")\n",
    "    \n",
    "    j=1\n",
    "    while j<=3:\n",
    "        print(\"Rocks\" , end =\" \")\n",
    "        j=j+1\n",
    "    i=i+1\n",
    "    print(\"\\n\")"
   ]
  },
  {
   "cell_type": "code",
   "execution_count": null,
   "id": "6413837d",
   "metadata": {},
   "outputs": [],
   "source": []
  }
 ],
 "metadata": {
  "kernelspec": {
   "display_name": "Python 3 (ipykernel)",
   "language": "python",
   "name": "python3"
  },
  "language_info": {
   "codemirror_mode": {
    "name": "ipython",
    "version": 3
   },
   "file_extension": ".py",
   "mimetype": "text/x-python",
   "name": "python",
   "nbconvert_exporter": "python",
   "pygments_lexer": "ipython3",
   "version": "3.9.7"
  }
 },
 "nbformat": 4,
 "nbformat_minor": 5
}
