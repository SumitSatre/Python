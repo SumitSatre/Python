{
 "cells": [
  {
   "cell_type": "code",
   "execution_count": 10,
   "id": "e981ebb3",
   "metadata": {},
   "outputs": [
    {
     "name": "stdout",
     "output_type": "stream",
     "text": [
      "Enter the No.  6\n",
      "6X1=6\n",
      "6X2=12\n",
      "6X3=18\n",
      "6X4=24\n",
      "6X5=30\n",
      "6X6=36\n",
      "6X7=42\n",
      "6X8=48\n",
      "6X9=54\n",
      "6X10=60\n"
     ]
    }
   ],
   "source": [
    "num = int(input(\"Enter the No.  \")) #while loop\n",
    "i=1\n",
    "while i<11:\n",
    "    print(str(num) + \"X\" + str(i) + \"=\" + str(num*i))\n",
    "    i=i+1"
   ]
  },
  {
   "cell_type": "code",
   "execution_count": 9,
   "id": "b43b0280",
   "metadata": {},
   "outputs": [
    {
     "name": "stdout",
     "output_type": "stream",
     "text": [
      "Enter the No. : 3\n",
      "3X1=3\n",
      "3X2=6\n",
      "3X3=9\n",
      "3X4=12\n",
      "3X5=15\n",
      "3X6=18\n",
      "3X7=21\n",
      "3X8=24\n",
      "3X9=27\n",
      "3X10=30\n"
     ]
    }
   ],
   "source": [
    "num = int(input(\"Enter the No. : \"))\n",
    "for i in range (1,11):\n",
    "    print(str(num) + \"X\" + str(i) + \"=\" + str(num*i))\n",
    "    "
   ]
  },
  {
   "cell_type": "code",
   "execution_count": 14,
   "id": "d0bf77a7",
   "metadata": {},
   "outputs": [
    {
     "name": "stdout",
     "output_type": "stream",
     "text": [
      "Hello sumit\n"
     ]
    }
   ],
   "source": [
    "l1 = [\"harry\" , \"sohan\" , \"sumit\" , \"saurabh\"]\n",
    "for name in l1:\n",
    "    if name.endswith(\"t\"):\n",
    "        print(\"Hello \" + str(name) )"
   ]
  },
  {
   "cell_type": "code",
   "execution_count": 15,
   "id": "d2b3b5db",
   "metadata": {},
   "outputs": [
    {
     "name": "stdout",
     "output_type": "stream",
     "text": [
      "Hello sohan\n",
      "Hello sumit\n",
      "Hello saurabh\n"
     ]
    }
   ],
   "source": [
    "l1 = [\"harry\" , \"sohan\" , \"sumit\" , \"saurabh\"]\n",
    "for name in l1:\n",
    "    if name.startswith(\"s\"):\n",
    "        print(\"Hello \" + str(name) )"
   ]
  },
  {
   "cell_type": "code",
   "execution_count": null,
   "id": "ce3b2e1b",
   "metadata": {},
   "outputs": [],
   "source": [
    "num = int(input(\"Enter the no. : \"))\n"
   ]
  }
 ],
 "metadata": {
  "kernelspec": {
   "display_name": "Python 3 (ipykernel)",
   "language": "python",
   "name": "python3"
  },
  "language_info": {
   "codemirror_mode": {
    "name": "ipython",
    "version": 3
   },
   "file_extension": ".py",
   "mimetype": "text/x-python",
   "name": "python",
   "nbconvert_exporter": "python",
   "pygments_lexer": "ipython3",
   "version": "3.9.7"
  }
 },
 "nbformat": 4,
 "nbformat_minor": 5
}
