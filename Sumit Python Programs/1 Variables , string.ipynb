{
 "cells": [
  {
   "cell_type": "code",
   "execution_count": 1,
   "id": "784adabe",
   "metadata": {},
   "outputs": [
    {
     "name": "stdout",
     "output_type": "stream",
     "text": [
      "2\n",
      "14\n",
      "8\n",
      "17\n",
      "SUMIT Rocks\n",
      "S\n",
      "U\n",
      "M\n",
      "I\n",
      "T\n",
      "SUMIT\n",
      "UM\n",
      "SUMIT\n",
      "SUM\n",
      "I am SUMIT\n",
      "SUMIT\n",
      "1\n",
      "2\n",
      "3\n"
     ]
    }
   ],
   "source": [
    "x=2\n",
    "y=6\n",
    "z=\"SUMIT\"\n",
    "print(x)\n",
    "print(x+12)\n",
    "print(x+y)\n",
    "x=8\n",
    "y=9\n",
    "print(x+y)\n",
    "print(z+\" Rocks\")\n",
    "print(z[0])\n",
    "print(z[1])\n",
    "print(z[2])\n",
    "print(z[-2])\n",
    "print(z[-1])\n",
    "print(z[0:5])\n",
    "print(z[1:3])\n",
    "print(z[0:])\n",
    "print(z[:3])\n",
    "print('I am ' + z) \n",
    "print('SU' + z[2:])\n",
    "x,y,z = 1,2,3\n",
    "print(x)\n",
    "print(y)\n",
    "print(z)"
   ]
  },
  {
   "cell_type": "code",
   "execution_count": 22,
   "id": "fff7fc13",
   "metadata": {},
   "outputs": [
    {
     "name": "stdout",
     "output_type": "stream",
     "text": [
      "Hello \tworld!\n",
      "Hello \n",
      "world!\n",
      "Hello \\nworld!\n"
     ]
    }
   ],
   "source": [
    "print(\"Hello \\tworld!\")# \\t is used to give tab space\n",
    "print(\"Hello \\nworld!\")#\\n is used to start on next line\n",
    "print(R\"Hello \\nworld!\")#r or R are used to print string as it is"
   ]
  },
  {
   "cell_type": "code",
   "execution_count": 1,
   "id": "ade1839f",
   "metadata": {},
   "outputs": [
    {
     "name": "stdout",
     "output_type": "stream",
     "text": [
      "sumit satre 5\n"
     ]
    }
   ],
   "source": [
    "king= 5\n",
    "print('sumit', 'satre' ,king )"
   ]
  },
  {
   "cell_type": "code",
   "execution_count": 2,
   "id": "bfdc7509",
   "metadata": {
    "scrolled": true
   },
   "outputs": [
    {
     "data": {
      "text/plain": [
       "'Hello\"\"\"\"\"\"\"\"\"\"\"\"\"\"\"'"
      ]
     },
     "execution_count": 2,
     "metadata": {},
     "output_type": "execute_result"
    }
   ],
   "source": [
    "format('Hello', '\"<20')"
   ]
  },
  {
   "cell_type": "code",
   "execution_count": 6,
   "id": "8ae8e3a0",
   "metadata": {},
   "outputs": [
    {
     "data": {
      "text/plain": [
       "'.........................Hello'"
      ]
     },
     "execution_count": 6,
     "metadata": {},
     "output_type": "execute_result"
    }
   ],
   "source": [
    "format('Hello', '.>30')"
   ]
  },
  {
   "cell_type": "code",
   "execution_count": null,
   "id": "7834324a",
   "metadata": {},
   "outputs": [],
   "source": []
  }
 ],
 "metadata": {
  "kernelspec": {
   "display_name": "Python 3 (ipykernel)",
   "language": "python",
   "name": "python3"
  },
  "language_info": {
   "codemirror_mode": {
    "name": "ipython",
    "version": 3
   },
   "file_extension": ".py",
   "mimetype": "text/x-python",
   "name": "python",
   "nbconvert_exporter": "python",
   "pygments_lexer": "ipython3",
   "version": "3.9.7"
  }
 },
 "nbformat": 4,
 "nbformat_minor": 5
}
