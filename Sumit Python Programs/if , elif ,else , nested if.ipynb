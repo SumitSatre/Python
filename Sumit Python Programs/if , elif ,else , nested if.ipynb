{
 "cells": [
  {
   "cell_type": "markdown",
   "id": "2dbd21af",
   "metadata": {},
   "source": [
    "# if , elif ,else , nested if"
   ]
  },
  {
   "cell_type": "code",
   "execution_count": 1,
   "id": "3f26c18b",
   "metadata": {},
   "outputs": [
    {
     "name": "stdout",
     "output_type": "stream",
     "text": [
      "enter 1st No.  5\n",
      "Enter 2nd No.  5\n",
      "Enter 3rd No.  5\n",
      "All numbers are equal\n"
     ]
    }
   ],
   "source": [
    "num1 = int(input(\"enter 1st No.  \"))\n",
    "num2 = int(input(\"Enter 2nd No.  \"))\n",
    "num3 = int(input(\"Enter 3rd No.  \"))\n",
    "if (num1 > num2) and (num1 > num3):\n",
    "    print(\"num1 is greater than num2 and num3\")\n",
    "elif(num2 > num1) and (num2 > num3):\n",
    "    print(\"num2 is greater thsn num1 and num3\")\n",
    "elif(num3 > num1) and (num3 > num2):\n",
    "    print(\"num3 is greater than num1 and num2 \")\n",
    "else:\n",
    "    print(\"All numbers are equal\")"
   ]
  },
  {
   "cell_type": "code",
   "execution_count": 6,
   "id": "8fd59c8d",
   "metadata": {},
   "outputs": [
    {
     "name": "stdout",
     "output_type": "stream",
     "text": [
      "enter 1st No.  65\n",
      "Enter 2nd No.  32\n",
      "Enter 3rd No.  98\n",
      "num3 is greater than num1 and num2 \n"
     ]
    }
   ],
   "source": [
    "num1 = int(input(\"enter 1st No.  \"))\n",
    "num2 = int(input(\"Enter 2nd No.  \"))\n",
    "num3 = int(input(\"Enter 3rd No.  \"))\n",
    "if (num1 > num2) and (num1 > num3):\n",
    "    print(\"num1 is greater than num2 and num3\")\n",
    "elif(num2 > num1) and (num2 > num3):\n",
    "    print(\"num2 is greater thsn num1 and num3\")\n",
    "elif(num3 > num1) and (num3 > num2):\n",
    "    print(\"num3 is greater than num1 and num2 \")\n",
    "else:\n",
    "    print(\"All numbers are equal\")"
   ]
  },
  {
   "cell_type": "code",
   "execution_count": 9,
   "id": "32edb917",
   "metadata": {},
   "outputs": [
    {
     "name": "stdout",
     "output_type": "stream",
     "text": [
      "i am right\n"
     ]
    }
   ],
   "source": [
    "if True:\n",
    "    print(\"i am right\")\n",
    "#if condition is true it print the statememt"
   ]
  },
  {
   "cell_type": "code",
   "execution_count": 10,
   "id": "7df7e7ff",
   "metadata": {},
   "outputs": [],
   "source": [
    "if False:\n",
    "    print(\"oops!\")\n",
    "#if the condition is false it does not print (it skip it)"
   ]
  },
  {
   "cell_type": "code",
   "execution_count": 14,
   "id": "af971994",
   "metadata": {},
   "outputs": [
    {
     "name": "stdout",
     "output_type": "stream",
     "text": [
      "one\n",
      "one\n"
     ]
    }
   ],
   "source": [
    "x=1\n",
    "if x==1 :\n",
    "    print(\"one\")\n",
    "if x==1 :\n",
    "    print(\"one\")"
   ]
  },
  {
   "cell_type": "code",
   "execution_count": 13,
   "id": "93e0d45d",
   "metadata": {},
   "outputs": [
    {
     "name": "stdout",
     "output_type": "stream",
     "text": [
      "one\n"
     ]
    }
   ],
   "source": [
    "x=1\n",
    "if x==1 :\n",
    "    print(\"one\")\n",
    "elif x==1 :\n",
    "    print(\"one\")"
   ]
  },
  {
   "cell_type": "code",
   "execution_count": 29,
   "id": "e921ca5e",
   "metadata": {},
   "outputs": [
    {
     "name": "stdout",
     "output_type": "stream",
     "text": [
      "Enter the marks : 56\n",
      "enter the marks : 65\n",
      "Enter the marks : 89\n",
      "Enter the marks : 25\n",
      "Enter the marks : 45\n",
      "2nd distinction\n"
     ]
    }
   ],
   "source": [
    "sub1 = int(input(\"Enter the marks : \"))\n",
    "sub2 = int(input(\"enter the marks : \"))\n",
    "sub3 = int(input(\"Enter the marks : \"))\n",
    "sub4 = int(input(\"Enter the marks : \"))\n",
    "sub5 = int(input(\"Enter the marks : \"))\n",
    "total = sub1 + sub2 + sub3 + sub4 + sub5\n",
    "aggregate = float(total/5)\n",
    "if (aggregate>=75):\n",
    "    print(\"Distinction\")\n",
    "elif (aggregate < 75) and (aggregate>=60):\n",
    "    print(\"1st Distinction\")\n",
    "elif (aggregate < 60) and (aggregate >=50):\n",
    "    print(\"2nd distinction\")\n",
    "elif (aggregate < 50) and (aggregate >=40):\n",
    "    print(\"3rd Distinction\")\n",
    "else:\n",
    "    print(\"Better luck next time! You are fail\")"
   ]
  },
  {
   "cell_type": "code",
   "execution_count": null,
   "id": "d22030c0",
   "metadata": {
    "scrolled": true
   },
   "outputs": [],
   "source": [
    "age = int(input(\"Enter your age : \"))\n",
    "if age>=18:\n",
    "    print(\"your are eligible for vote\")\n",
    "else:\n",
    "    yrs= 18-age\n",
    "    print(\"Your not eligible for voting, \" + str(yrs) + \" years remain for your voting\")"
   ]
  },
  {
   "cell_type": "code",
   "execution_count": 9,
   "id": "0adef195",
   "metadata": {},
   "outputs": [
    {
     "name": "stdout",
     "output_type": "stream",
     "text": [
      "Enter the character : vvc\n",
      "The above character is lowercase character\n"
     ]
    }
   ],
   "source": [
    "ch = input(\"Enter the character : \")[:2]\n",
    "if (ch>= \"A\" and ch<=\"Z\"):\n",
    "   print('the above character is uppercase character')\n",
    "elif (ch>=\"a\" and ch<=\"z\"):\n",
    "    print(\"The above character is lowercase character\")\n",
    "else:\n",
    "    print('it is not a character')"
   ]
  }
 ],
 "metadata": {
  "kernelspec": {
   "display_name": "Python 3 (ipykernel)",
   "language": "python",
   "name": "python3"
  },
  "language_info": {
   "codemirror_mode": {
    "name": "ipython",
    "version": 3
   },
   "file_extension": ".py",
   "mimetype": "text/x-python",
   "name": "python",
   "nbconvert_exporter": "python",
   "pygments_lexer": "ipython3",
   "version": "3.9.7"
  }
 },
 "nbformat": 4,
 "nbformat_minor": 5
}
