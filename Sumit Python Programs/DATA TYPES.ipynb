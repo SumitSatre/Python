{
 "cells": [
  {
   "cell_type": "code",
   "execution_count": 5,
   "id": "52f893c3",
   "metadata": {},
   "outputs": [
    {
     "name": "stdout",
     "output_type": "stream",
     "text": [
      "2\n",
      "14\n",
      "8\n",
      "17\n",
      "SUMIT Rocks\n",
      "S\n",
      "U\n",
      "M\n",
      "I\n",
      "T\n",
      "SUMIT\n",
      "UM\n",
      "SUMIT\n",
      "SUM\n",
      "I am SUMIT\n",
      "SUMIT\n",
      "1\n",
      "2\n",
      "3\n"
     ]
    }
   ],
   "source": [
    "#Python :-\n",
    "\n",
    "#1)Variable = It is like a container where we can put our values. (store our values) \n",
    "#    - We can change the value.\n",
    " \n",
    "#Ex. \n",
    "x=2\n",
    "y=6\n",
    "z=\"SUMIT\"\n",
    "print(x)\n",
    "print(x+12)\n",
    "print(x+y)\n",
    "x=8\n",
    "y=9\n",
    "print(x+y)\n",
    "print(z+\" Rocks\")\n",
    "print(z[0])\n",
    "print(z[1])\n",
    "print(z[2])\n",
    "print(z[-2])\n",
    "print(z[-1])\n",
    "print(z[0:5])\n",
    "print(z[1:3])\n",
    "print(z[0:])\n",
    "print(z[:3])\n",
    "print('I am ' + z) \n",
    "print('SU' + z[2:])\n",
    "x,y,z = 1,2,3\n",
    "print(x)\n",
    "print(y)\n",
    "print(z)\n",
    "\n"
   ]
  },
  {
   "cell_type": "markdown",
   "id": "539e4dd4",
   "metadata": {},
   "source": [
    "# There are four collection data types in the Python programming language:\n",
    "\n",
    "1) List is a collection which is ordered and changeable. Allows duplicate members.\n",
    "\n",
    "2) Tuple is a collection which is ordered and unchangeable. Allows duplicate members.\n",
    "\n",
    "3) Set is a collection which is unordered, unchangeable*, and unindexed. No duplicate members.\n",
    "4) Dictionary is a collection which is ordered** and changeable. No duplicate members.\n",
    "\n"
   ]
  },
  {
   "cell_type": "code",
   "execution_count": 6,
   "id": "809d41d6",
   "metadata": {},
   "outputs": [
    {
     "name": "stdout",
     "output_type": "stream",
     "text": [
      "['sumit', 'saurabh', 'mummy', 'Dada']\n",
      "Dada\n",
      "mummy\n",
      "['sumit', 'saurabh', 'mummy', 'Dada']\n",
      "['sumit', 'saurabh']\n",
      "[55, 'Sumit', 'Saurabh']\n",
      "Sumit\n",
      "['sumit', 'saurabh', 'mummy', 'Dada', 55, 'Sumit', 'Saurabh']\n",
      "[25, 36, 65, 76, 86]\n",
      "['sumit', 'saurabh', 'mummy', 'Dada', 55, 'Sumit', 'Saurabh', 25, 36, 65, 76, 86]\n",
      "[76, 96, 64]\n",
      "[76, 96, 64, 456, 835, 838, 318, 864, 468]\n",
      "64\n",
      "[76, 96, 64, 456, 835, 838, 318, 864, 468]\n",
      "4015\n",
      "864\n",
      "['aditya', 'saurabh', 'sumit', 'tejas']\n",
      "['aditya', 'saurabh', 'sumit', 'Tejas']\n",
      "9\n"
     ]
    }
   ],
   "source": [
    "#1) Lists= It is used to store multiple items in single variable. \n",
    "#  List created using square bracket [] \n",
    "#  List is mutable. \n",
    "#Ex. \n",
    "\n",
    "a=[\"sumit\",\"saurabh\",\"mummy\",\"Dada\"]\n",
    "print(a)\n",
    "print(a[-1])\n",
    "print(a[-2])\n",
    "print(a[0:])\n",
    "print(a[:2])\n",
    "b=[55,'Sumit','Saurabh']\n",
    "print(b)\n",
    "print(b[1])\n",
    "print(a+b)\n",
    "c=[25,36,65,76,86]\n",
    "print( c )\n",
    "print(a+b+c)\n",
    "\n",
    "\n",
    "# Ex. \n",
    "  \n",
    "marks=[84,84,76,96,64,79,56,59,46,13,43,53,43,85]\n",
    "marks.remove(84)\n",
    "marks.pop(0)\n",
    "marks.pop()\n",
    "del marks[3:]\n",
    "print(marks)\n",
    "marks.extend([456,835,838,318,864,468])\n",
    "print(marks)\n",
    "print(min(marks))\n",
    "print(marks)\n",
    "print(sum(marks))\n",
    "print(max(marks))\n",
    "name=[\"sumit\",\"saurabh\",\"aditya\",\"tejas\"]\n",
    "name.sort()\n",
    "print(name)\n",
    "name.pop(3)\n",
    "name.extend([\"Tejas\"])\n",
    "print(name) \n",
    "print(len(marks))\n",
    "\n"
   ]
  },
  {
   "cell_type": "code",
   "execution_count": null,
   "id": "c8a572bd",
   "metadata": {},
   "outputs": [],
   "source": [
    "#2)Tuples=It is almost same as list. \n",
    "#     A tuple is a collection which is ordered and unchangeable.\n",
    " #  It is inmutable. \n",
    "#  Tuples created using closed bracket. ()\n",
    "   "
   ]
  },
  {
   "cell_type": "code",
   "execution_count": null,
   "id": "7b59ba21",
   "metadata": {},
   "outputs": [],
   "source": [
    "#3) Set =A set is a collection which is unordered, unchangeable*, and unindexed.\n",
    " #      Set created using Curly bracket. {}\n",
    "   "
   ]
  },
  {
   "cell_type": "code",
   "execution_count": 4,
   "id": "1d04ee0c",
   "metadata": {},
   "outputs": [
    {
     "name": "stdout",
     "output_type": "stream",
     "text": [
      "sumit\n",
      "Not Found\n",
      "{'x': 1, 'y': 2, 'z': 3}\n",
      "{'x': 1, 'y': 2, 'z': 3, 'p': '4'}\n",
      "{2: 'saurabh', 3: 'aditya', 4: 'payal', 5: 'tejas'}\n",
      "{' Criket ': 'Virat', ' Football ': ' Ronaldo', 'Pubg': ['Sumit', ' Scout', 'Mortal'], 'Gotya': {'Satrewadi': ['Sumit', 'Sushant', 'Parshya'], 'Kalamboli': 'Atharva'}}\n",
      "{'Satrewadi': ['Sumit', 'Sushant', 'Parshya'], 'Kalamboli': 'Atharva'}\n",
      "{' Criket ': 'Virat', 'Pubg': ['Sumit', ' Scout', 'Mortal'], 'Gotya': {'Satrewadi': ['Sumit', 'Sushant', 'Parshya'], 'Kalamboli': 'Atharva'}}\n",
      "{' Criket ': 'Virat', 'Pubg': ['Sumit', ' Scout', 'Mortal'], 'Gotya': {'Satrewadi': ['Sumit', 'Sushant', 'Parshya'], 'Kalamboli': 'Atharva'}, 'Kho Kho': ' Sumit '}\n"
     ]
    }
   ],
   "source": [
    "#4) Dictionary =Dictionaries are used to store data values in key:value pairs.\n",
    "\n",
    "#A dictionary is a collection which is ordered*, changeable and do not allow duplicates.\n",
    "# Ex.\n",
    "    \n",
    "names = {1:\"sumit\",2:\"saurabh\",3:\"aditya\",4:\"payal\",5:\"tejas\"}\n",
    "print(names[1])\n",
    "print(names.get(6 , \"Not Found\"))\n",
    "a = ['x','y','z']\n",
    "b = [1,2,3]\n",
    "data = dict(zip(a,b))\n",
    "print(data)\n",
    "data['p'] = '4'\n",
    "print(data)\n",
    "del names[1]\n",
    "print(names)\n",
    "sports = { ' Criket ' : 'Virat' , ' Football ' : ' Ronaldo' , 'Pubg' : [ 'Sumit' , ' Scout' , 'Mortal' ] , 'Gotya' : { 'Satrewadi' : ['Sumit' ,'Sushant' , 'Parshya'] , 'Kalamboli' : 'Atharva' } }\n",
    "print(sports)\n",
    "print(sports['Gotya'])\n",
    "sports.pop(\" Football \")\n",
    "print(sports)\n",
    "sports.update({'Kho Kho' : ' Sumit '})\n",
    "print(sports)\n"
   ]
  },
  {
   "cell_type": "code",
   "execution_count": 7,
   "id": "8ac0f56b",
   "metadata": {},
   "outputs": [
    {
     "name": "stdout",
     "output_type": "stream",
     "text": [
      "30\n",
      "11\n",
      "-1\n",
      "0.8333333333333334\n",
      "15\n",
      "20\n",
      "True\n",
      "-3\n",
      "True\n",
      "False\n",
      "True\n",
      "False\n",
      "2.0\n",
      "-8\n",
      "False\n",
      "2.0\n",
      "False\n"
     ]
    }
   ],
   "source": [
    "#Operators in python:-\n",
    "\n",
    "\n",
    "#Ex. \n",
    "x =5 \n",
    "y =6\n",
    "print(x*y)\n",
    "print(x+y)\n",
    "print(x-y)\n",
    "print(x/y)\n",
    "x*=3\n",
    "print(x)\n",
    "x+=5\n",
    "print(x)\n",
    "a,b,c = 3,4,5\n",
    "print(a<b)\n",
    "a = -a\n",
    "print(a)\n",
    "#Relational Operators \n",
    "print(a<b and b<c)\n",
    " #For and both condition must be true\n",
    "print(a<b and b>c)\n",
    "print(a<b or b>c) \n",
    "#For or 1 condition is necessary for tru statement\n",
    "print(a>c or b>c)\n",
    "a!=b  # ! is sign for not\n",
    "b/=2\n",
    "print(b)\n",
    "n=8\n",
    "n=-n\n",
    "print(n)\n",
    "a>=6\n",
    "b<=6\n",
    "print(a==b)\n",
    "print(b)\n",
    "x = True\n",
    "x = not x\n",
    "print(x)\n"
   ]
  },
  {
   "cell_type": "code",
   "execution_count": 12,
   "id": "56352201",
   "metadata": {},
   "outputs": [
    {
     "name": "stdout",
     "output_type": "stream",
     "text": [
      "3\n",
      "2\n",
      "7\n",
      "5\n",
      "12\n",
      "15\n"
     ]
    }
   ],
   "source": [
    "#How to swap the variables values?? \n",
    "\n",
    "#Step 1 :\n",
    "#Ex. \n",
    "\n",
    "a=2\n",
    "b=3\n",
    "c=a #c=2\n",
    "a=b #a=3\n",
    "b=c #b=2\n",
    "print(a)\n",
    "print(b)\n",
    "\n",
    "#Step 2 : \n",
    "#Ex. \n",
    "a=5\n",
    "b=7\n",
    "a=a+b # a = 12\n",
    "b=a-b #b = 5\n",
    "a=a-b #a= 7\n",
    "print(a)\n",
    "print(b)\n",
    "\n",
    "#Step 3:\n",
    "a=15\n",
    "b=12\n",
    "a, b=b,a\n",
    "print(a)\n",
    "print(b)"
   ]
  },
  {
   "cell_type": "code",
   "execution_count": 1,
   "id": "e2676d8f",
   "metadata": {},
   "outputs": [
    {
     "ename": "SyntaxError",
     "evalue": "unexpected EOF while parsing (Temp/ipykernel_42644/1639743505.py, line 14)",
     "output_type": "error",
     "traceback": [
      "\u001b[1;36m  File \u001b[1;32m\"C:\\Users\\sumit\\AppData\\Local\\Temp/ipykernel_42644/1639743505.py\"\u001b[1;36m, line \u001b[1;32m14\u001b[0m\n\u001b[1;33m    print(m.floor(p\u001b[0m\n\u001b[1;37m                   ^\u001b[0m\n\u001b[1;31mSyntaxError\u001b[0m\u001b[1;31m:\u001b[0m unexpected EOF while parsing\n"
     ]
    }
   ],
   "source": [
    "\n",
    "##How to use math function??\n",
    "#Ex.\n",
    "import math as m\n",
    "x=math.sqrt(25)\n",
    "y=math.sqrt(18)\n",
    "print(math.floor(y))\n",
    "print(math.ceil(y))\n",
    "z=math.sin(90)\n",
    "print(z)\n",
    "k=math.cos(0)\n",
    "print(k)\n",
    "print(math.pi)\n",
    "p=m.sqrt(50)\n",
    "print(m.floor(p"
   ]
  },
  {
   "cell_type": "code",
   "execution_count": 5,
   "id": "168b1ed7",
   "metadata": {},
   "outputs": [
    {
     "data": {
      "text/plain": [
       "5"
      ]
     },
     "execution_count": 5,
     "metadata": {},
     "output_type": "execute_result"
    }
   ],
   "source": [
    "sumit = 5\n",
    "str(34)\n",
    "int(sumit)"
   ]
  },
  {
   "cell_type": "code",
   "execution_count": 23,
   "id": "0aa3a4ab",
   "metadata": {},
   "outputs": [
    {
     "name": "stdout",
     "output_type": "stream",
     "text": [
      "Sumit satre\n",
      "Sumit \n",
      "satre\n",
      "umit \n",
      "tre\n",
      " sa\n",
      "Sumit satre\n",
      "11\n"
     ]
    },
    {
     "data": {
      "text/plain": [
       "0"
      ]
     },
     "execution_count": 23,
     "metadata": {},
     "output_type": "execute_result"
    }
   ],
   "source": [
    "x = \"Sumit satre\"\n",
    "print(x)\n",
    "print(x[:6])\n",
    "print(x[6:])\n",
    "print(x[1:6])\n",
    "print(x[8:12])\n",
    "print(x[5:8])\n",
    "print(x[:])\n",
    "print(len(x))\n",
    "x.count(\"Sumit satre\")\n",
    "x.find(\"Sumit\")"
   ]
  },
  {
   "cell_type": "code",
   "execution_count": null,
   "id": "543c70ad",
   "metadata": {},
   "outputs": [],
   "source": []
  }
 ],
 "metadata": {
  "kernelspec": {
   "display_name": "Python 3 (ipykernel)",
   "language": "python",
   "name": "python3"
  },
  "language_info": {
   "codemirror_mode": {
    "name": "ipython",
    "version": 3
   },
   "file_extension": ".py",
   "mimetype": "text/x-python",
   "name": "python",
   "nbconvert_exporter": "python",
   "pygments_lexer": "ipython3",
   "version": "3.9.7"
  }
 },
 "nbformat": 4,
 "nbformat_minor": 5
}
