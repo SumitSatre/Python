{
 "cells": [
  {
   "cell_type": "markdown",
   "id": "ecf2f07a",
   "metadata": {},
   "source": [
    "# Variables: It is like a container where we can put our values. (store our values)   it is mutable\n",
    "  "
   ]
  },
  {
   "cell_type": "code",
   "execution_count": 1,
   "id": "dc40e370",
   "metadata": {},
   "outputs": [
    {
     "name": "stdout",
     "output_type": "stream",
     "text": [
      "2\n",
      "14\n",
      "8\n",
      "17\n",
      "SUMIT Rocks\n",
      "S\n",
      "U\n",
      "M\n",
      "I\n",
      "T\n",
      "SUMIT\n",
      "UM\n",
      "SUMIT\n",
      "SUM\n",
      "I am SUMIT\n",
      "SUMIT\n",
      "1\n",
      "2\n",
      "3\n"
     ]
    }
   ],
   "source": [
    "x=2\n",
    "y=6\n",
    "z=\"SUMIT\"\n",
    "print(x)\n",
    "print(x+12)\n",
    "print(x+y)\n",
    "x=8\n",
    "y=9\n",
    "print(x+y)\n",
    "print(z+\" Rocks\")\n",
    "print(z[0])\n",
    "print(z[1])\n",
    "print(z[2])\n",
    "print(z[-2])\n",
    "print(z[-1])\n",
    "print(z[0:5])\n",
    "print(z[1:3])\n",
    "print(z[0:])\n",
    "print(z[:3])\n",
    "print('I am ' + z) \n",
    "print('SU' + z[2:])\n",
    "x,y,z = 1,2,3\n",
    "print(x)\n",
    "print(y)\n",
    "print(z)"
   ]
  },
  {
   "cell_type": "code",
   "execution_count": null,
   "id": "7fbc5949",
   "metadata": {},
   "outputs": [],
   "source": []
  }
 ],
 "metadata": {
  "kernelspec": {
   "display_name": "Python 3 (ipykernel)",
   "language": "python",
   "name": "python3"
  },
  "language_info": {
   "codemirror_mode": {
    "name": "ipython",
    "version": 3
   },
   "file_extension": ".py",
   "mimetype": "text/x-python",
   "name": "python",
   "nbconvert_exporter": "python",
   "pygments_lexer": "ipython3",
   "version": "3.9.7"
  }
 },
 "nbformat": 4,
 "nbformat_minor": 5
}
