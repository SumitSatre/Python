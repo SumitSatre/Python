{
 "cells": [
  {
   "cell_type": "code",
   "execution_count": 2,
   "id": "077eee80",
   "metadata": {},
   "outputs": [
    {
     "name": "stdout",
     "output_type": "stream",
     "text": [
      "sumit\n",
      "5\n",
      "saurabh\n"
     ]
    }
   ],
   "source": [
    "x = [\"sumit\" ,5, \"saurabh\"]\n",
    "for k in x:\n",
    "    print(k)"
   ]
  },
  {
   "cell_type": "code",
   "execution_count": 5,
   "id": "ce0a40df",
   "metadata": {},
   "outputs": [
    {
     "name": "stdout",
     "output_type": "stream",
     "text": [
      "S    U    M    I    T    "
     ]
    }
   ],
   "source": [
    "y =\"SUMIT\"\n",
    "for i in y:\n",
    "    print(i , end = \"    \")"
   ]
  },
  {
   "cell_type": "code",
   "execution_count": 6,
   "id": "f36e0b55",
   "metadata": {},
   "outputs": [
    {
     "name": "stdout",
     "output_type": "stream",
     "text": [
      "4\n",
      "4\n",
      "5\n",
      "6\n",
      "7\n"
     ]
    }
   ],
   "source": [
    "for i in (4,4,5,6,7):\n",
    "    print(i)"
   ]
  },
  {
   "cell_type": "code",
   "execution_count": 7,
   "id": "0c98e2e4",
   "metadata": {},
   "outputs": [
    {
     "name": "stdout",
     "output_type": "stream",
     "text": [
      "1      2      3      4      5      6      7      8      9      10      "
     ]
    }
   ],
   "source": [
    "for i in range(1,11):\n",
    "    print(i , end=\"      \")"
   ]
  },
  {
   "cell_type": "code",
   "execution_count": 8,
   "id": "e5358309",
   "metadata": {},
   "outputs": [
    {
     "name": "stdout",
     "output_type": "stream",
     "text": [
      "1      3      5      7      9      "
     ]
    }
   ],
   "source": [
    "for i in range(1,11,2):\n",
    "    print(i , end=\"      \")"
   ]
  },
  {
   "cell_type": "code",
   "execution_count": 11,
   "id": "8721d9f3",
   "metadata": {},
   "outputs": [
    {
     "name": "stdout",
     "output_type": "stream",
     "text": [
      "11      10      9      8      7      6      5      4      3      2      "
     ]
    }
   ],
   "source": [
    "for i in range(11,1,-1):\n",
    "    print(i , end=\"      \")"
   ]
  },
  {
   "cell_type": "code",
   "execution_count": 33,
   "id": "cb28ffc4",
   "metadata": {
    "scrolled": false
   },
   "outputs": [
    {
     "name": "stdout",
     "output_type": "stream",
     "text": [
      "1\n",
      "2\n",
      "3\n",
      "4\n",
      "6\n",
      "7\n",
      "8\n",
      "9\n",
      "11\n",
      "12\n",
      "13\n",
      "14\n",
      "16\n",
      "17\n",
      "18\n",
      "19\n"
     ]
    }
   ],
   "source": [
    "for i in range(1,21):\n",
    "    if(i%5!=0):\n",
    "        print(i)"
   ]
  },
  {
   "cell_type": "code",
   "execution_count": null,
   "id": "27504af1",
   "metadata": {},
   "outputs": [],
   "source": []
  }
 ],
 "metadata": {
  "kernelspec": {
   "display_name": "Python 3 (ipykernel)",
   "language": "python",
   "name": "python3"
  },
  "language_info": {
   "codemirror_mode": {
    "name": "ipython",
    "version": 3
   },
   "file_extension": ".py",
   "mimetype": "text/x-python",
   "name": "python",
   "nbconvert_exporter": "python",
   "pygments_lexer": "ipython3",
   "version": "3.9.7"
  }
 },
 "nbformat": 4,
 "nbformat_minor": 5
}
