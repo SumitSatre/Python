{
 "cells": [
  {
   "cell_type": "code",
   "execution_count": 4,
   "id": "18668fa6",
   "metadata": {},
   "outputs": [
    {
     "name": "stdout",
     "output_type": "stream",
     "text": [
      "0.....1.....2.....3.....4.....5.....6.....7.....8.....9.....10....."
     ]
    }
   ],
   "source": [
    "i=0\n",
    "while i<=10:\n",
    "    print(i , end=\".....\")\n",
    "    i = i+1"
   ]
  },
  {
   "cell_type": "code",
   "execution_count": 5,
   "id": "a7242830",
   "metadata": {},
   "outputs": [
    {
     "name": "stdout",
     "output_type": "stream",
     "text": [
      "The addition of first 10 numbers is 55\n"
     ]
    }
   ],
   "source": [
    "n=10\n",
    "i=s=0\n",
    "while i<n+1:\n",
    "    s=s+i\n",
    "    i=i+1\n",
    "print(F\"The addition of first 10 numbers is {s}\")"
   ]
  },
  {
   "cell_type": "code",
   "execution_count": 12,
   "id": "f2ba5fa5",
   "metadata": {
    "scrolled": true
   },
   "outputs": [
    {
     "name": "stdout",
     "output_type": "stream",
     "text": [
      "Enter the -1 number to exit :  \n",
      "Enter the no. :  12\n",
      "Enter the no. :  -12\n",
      "Enter the no. :  0\n",
      "Enter the no. :  13\n",
      "Enter the no. :  -13\n",
      "Enter the no. :  0\n",
      "Enter the no. :  14\n",
      "Enter the no. :  -14\n",
      "Enter the no. :  0\n",
      "Enter the no. :  -1\n",
      "The negative numbers are : 3\n",
      "The positive numbers are : 3\n",
      "The zeros are : 3\n"
     ]
    }
   ],
   "source": [
    "# Write a program  to read the numbers until -1 is encountered . Also count the positive , negative and zeros entered by user\n",
    "\n",
    "n=p=z=0\n",
    "print(\"Enter the -1 number to exit :  \")\n",
    "while(2):\n",
    "    num = float(input(\"Enter the no. :  \"))\n",
    "    if num==-1:\n",
    "        break\n",
    "    elif num==0:\n",
    "        z=z+1\n",
    "    elif num<0:\n",
    "        n=n+1\n",
    "    else:\n",
    "        p=p+1\n",
    "print(F\"The negative numbers are : {n}\")\n",
    "print(F\"The positive numbers are : {p}\")\n",
    "print(f\"The zeros are : {z}\")"
   ]
  },
  {
   "cell_type": "code",
   "execution_count": 10,
   "id": "82723ee6",
   "metadata": {},
   "outputs": [
    {
     "name": "stdout",
     "output_type": "stream",
     "text": [
      "1\n",
      "1  2  3  4  \n",
      "2\n",
      "1  2  3  4  \n"
     ]
    }
   ],
   "source": [
    "for i in range(1,3):\n",
    "   print( str(i) ) \n",
    "   for j in range (1,5):\n",
    "        print(j, end=\"  \")\n",
    "   print()   "
   ]
  },
  {
   "cell_type": "code",
   "execution_count": 1,
   "id": "42489322",
   "metadata": {},
   "outputs": [
    {
     "name": "stdout",
     "output_type": "stream",
     "text": [
      "Enter the number whose table you want :  15\n",
      "15 X 1 = 15\n",
      "15 X 2 = 30\n",
      "15 X 3 = 45\n",
      "15 X 4 = 60\n",
      "15 X 5 = 75\n",
      "15 X 6 = 90\n",
      "15 X 7 = 105\n",
      "15 X 8 = 120\n",
      "15 X 9 = 135\n",
      "15 X 10 = 150\n"
     ]
    }
   ],
   "source": [
    "num = int(input(\"Enter the number whose table you want :  \"))\n",
    "for i in range(1,11):\n",
    "    print(F\"{num} X {i} = {num*i}\")"
   ]
  },
  {
   "cell_type": "code",
   "execution_count": 24,
   "id": "8a58c982",
   "metadata": {},
   "outputs": [
    {
     "name": "stdout",
     "output_type": "stream",
     "text": [
      "Enter the number whose table you want :  15\n",
      "15 X 10 = 150\n",
      "15 X 9 = 135\n",
      "15 X 8 = 120\n",
      "15 X 7 = 105\n",
      "15 X 6 = 90\n",
      "15 X 5 = 75\n",
      "15 X 4 = 60\n",
      "15 X 3 = 45\n",
      "15 X 2 = 30\n",
      "15 X 1 = 15\n"
     ]
    }
   ],
   "source": [
    "num = int(input(\"Enter the number whose table you want :  \"))\n",
    "for i in range(10,0,-1):\n",
    "    print(F\"{num} X {i} = {num*i}\")"
   ]
  },
  {
   "cell_type": "code",
   "execution_count": null,
   "id": "599cfa75",
   "metadata": {},
   "outputs": [],
   "source": []
  }
 ],
 "metadata": {
  "kernelspec": {
   "display_name": "Python 3 (ipykernel)",
   "language": "python",
   "name": "python3"
  },
  "language_info": {
   "codemirror_mode": {
    "name": "ipython",
    "version": 3
   },
   "file_extension": ".py",
   "mimetype": "text/x-python",
   "name": "python",
   "nbconvert_exporter": "python",
   "pygments_lexer": "ipython3",
   "version": "3.9.7"
  }
 },
 "nbformat": 4,
 "nbformat_minor": 5
}
