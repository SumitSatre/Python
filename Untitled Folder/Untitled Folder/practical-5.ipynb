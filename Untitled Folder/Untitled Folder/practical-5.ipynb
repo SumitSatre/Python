{
 "cells": [
  {
   "cell_type": "code",
   "execution_count": null,
   "id": "0f46625e",
   "metadata": {},
   "outputs": [],
   "source": [
    "pip install tensorflow\n"
   ]
  },
  {
   "cell_type": "code",
   "execution_count": null,
   "id": "db871c00",
   "metadata": {},
   "outputs": [],
   "source": [
    "import pandas as pd\n",
    "from keras.models import Sequential\n",
    "from keras.layers import Dense, Activation\n",
    "from keras.optimizers import Adam\n"
   ]
  },
  {
   "cell_type": "code",
   "execution_count": null,
   "id": "75215602",
   "metadata": {},
   "outputs": [],
   "source": [
    "df=pd.read_csv('diabetes.csv')\n",
    "df"
   ]
  },
  {
   "cell_type": "code",
   "execution_count": null,
   "id": "a6c7c991",
   "metadata": {},
   "outputs": [],
   "source": [
    "x=df.iloc[:,:8]\n",
    "x"
   ]
  },
  {
   "cell_type": "code",
   "execution_count": null,
   "id": "61cb9510",
   "metadata": {},
   "outputs": [],
   "source": [
    "y=df.iloc[:,8] #inputdata\n",
    "y"
   ]
  },
  {
   "cell_type": "code",
   "execution_count": null,
   "id": "97cbf21a",
   "metadata": {},
   "outputs": [],
   "source": [
    "model=Sequential()\n",
    "#input layers\n",
    "model.add(Dense(12,input_dim=8,activation='relu'))   # input_din means number of features given like here 8 are given \n",
    "#hidden layer\n",
    "model.add(Dense(8,activation='relu'))\n",
    "model.add(Dense(8,activation='relu')) # if want to change activation \n",
    "#output layer\n",
    "model.add(Dense(1,activation='sigmoid')) \n",
    "\"\"\"Dense(12): This specifies a layer with 12 neurons (or nodes). Each neuron can learn patterns in the data.\n",
    "\n",
    "input_dim=8: This tells the layer that it should expect input data with 8 features. \n",
    "Think of features as the different pieces of information you have about each thing you're trying to predict or analyze.\n",
    "\n",
    "activation='relu': This sets the activation function of the neurons in this layer. \n",
    "The activation function determines whether a neuron \"fires\" or not. \n",
    "'ReLU' (Rectified Linear Unit) is a popular activation function that adds non-linearity to the model. \n",
    "In simple terms, it helps the neural network learn complex patterns in the data.\"\"\"\n",
    "\n",
    "print(5)"
   ]
  },
  {
   "cell_type": "code",
   "execution_count": null,
   "id": "e37a99af",
   "metadata": {},
   "outputs": [],
   "source": [
    "model.compile(loss='binary_crossentropy',optimizer='adam',metrics=['accuracy'])\n",
    "# So, in even simpler words, the line model.compile(loss='binary_crossentropy', optimizer='adam', metrics=['accuracy']) sets\n",
    "# up the model for training. It tells the model how to measure its performance (binary crossentropy loss), how to improve its \n",
    "# performance (Adam optimizer), and what metric to report for you to understand how well it's doing (accuracy).\n",
    "#  'Accuracy' is a common metric that measures the percentage of correctly predicted outcomes."
   ]
  },
  {
   "cell_type": "code",
   "execution_count": null,
   "id": "fa1e30c9",
   "metadata": {
    "scrolled": true
   },
   "outputs": [],
   "source": [
    "model.fit(x,y,epochs=100,batch_size=10)  \n",
    "#So, in even simpler words, the line model.fit(x, y, epochs=100, batch_size=10) trains the model by repeatedly going through \n",
    "#the entire dataset (100 times) in smaller groups of 10 samples at a time. The model adjusts its internal parameters to learn \n",
    "#the patterns in the data that will help it make accurate predictions."
   ]
  },
  {
   "cell_type": "code",
   "execution_count": null,
   "id": "651822a2",
   "metadata": {},
   "outputs": [],
   "source": [
    "model.evaluate(x,y)\n",
    "# When you call model.evaluate(x, y), the model takes the input features x, makes predictions, and compares these predictions \n",
    "# to the true labels y. The function then returns a list of evaluation metrics that you specified when you compiled the model \n",
    "# using model.compile()."
   ]
  },
  {
   "cell_type": "code",
   "execution_count": null,
   "id": "5b8438e1",
   "metadata": {},
   "outputs": [],
   "source": [
    "model.summary()"
   ]
  },
  {
   "cell_type": "code",
   "execution_count": null,
   "id": "ca6c6dac",
   "metadata": {},
   "outputs": [],
   "source": []
  },
  {
   "cell_type": "code",
   "execution_count": null,
   "id": "2bd597d8",
   "metadata": {},
   "outputs": [],
   "source": []
  },
  {
   "cell_type": "code",
   "execution_count": null,
   "id": "c6c08229",
   "metadata": {},
   "outputs": [],
   "source": [
    "import pandas as pd\n",
    "from keras.models import Sequential\n",
    "from keras.layers import Dense, Activation\n",
    "from keras.optimizers import Adam\n",
    "df=pd.read_csv('diabetes.csv')\n",
    "df\n",
    "x=df.iloc[:,:8]\n",
    "x\n",
    "y=df.iloc[:,8] #inputdata\n",
    "y\n",
    "model=Sequential()\n",
    "#input layers\n",
    "model.add(Dense(12,input_dim=8,activation='relu'))   # input_din means number of features given like here 8 are given \n",
    "#hidden layer\n",
    "model.add(Dense(8,activation='relu'))\n",
    "model.add(Dense(8,activation='relu')) # if want to change activation \n",
    "#output layer\n",
    "model.add(Dense(1,activation='sigmoid')) \n",
    "\n",
    "model.compile(loss='binary_crossentropy',optimizer='adam',metrics=['accuracy'])\n",
    "\n",
    "model.fit(x,y,epochs=100,batch_size=10) \n",
    "\n",
    "model.evaluate(x,y)"
   ]
  },
  {
   "cell_type": "code",
   "execution_count": null,
   "id": "0df7ed55",
   "metadata": {},
   "outputs": [],
   "source": []
  }
 ],
 "metadata": {
  "kernelspec": {
   "display_name": "Python 3 (ipykernel)",
   "language": "python",
   "name": "python3"
  },
  "language_info": {
   "codemirror_mode": {
    "name": "ipython",
    "version": 3
   },
   "file_extension": ".py",
   "mimetype": "text/x-python",
   "name": "python",
   "nbconvert_exporter": "python",
   "pygments_lexer": "ipython3",
   "version": "3.11.5"
  }
 },
 "nbformat": 4,
 "nbformat_minor": 5
}
