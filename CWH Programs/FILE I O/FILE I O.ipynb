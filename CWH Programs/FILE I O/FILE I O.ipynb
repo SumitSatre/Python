{
 "cells": [
  {
   "cell_type": "markdown",
   "id": "a2c32c57",
   "metadata": {},
   "source": [
    "# READ , READLINE , APPEND , WRITE & UPDATE"
   ]
  },
  {
   "cell_type": "code",
   "execution_count": 2,
   "id": "e4c3d805",
   "metadata": {},
   "outputs": [
    {
     "name": "stdout",
     "output_type": "stream",
     "text": [
      "King\n"
     ]
    }
   ],
   "source": [
    "f= open('sumitop' , 'r')\n",
    "data = f.read()\n",
    "print(data)\n",
    "f.close()"
   ]
  },
  {
   "cell_type": "code",
   "execution_count": 3,
   "id": "4374f0ce",
   "metadata": {},
   "outputs": [
    {
     "name": "stdout",
     "output_type": "stream",
     "text": [
      "4\n"
     ]
    }
   ],
   "source": [
    "f= open('sumitop', 'w')\n",
    "f.write(\"King\")\n",
    "f.close()"
   ]
  },
  {
   "cell_type": "code",
   "execution_count": 2,
   "id": "bf2a7a42",
   "metadata": {},
   "outputs": [],
   "source": [
    "file= open('sumit', 'a')\n",
    "file.write('''Sumit is a king.\\n he is the most talented boy on the earth.\\n''')\n",
    "file.close()"
   ]
  },
  {
   "cell_type": "code",
   "execution_count": 8,
   "id": "17eccd3c",
   "metadata": {},
   "outputs": [
    {
     "name": "stdout",
     "output_type": "stream",
     "text": [
      "sumit is a very brave person.\n",
      "he is the very talented .\n",
      "he is a good hacker.\n"
     ]
    }
   ],
   "source": [
    "#READ\n",
    "myfile = open('sumitop' , 'r')\n",
    "person = myfile.read()\n",
    "print(person)\n",
    "myfile.close()\n"
   ]
  },
  {
   "cell_type": "code",
   "execution_count": 7,
   "id": "a417ec2c",
   "metadata": {},
   "outputs": [
    {
     "name": "stdout",
     "output_type": "stream",
     "text": [
      "sumit is a very brave person.\n",
      "\n",
      "he is the very talented .\n",
      "\n"
     ]
    }
   ],
   "source": [
    "#READLINE\n",
    "myfile = open('sumitop' , 'r')\n",
    "#First i open the file\n",
    "\n",
    "person = myfile.readline()\n",
    "print(person)\n",
    "#Second i read the first line of file\n",
    "\n",
    "person = myfile.readline()\n",
    "print(person)\n",
    "#Third i read the second line of file\n",
    "\n",
    "\n",
    "myfile.close()\n",
    "#I close the file"
   ]
  },
  {
   "cell_type": "code",
   "execution_count": 2,
   "id": "8ee4d917",
   "metadata": {},
   "outputs": [],
   "source": [
    "#APPENDING\n",
    "myfile = open('sumitop' , 'a')\n",
    "person = myfile.write(\"\\nAlso Sumit is doing programming well.\")\n",
    "myfile.close()"
   ]
  },
  {
   "cell_type": "code",
   "execution_count": 3,
   "id": "98557cae",
   "metadata": {},
   "outputs": [],
   "source": [
    "#WRITING\n",
    "myfile = open('sumit2' , 'w')\n",
    "myfile.write(\"Sumit is very honest person .\")\n",
    "myfile.write(\"\\nAlso Sumit is op. \")\n",
    "myfile.close()"
   ]
  },
  {
   "cell_type": "code",
   "execution_count": 15,
   "id": "2208f95e",
   "metadata": {},
   "outputs": [
    {
     "name": "stdout",
     "output_type": "stream",
     "text": [
      "Sumit is very honest person .\n",
      "Also Sumit is op. \n"
     ]
    }
   ],
   "source": [
    "with open('sumit' , 'r') as file:\n",
    "    data=file.read()\n",
    "    print(data)"
   ]
  },
  {
   "cell_type": "code",
   "execution_count": 7,
   "id": "6c07c1b9",
   "metadata": {},
   "outputs": [
    {
     "name": "stdout",
     "output_type": "stream",
     "text": [
      "Yes , It is present\n"
     ]
    }
   ],
   "source": [
    "# To find the given string is present in the or not\n",
    "with open('sumit' , 'r') as file:\n",
    "    data=file.read()\n",
    "if 'Sumit' in data:\n",
    "    print(\"Yes , It is present\")\n",
    "else :\n",
    "    print(\"It is not present \")"
   ]
  },
  {
   "cell_type": "code",
   "execution_count": 2,
   "id": "746baecf",
   "metadata": {},
   "outputs": [],
   "source": [
    "def game():\n",
    "    return 125\n",
    "\n",
    "score = game()\n",
    "\n",
    "with open('hiscore' , 'r') as file:\n",
    "    hiscore = file.read()\n",
    "    \n",
    "\n",
    "if hiscore == '':\n",
    "    with open('hiscore' , 'w') as file:\n",
    "        file.write(str(score))\n",
    "\n",
    "elif int(hiscore)<score :\n",
    "    with open('hiscore' , 'w') as file:\n",
    "        file.write(str(score))\n"
   ]
  },
  {
   "cell_type": "code",
   "execution_count": 26,
   "id": "5d1a5626",
   "metadata": {},
   "outputs": [],
   "source": [
    "#CREATE MULTIPLICATION TABLE FILE 2 TO 5 FOR THE 13 YEAR OLD KID USING WRITE \n",
    "for i in range(2,6):\n",
    "    with open(f\"Multiplication_Table_of_{i}\" , 'w') as file:\n",
    "        file.write(F\"This is the table of {i}\\n\")\n",
    "        for j in range(1,11):\n",
    "            file.write(f\"{i} X {j} = {i*j}\\n\")\n",
    "    "
   ]
  },
  {
   "cell_type": "code",
   "execution_count": 16,
   "id": "005eb856",
   "metadata": {},
   "outputs": [],
   "source": [
    "#CREATE MULTIPLICATION TABLE FILE 2 TO 5 FOR THE 13 YEAR OLD KID USING APPEND\n",
    "for i in range(2,6):\n",
    "   \n",
    "    for j in range(1,11):\n",
    "        with open(f\"Multiplication_Table_of {i}\" , 'a') as file:\n",
    "            file.write(f\"\\n{i} X {j} = {i*j}\")\n",
    "    "
   ]
  },
  {
   "cell_type": "code",
   "execution_count": 40,
   "id": "a66c8cf1",
   "metadata": {},
   "outputs": [],
   "source": [
    "with open('sumit', 'r') as file:\n",
    "    data = file.read()\n",
    "\n",
    "#FIRST IT OPEN THE SUMIT FILE AND COPY ITS DATA IN data\n",
    "\n",
    "if 'nalayak' in data :\n",
    "    data = data.replace('nalayak' , '*****')\n",
    "\n",
    "'''if donkey is present in sumit it replace it and stored it in data and\n",
    "if not present the the above stored value of data remains same'''\n",
    "\n",
    "with open('sumit', 'w') as file:\n",
    "    file.write(data)"
   ]
  },
  {
   "cell_type": "code",
   "execution_count": 17,
   "id": "89497bc4",
   "metadata": {},
   "outputs": [],
   "source": [
    "list = [\"donkey\" , \"motu\" , \"beti\"]\n",
    "with open('sumit', 'r') as file:\n",
    "    data = file.read()\n",
    "for i in list:\n",
    "    data = data.replace(i, \"$$$%^@%$$%\" )\n",
    "    with open('sumit', 'w') as file:\n",
    "        file.write(data)"
   ]
  },
  {
   "cell_type": "code",
   "execution_count": 14,
   "id": "f7b1d9e5",
   "metadata": {},
   "outputs": [],
   "source": [
    "def game():\n",
    "    return 1225\n",
    "score = game()\n",
    "\n",
    "with open('hiscore', 'r') as file:\n",
    "    hiscore = file.read()\n",
    "if score > int(hiscore) :\n",
    "    with open('hiscore', 'w') as file:\n",
    "        file.write(str(score)) "
   ]
  },
  {
   "cell_type": "code",
   "execution_count": 20,
   "id": "5c393243",
   "metadata": {},
   "outputs": [
    {
     "name": "stdout",
     "output_type": "stream",
     "text": [
      "Yes , it is present\n"
     ]
    }
   ],
   "source": [
    "with open('log file' , 'r') as content :\n",
    "    content = content.read()\n",
    "if 'python' in content:\n",
    "    print(\"Yes , it is present\")"
   ]
  },
  {
   "cell_type": "code",
   "execution_count": 1,
   "id": "183994a9",
   "metadata": {
    "scrolled": true
   },
   "outputs": [
    {
     "name": "stdout",
     "output_type": "stream",
     "text": [
      "03/22 08:51:02 INFO   :..python is not working\n",
      "\n",
      "the python is present on the line 12\n",
      "03/22 08:51:06 INFO   :...Python is not working\n",
      "\n",
      "the python is present on the line 25\n",
      "03/22 08:51:11 INFO   :...Python is not working\n",
      "\n",
      "the python is present on the line 81\n"
     ]
    }
   ],
   "source": [
    "#Find in the log file that python is present or not if present print the line and find the line number\n",
    "content= True\n",
    "i=1\n",
    "with open('log file', 'r') as file:\n",
    "    while content:\n",
    "        content= file.readline()\n",
    "        if 'python' in content.lower():\n",
    "            print(content)\n",
    "            print(F\"the python is present on the line {i}\")\n",
    "        i+=1\n",
    "        "
   ]
  },
  {
   "cell_type": "code",
   "execution_count": 2,
   "id": "a2080dea",
   "metadata": {},
   "outputs": [],
   "source": [
    "#Make a copy of a sumitop\n",
    "with open('sumitop', 'r') as file:\n",
    "    content= file.read()\n",
    "\n",
    "with open('copysumitop' , 'w') as file:\n",
    "    file.write(content)"
   ]
  },
  {
   "cell_type": "code",
   "execution_count": 38,
   "id": "175e5fbf",
   "metadata": {},
   "outputs": [
    {
     "name": "stdout",
     "output_type": "stream",
     "text": [
      "Files are identical\n"
     ]
    }
   ],
   "source": [
    "# Check wheather files are identical or not \n",
    "with open('sumitop' ,'r') as  file:\n",
    "    f1 = file.read()\n",
    "    \n",
    "with open('copysumitop' ,'r') as  file:\n",
    "    f2 = file.read()\n",
    "     \n",
    "if f1 == f2 :\n",
    "    print(\"Files are identical\")\n",
    "else :\n",
    "    print(\"Files are not identical\")"
   ]
  },
  {
   "cell_type": "code",
   "execution_count": 39,
   "id": "07af7fe7",
   "metadata": {},
   "outputs": [],
   "source": [
    "# Eraze the all data of the file sumit2\n",
    "\n",
    "file1 = \"sumit2\"\n",
    "with open(file1, 'w') as f:\n",
    "    f.write(\"\")"
   ]
  },
  {
   "cell_type": "code",
   "execution_count": 2,
   "id": "8313ad68",
   "metadata": {},
   "outputs": [],
   "source": [
    "# Rename the file kingsumit as programmer sumit\n",
    "import os \n",
    "\n",
    "with open('kingsumit' ,'r') as file:\n",
    "    data = file.read()\n",
    "\n",
    "with open('programmer sumit' ,'w') as file:\n",
    "    file.write(data)\n",
    "    \n",
    "os.remove('kingsumit')\n"
   ]
  },
  {
   "cell_type": "code",
   "execution_count": null,
   "id": "e6822e85",
   "metadata": {},
   "outputs": [],
   "source": []
  }
 ],
 "metadata": {
  "kernelspec": {
   "display_name": "Python 3 (ipykernel)",
   "language": "python",
   "name": "python3"
  },
  "language_info": {
   "codemirror_mode": {
    "name": "ipython",
    "version": 3
   },
   "file_extension": ".py",
   "mimetype": "text/x-python",
   "name": "python",
   "nbconvert_exporter": "python",
   "pygments_lexer": "ipython3",
   "version": "3.9.7"
  }
 },
 "nbformat": 4,
 "nbformat_minor": 5
}
