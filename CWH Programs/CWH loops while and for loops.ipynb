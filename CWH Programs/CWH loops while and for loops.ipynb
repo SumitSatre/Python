{
 "cells": [
  {
   "cell_type": "code",
   "execution_count": 16,
   "id": "e596b062",
   "metadata": {},
   "outputs": [
    {
     "name": "stdout",
     "output_type": "stream",
     "text": [
      "1   2   3   4   5   6   7   8   9   10   11   12   13   14   15   16   17   18   19   20   21   22   23   24   25   26   27   28   29   30   31   32   33   34   35   36   37   38   39   40   41   42   43   44   45   46   47   48   49   50   \n",
      "Done\n"
     ]
    }
   ],
   "source": [
    "i=1\n",
    "while i<=50:\n",
    "    print(i,end=\"   \")\n",
    "    i=i+1\n",
    "print(\"\\nDone\")"
   ]
  },
  {
   "cell_type": "code",
   "execution_count": 21,
   "id": "2641b91f",
   "metadata": {
    "scrolled": true
   },
   "outputs": [
    {
     "name": "stdout",
     "output_type": "stream",
     "text": [
      "('Sumit', 'saurabh', 'aditya', 'Tejas') 0\n",
      "('Sumit', 'saurabh', 'aditya', 'Tejas') 1\n",
      "('Sumit', 'saurabh', 'aditya', 'Tejas') 2\n",
      "('Sumit', 'saurabh', 'aditya', 'Tejas') 3\n",
      "('Sumit', 'saurabh', 'aditya', 'Tejas') 4\n"
     ]
    }
   ],
   "source": [
    "list = ('Sumit','saurabh','aditya','Tejas')\n",
    "i=0\n",
    "while i<=len(list):\n",
    "    print(list , i)\n",
    "    i=i+1"
   ]
  },
  {
   "cell_type": "code",
   "execution_count": 26,
   "id": "3052b064",
   "metadata": {},
   "outputs": [
    {
     "name": "stdout",
     "output_type": "stream",
     "text": [
      "Sumit 0\n",
      "saurabh 1\n",
      "aditya 2\n",
      "Tejas 3\n"
     ]
    }
   ],
   "source": [
    "list = ('Sumit','saurabh','aditya','Tejas')\n",
    "i=0\n",
    "while i<len(list):\n",
    "    print(list[i] , i)\n",
    "    i=i+1"
   ]
  },
  {
   "cell_type": "code",
   "execution_count": 5,
   "id": "408fcf89",
   "metadata": {},
   "outputs": [
    {
     "name": "stdout",
     "output_type": "stream",
     "text": [
      "Enter the no. :  5\n",
      "5\n",
      "10\n",
      "15\n",
      "20\n",
      "25\n",
      "30\n",
      "35\n",
      "40\n",
      "45\n",
      "50\n"
     ]
    }
   ],
   "source": [
    "x=int(input(\"Enter the no. :  \"))\n",
    "for i in range(1,11):\n",
    "    k=x*i\n",
    "    print(k)"
   ]
  },
  {
   "cell_type": "code",
   "execution_count": 6,
   "id": "660cee29",
   "metadata": {},
   "outputs": [
    {
     "name": "stdout",
     "output_type": "stream",
     "text": [
      "Enter the no. :  5\n",
      "5 X 1 = 5\n",
      "5 X 2 = 10\n",
      "5 X 3 = 15\n",
      "5 X 4 = 20\n",
      "5 X 5 = 25\n",
      "5 X 6 = 30\n",
      "5 X 7 = 35\n",
      "5 X 8 = 40\n",
      "5 X 9 = 45\n",
      "5 X 10 = 50\n"
     ]
    }
   ],
   "source": [
    "x=int(input(\"Enter the no. :  \"))\n",
    "for i in range(1,11):\n",
    "    print(str(x) + \" X \" + str(i) +\" = \" + str(i*x) )"
   ]
  },
  {
   "cell_type": "code",
   "execution_count": 7,
   "id": "65516e0f",
   "metadata": {},
   "outputs": [
    {
     "name": "stdout",
     "output_type": "stream",
     "text": [
      "Hello sumit\n",
      "Hello saurabh\n"
     ]
    }
   ],
   "source": [
    "list = ('sumit','saurabh','aditya','Tejas')\n",
    "for i in list:\n",
    "    if i.startswith(\"s\"):\n",
    "        print(\"Hello \" + str(i))"
   ]
  },
  {
   "cell_type": "code",
   "execution_count": 1,
   "id": "95948e7c",
   "metadata": {},
   "outputs": [
    {
     "name": "stdout",
     "output_type": "stream",
     "text": [
      "enter the no. : 12\n",
      "12.0 X 1 = 12.0\n",
      "12.0 X 2 = 24.0\n",
      "12.0 X 3 = 36.0\n",
      "12.0 X 4 = 48.0\n",
      "12.0 X 5 = 60.0\n",
      "12.0 X 6 = 72.0\n",
      "12.0 X 7 = 84.0\n",
      "12.0 X 8 = 96.0\n",
      "12.0 X 9 = 108.0\n",
      "12.0 X 10 = 120.0\n"
     ]
    }
   ],
   "source": [
    "num=float(input(\"enter the no. : \"))\n",
    "i=1\n",
    "while i<11:\n",
    "    print(F\"{num} X {i} = {num*i}\")\n",
    "    i=i+1"
   ]
  },
  {
   "cell_type": "code",
   "execution_count": 23,
   "id": "0732df9a",
   "metadata": {},
   "outputs": [
    {
     "name": "stdout",
     "output_type": "stream",
     "text": [
      "enter the no. : 113\n",
      "it is prime number\n"
     ]
    }
   ],
   "source": [
    "num=int(input(\"enter the no. : \"))\n",
    "prime=True\n",
    "for i in range(2,num):\n",
    "    if num%i==0:\n",
    "        prime=False\n",
    "        break\n",
    "if prime:\n",
    "    print(\"it is prime number\")\n",
    "else:\n",
    "    print(\"It is not prime number\")"
   ]
  },
  {
   "cell_type": "code",
   "execution_count": 20,
   "id": "939f80ba",
   "metadata": {},
   "outputs": [],
   "source": [
    "x=False\n",
    "if x:\n",
    "    print(\"HHh\")"
   ]
  },
  {
   "cell_type": "code",
   "execution_count": 24,
   "id": "9b70dbc5",
   "metadata": {},
   "outputs": [
    {
     "name": "stdout",
     "output_type": "stream",
     "text": [
      "HHh\n"
     ]
    }
   ],
   "source": [
    "x=True\n",
    "if x:\n",
    "    print(\"HHh\")\n"
   ]
  },
  {
   "cell_type": "code",
   "execution_count": null,
   "id": "867645d9",
   "metadata": {},
   "outputs": [],
   "source": [
    "num=int(input(\"enter the no. : \"))\n",
    "for i in (1,num):\n",
    "    "
   ]
  },
  {
   "cell_type": "markdown",
   "id": "ad84be08",
   "metadata": {},
   "source": [
    "# PROBLEM ALA NAHI NIT\n",
    "num=int(input(\"enter the no. : \"))\n",
    "sum=0\n",
    "for i in range(0,num):\n",
    "    sum=sum+i\n",
    "    i=i-1\n",
    "print(sum)"
   ]
  },
  {
   "cell_type": "code",
   "execution_count": 42,
   "id": "84b88f0d",
   "metadata": {},
   "outputs": [
    {
     "name": "stdout",
     "output_type": "stream",
     "text": [
      "enter the no. : 10\n",
      "55.0\n"
     ]
    }
   ],
   "source": [
    "n=int(input(\"enter the no. : \"))\n",
    "print(f\"{n*(n+1)/2}\")"
   ]
  },
  {
   "cell_type": "code",
   "execution_count": 48,
   "id": "0b020384",
   "metadata": {},
   "outputs": [
    {
     "name": "stdout",
     "output_type": "stream",
     "text": [
      "\n",
      "*\n",
      "**\n",
      "***\n",
      "****\n",
      "*****\n",
      "******\n",
      "*******\n",
      "********\n",
      "*********\n",
      "**********\n"
     ]
    }
   ],
   "source": [
    "for i in range(11):\n",
    "    print(\"*\"* i)"
   ]
  },
  {
   "cell_type": "code",
   "execution_count": 49,
   "id": "c323de62",
   "metadata": {},
   "outputs": [
    {
     "name": "stdout",
     "output_type": "stream",
     "text": [
      "Enter the no. :  5\n",
      "5 X 10 = 50\n",
      "5 X 9 = 45\n",
      "5 X 8 = 40\n",
      "5 X 7 = 35\n",
      "5 X 6 = 30\n",
      "5 X 5 = 25\n",
      "5 X 4 = 20\n",
      "5 X 3 = 15\n",
      "5 X 2 = 10\n",
      "5 X 1 = 5\n"
     ]
    }
   ],
   "source": [
    "x=int(input(\"Enter the no. :  \"))\n",
    "for i in range(10,0,-1):\n",
    "    print(str(x) + \" X \" + str(i) +\" = \" + str(i*x) )"
   ]
  },
  {
   "cell_type": "code",
   "execution_count": 5,
   "id": "29b63fb0",
   "metadata": {},
   "outputs": [
    {
     "name": "stdout",
     "output_type": "stream",
     "text": [
      "Enter the no. :  1\n",
      "Enter the no. :  10\n",
      "SUM  =   55\n"
     ]
    }
   ],
   "source": [
    "m = int(input(\"Enter the no. :  \"))\n",
    "n = int(input(\"Enter the no. :  \"))\n",
    "s = 0\n",
    "while(m<=n):\n",
    "    s = s+m\n",
    "    m = m+1\n",
    "print(\"SUM  =  \",s)"
   ]
  },
  {
   "cell_type": "code",
   "execution_count": 15,
   "id": "906c3c66",
   "metadata": {},
   "outputs": [
    {
     "name": "stdout",
     "output_type": "stream",
     "text": [
      "Enter the no. :  1\n",
      "Enter the no. :  10\n",
      "SUM=55\n"
     ]
    }
   ],
   "source": [
    "m = int(input(\"Enter the no. :  \"))\n",
    "n = int(input(\"Enter the no. :  \"))\n",
    "s=0\n",
    "for i in range(m,n+1,1):\n",
    "    s=i+s\n",
    "\n",
    "print(F\"SUM={s}\")"
   ]
  },
  {
   "cell_type": "code",
   "execution_count": 2,
   "id": "7c172306",
   "metadata": {},
   "outputs": [
    {
     "name": "stdout",
     "output_type": "stream",
     "text": [
      "Enter the no. :  8\n",
      "8 X 1 = 8\n",
      "8 X 2 = 16\n",
      "8 X 3 = 24\n",
      "8 X 4 = 32\n",
      "8 X 5 = 40\n",
      "8 X 6 = 48\n",
      "8 X 7 = 56\n",
      "8 X 8 = 64\n",
      "8 X 9 = 72\n",
      "8 X 10 = 80\n"
     ]
    }
   ],
   "source": [
    "m = int(input(\"Enter the no. :  \"))\n",
    "for i in range(1,11):\n",
    "    print(F\"{m} X {i} = {m*i}\")"
   ]
  },
  {
   "cell_type": "code",
   "execution_count": 18,
   "id": "cf68fac9",
   "metadata": {},
   "outputs": [
    {
     "name": "stdout",
     "output_type": "stream",
     "text": [
      "enter the no. : 5\n",
      "The factorial of the entered number is  : 120 \n"
     ]
    }
   ],
   "source": [
    "num=int(input(\"enter the no. : \"))\n",
    "factorial=1\n",
    "for i in range(1,num+1):\n",
    "    factorial=factorial*i\n",
    "print(f\"The factorial of the entered number is  : {factorial} \")\n"
   ]
  },
  {
   "cell_type": "code",
   "execution_count": null,
   "id": "bcf707fd",
   "metadata": {},
   "outputs": [],
   "source": []
  }
 ],
 "metadata": {
  "kernelspec": {
   "display_name": "Python 3 (ipykernel)",
   "language": "python",
   "name": "python3"
  },
  "language_info": {
   "codemirror_mode": {
    "name": "ipython",
    "version": 3
   },
   "file_extension": ".py",
   "mimetype": "text/x-python",
   "name": "python",
   "nbconvert_exporter": "python",
   "pygments_lexer": "ipython3",
   "version": "3.9.7"
  }
 },
 "nbformat": 4,
 "nbformat_minor": 5
}
