{
 "cells": [
  {
   "cell_type": "code",
   "execution_count": 8,
   "id": "3856ca69",
   "metadata": {},
   "outputs": [
    {
     "name": "stdout",
     "output_type": "stream",
     "text": [
      "Good day Sumit\n",
      "None\n",
      "Good day 2\n",
      "None\n"
     ]
    }
   ],
   "source": [
    "def greet(name ):\n",
    "    print(\"Good day\" , name)\n",
    "print(greet(\"Sumit\"))\n",
    "print(greet(2))"
   ]
  },
  {
   "cell_type": "code",
   "execution_count": 11,
   "id": "f2ce6a83",
   "metadata": {},
   "outputs": [
    {
     "name": "stdout",
     "output_type": "stream",
     "text": [
      "Good day Sumit\n",
      "Good day 2\n",
      "Good day King\n"
     ]
    }
   ],
   "source": [
    "def greet(name= \"King\" ):\n",
    "    print(\"Good day\" , name)\n",
    "greet(\"Sumit\")\n",
    "greet(2)\n",
    "greet()"
   ]
  },
  {
   "cell_type": "code",
   "execution_count": 33,
   "id": "76d2ca35",
   "metadata": {},
   "outputs": [
    {
     "name": "stdout",
     "output_type": "stream",
     "text": [
      "Number is greater  6\n",
      "All numbers are equal\n",
      "The greatest number is 36\n"
     ]
    }
   ],
   "source": [
    "def large(n1,n2,n3):\n",
    "    if n1>n2 and n1>n3 :\n",
    "        print(\"Number is greater \" , n1)\n",
    "    elif n2>n1 and n2>n3 :\n",
    "        print(\"Number is greater \" , n2)\n",
    "    elif n3>n1 and n3>n2 :\n",
    "        print(\"Number is greater \" , n3)\n",
    "    else:\n",
    "            print(\"All numbers are equal\")\n",
    " \n",
    "\n",
    "large(4,5,6)\n",
    "large(4,4,4)\n",
    "\n",
    "def big(n1,n2,n3):\n",
    "    if n1>n2:\n",
    "        if n1>n3:\n",
    "            return n1\n",
    "        else:\n",
    "            return n3\n",
    "    else :\n",
    "        if n2>n3:\n",
    "            return n2\n",
    "        else:\n",
    "            return n3\n",
    "big(4,5,6)\n",
    "num= big(25,36,28)\n",
    "print(\"The greatest number is\" ,num )\n",
    "    "
   ]
  },
  {
   "cell_type": "code",
   "execution_count": 23,
   "id": "3a1afeda",
   "metadata": {},
   "outputs": [
    {
     "name": "stdout",
     "output_type": "stream",
     "text": [
      "Enter the temperature in Celcius12\n",
      "the temperature in fahrenheit is 53.6\n"
     ]
    }
   ],
   "source": [
    "# converting Celsius to fahrenheit \n",
    "def fah(cel):\n",
    "    return float(cel * (9/5) +32)\n",
    "c = int(input (\"Enter the temperature in Celcius\"))\n",
    "fahra = fah(c)\n",
    "print(\"the temperature in fahrenheit is\" , str(fahra))\n"
   ]
  },
  {
   "cell_type": "code",
   "execution_count": 1,
   "id": "ffde8cec",
   "metadata": {},
   "outputs": [
    {
     "data": {
      "text/plain": [
       "55"
      ]
     },
     "execution_count": 1,
     "metadata": {},
     "output_type": "execute_result"
    }
   ],
   "source": [
    "def sum(n):\n",
    "    if n<1:\n",
    "        return \"Please enter the positive number \"\n",
    "    elif n==1:\n",
    "        return 1\n",
    "    else:\n",
    "        return n + sum(n-1)\n",
    "sum(10)"
   ]
  },
  {
   "cell_type": "code",
   "execution_count": 1,
   "id": "d55df25a",
   "metadata": {},
   "outputs": [
    {
     "name": "stdout",
     "output_type": "stream",
     "text": [
      "7 X 1 = 7\n",
      "7 X 2 = 14\n",
      "7 X 3 = 21\n",
      "7 X 4 = 28\n",
      "7 X 5 = 35\n",
      "7 X 6 = 42\n",
      "7 X 7 = 49\n",
      "7 X 8 = 56\n",
      "7 X 9 = 63\n",
      "7 X 10 = 70\n",
      "\n",
      "3 X 1 = 3\n",
      "3 X 2 = 6\n",
      "3 X 3 = 9\n",
      "3 X 4 = 12\n",
      "3 X 5 = 15\n",
      "3 X 6 = 18\n",
      "3 X 7 = 21\n",
      "3 X 8 = 24\n",
      "3 X 9 = 27\n",
      "3 X 10 = 30\n"
     ]
    }
   ],
   "source": [
    "def table(n =3):\n",
    "    for i in range(1,11):\n",
    "        print(f\"{n} X {i} = {n*i}\")\n",
    "table(7) \n",
    "print()\n",
    "table()"
   ]
  },
  {
   "cell_type": "code",
   "execution_count": 9,
   "id": "58825aa4",
   "metadata": {},
   "outputs": [
    {
     "name": "stdout",
     "output_type": "stream",
     "text": [
      "Computer Turn: rock,Paper,Sisor ???\n",
      "Player Turn : rock=r, paper=p and Sisor=s  p\n",
      "Computer choose the option r\n",
      "You choose the option p\n",
      "You Win\n"
     ]
    }
   ],
   "source": [
    "# rock=r, paper=p and Sissor=s game \n",
    "\n",
    "import random\n",
    "def game(comp, you):\n",
    "    if comp==you:\n",
    "        return None\n",
    "    elif comp=='r':\n",
    "        if you=='s':\n",
    "            return False\n",
    "        elif you=='p' :\n",
    "            return True\n",
    "    elif comp=='p':\n",
    "        if you=='r':\n",
    "            return False\n",
    "        elif you=='s' :\n",
    "            return True\n",
    "    elif comp=='s':\n",
    "        if you=='p':\n",
    "            return False\n",
    "        elif you=='r' :\n",
    "            return True\n",
    "        \n",
    "\n",
    "print(R\"Computer Turn: rock,Paper,Sisor ???\")\n",
    "r = random.randint(1,3)\n",
    "if r==1:\n",
    "    comp ='r'\n",
    "elif r==2:\n",
    "    comp ='p'\n",
    "elif r==3:\n",
    "    comp ='s'\n",
    "\n",
    "you= input(\"Player Turn : rock=r, paper=p and Sisor=s  \")\n",
    "a=game(comp,you)\n",
    "\n",
    "print(f\"Computer choose the {comp}\")\n",
    "print(F\"You choose the {you}\")\n",
    "\n",
    "if a == None:\n",
    "    print(\"The game is Tie!!\")\n",
    "elif a == True :\n",
    "    print(\"You Win\")\n",
    "else :\n",
    "    print(\"you Loss\")\n"
   ]
  },
  {
   "cell_type": "code",
   "execution_count": 5,
   "id": "8f8c4ca2",
   "metadata": {},
   "outputs": [
    {
     "data": {
      "text/plain": [
       "87.0"
      ]
     },
     "execution_count": 5,
     "metadata": {},
     "output_type": "execute_result"
    }
   ],
   "source": [
    "def percentage(m1,m2,m3,m4,m5,m6):\n",
    "    return (m1+m2+m3+m4+m5+m6)/6\n",
    "percentage(84,92,94,74,90,88)"
   ]
  },
  {
   "cell_type": "code",
   "execution_count": 13,
   "id": "0bc59d50",
   "metadata": {},
   "outputs": [
    {
     "data": {
      "text/plain": [
       "'sumit'"
      ]
     },
     "execution_count": 13,
     "metadata": {},
     "output_type": "execute_result"
    }
   ],
   "source": [
    "def print2(a):\n",
    "    return a\n",
    "print2('sumit')"
   ]
  },
  {
   "cell_type": "code",
   "execution_count": 19,
   "id": "d5ffc9a5",
   "metadata": {},
   "outputs": [
    {
     "data": {
      "text/plain": [
       "39"
      ]
     },
     "execution_count": 19,
     "metadata": {},
     "output_type": "execute_result"
    }
   ],
   "source": [
    "def big(n1,n2,n3):\n",
    "    if n1>n2:\n",
    "        if n1>n3:\n",
    "            return n1\n",
    "        else:\n",
    "            return n3\n",
    "    else :\n",
    "        if n2>n3:\n",
    "            return n2\n",
    "        else:\n",
    "            return n3\n",
    "big(35,39,38)"
   ]
  },
  {
   "cell_type": "code",
   "execution_count": 25,
   "id": "a17db954",
   "metadata": {},
   "outputs": [
    {
     "data": {
      "text/plain": [
       "19.68503937007874"
      ]
     },
     "execution_count": 25,
     "metadata": {},
     "output_type": "execute_result"
    }
   ],
   "source": [
    "def centimeter(c):\n",
    "    return c/2.54\n",
    "centimeter(50)"
   ]
  },
  {
   "cell_type": "code",
   "execution_count": 26,
   "id": "533119c3",
   "metadata": {},
   "outputs": [
    {
     "name": "stdout",
     "output_type": "stream",
     "text": [
      "sumit\n"
     ]
    }
   ],
   "source": [
    "s=\"      sumit      \"\n",
    "print(s.strip())"
   ]
  },
  {
   "cell_type": "code",
   "execution_count": null,
   "id": "65fd5771",
   "metadata": {},
   "outputs": [],
   "source": []
  }
 ],
 "metadata": {
  "kernelspec": {
   "display_name": "Python 3 (ipykernel)",
   "language": "python",
   "name": "python3"
  },
  "language_info": {
   "codemirror_mode": {
    "name": "ipython",
    "version": 3
   },
   "file_extension": ".py",
   "mimetype": "text/x-python",
   "name": "python",
   "nbconvert_exporter": "python",
   "pygments_lexer": "ipython3",
   "version": "3.9.7"
  }
 },
 "nbformat": 4,
 "nbformat_minor": 5
}
