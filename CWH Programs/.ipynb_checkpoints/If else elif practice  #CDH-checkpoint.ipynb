{
 "cells": [
  {
   "cell_type": "code",
   "execution_count": 1,
   "id": "b8a48b9f",
   "metadata": {},
   "outputs": [
    {
     "name": "stdout",
     "output_type": "stream",
     "text": [
      "Enter the number 1 : 8\n",
      "Enter the number 2 : 9\n",
      "Enter the number 3 : 6\n",
      "Enter the number 4 : 3\n",
      "9  is the greatest number\n"
     ]
    }
   ],
   "source": [
    "num1 = int(input(\"Enter the number 1 : \"))\n",
    "num2 = int(input(\"Enter the number 2 : \"))\n",
    "num3 = int(input(\"Enter the number 3 : \"))\n",
    "num4 = int(input(\"Enter the number 4 : \"))\n",
    "if num1 >num2 :\n",
    "    B1=num1\n",
    "else:\n",
    "    B1=num2\n",
    "\n",
    "if num3>num4:\n",
    "    B2=num3\n",
    "else:\n",
    "    B2=num4\n",
    "\n",
    "if B1>B2:\n",
    "    print(str(B1) , \" is the greatest number\")\n",
    "else:\n",
    "    print(str(B2) , \" is the greatest number\")"
   ]
  },
  {
   "cell_type": "code",
   "execution_count": 7,
   "id": "29fdf832",
   "metadata": {},
   "outputs": [
    {
     "name": "stdout",
     "output_type": "stream",
     "text": [
      "enter the marks in Maths   :34\n",
      "enter the marks in Science :36\n",
      "enter the marks in English :33\n",
      "you are fail, better luck next time\n"
     ]
    }
   ],
   "source": [
    "sub1=int(input('enter the marks in Maths   :' ))\n",
    "sub2=int(input('enter the marks in Science :' ))\n",
    "sub3=int(input('enter the marks in English :'))\n",
    "total_marks= sub1+ sub2+ sub3\n",
    "percentage= total_marks/3\n",
    "if percentage>35:\n",
    "    print('Congratulations , you are pass ')\n",
    "else:\n",
    "    print('you are fail, better luck next time')"
   ]
  },
  {
   "cell_type": "code",
   "execution_count": 15,
   "id": "980a9709",
   "metadata": {},
   "outputs": [
    {
     "name": "stdout",
     "output_type": "stream",
     "text": [
      "Enter you name (upto 10 characters) : \n",
      " abcdefghijkl\n",
      "please enter character upto 10 or less\n"
     ]
    }
   ],
   "source": [
    "Username = input(\"Enter you name (upto 10 characters) : \\n \")\n",
    "if len(Username)<=10:\n",
    "    print(\"thank you\")\n",
    "else:\n",
    "    print(\"please enter character upto 10 or less\")"
   ]
  },
  {
   "cell_type": "code",
   "execution_count": 17,
   "id": "4882f094",
   "metadata": {},
   "outputs": [
    {
     "name": "stdout",
     "output_type": "stream",
     "text": [
      " enter the text : keshav\n",
      "It is not in the list\n"
     ]
    }
   ],
   "source": [
    "list = ['sumit','saurabh','tejas' , 'aditya', 'payal']\n",
    "name = input(\" enter the text : \") \n",
    "if name in list:\n",
    "    print('it is in the list')\n",
    "else:\n",
    "    print(\"It is not in the list\")"
   ]
  },
  {
   "cell_type": "code",
   "execution_count": null,
   "id": "ddada2f1",
   "metadata": {},
   "outputs": [],
   "source": []
  }
 ],
 "metadata": {
  "kernelspec": {
   "display_name": "Python 3 (ipykernel)",
   "language": "python",
   "name": "python3"
  },
  "language_info": {
   "codemirror_mode": {
    "name": "ipython",
    "version": 3
   },
   "file_extension": ".py",
   "mimetype": "text/x-python",
   "name": "python",
   "nbconvert_exporter": "python",
   "pygments_lexer": "ipython3",
   "version": "3.9.7"
  }
 },
 "nbformat": 4,
 "nbformat_minor": 5
}
