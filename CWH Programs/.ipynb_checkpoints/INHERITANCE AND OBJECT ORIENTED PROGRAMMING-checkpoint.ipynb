{
 "cells": [
  {
   "cell_type": "code",
   "execution_count": 6,
   "id": "e397c899",
   "metadata": {},
   "outputs": [
    {
     "name": "stdout",
     "output_type": "stream",
     "text": [
      "Man More\n",
      "Man All\n"
     ]
    }
   ],
   "source": [
    "#Inheritance Example\n",
    "class Earth :\n",
    "    living = \"Man All\"\n",
    "    land_portion = \"29%\"\n",
    "    sea_portion = \"71%\"\n",
    "    Total_countries = 195\n",
    "    \n",
    "class India(Earth):\n",
    "    living = \"Man More\"\n",
    "    capital = \"Mumbai\"\n",
    "    president = \"Modi \n",
    "     \n",
    "class America(Earth):\n",
    "    capital = \"Washinton\"\n",
    "    president = \"Biden\"\n",
    "    \n",
    "i = India()\n",
    "a = America()\n",
    "\n",
    "\n",
    "print(i.living)\n",
    "print(a.living)"
   ]
  },
  {
   "cell_type": "code",
   "execution_count": 17,
   "id": "b3a8bbc0",
   "metadata": {},
   "outputs": [
    {
     "name": "stdout",
     "output_type": "stream",
     "text": [
      "The working hours are 8 hours\n",
      "Alpha Bet\n",
      "You can work here.\n",
      "google\n",
      "Google\n",
      "Sorry , you can not work here\n",
      "the salary  is 2,00,000\n"
     ]
    }
   ],
   "source": [
    "#Single Inheritance\n",
    "\n",
    "class Employee:\n",
    "    company = \"Alpha Bet\"\n",
    "    \n",
    "    def age(self , age):\n",
    "        self.age = age\n",
    "        if self.age >= 18:\n",
    "            print(\"You can work here.\")\n",
    "        else: \n",
    "            print(\"Sorry , you can not work here\")\n",
    "            \n",
    "    def working_hours(self):\n",
    "        print(\"The working hours are 8 hours\")\n",
    "        \n",
    "    def salary(self):\n",
    "        print(\"the salary  is 2,00,000\")\n",
    "    \n",
    "\n",
    "class Programmer(Employee):\n",
    "    company= \"Google\"\n",
    "     \n",
    "    def age(self , age):\n",
    "        self.age = age\n",
    "        if self.age >= 20:\n",
    "            print(\"You can work here.\")\n",
    "        else:\n",
    "            print(\"Sorry , you can not work here\")\n",
    "            \n",
    "    def working_hours(self):\n",
    "        print(\"The working hours are 11 hours\")\n",
    "        \n",
    "        \n",
    "\n",
    "\n",
    "saurabh = Employee()\n",
    "saurabh.working_hours()\n",
    "print(saurabh.company)\n",
    "saurabh.age(18)\n",
    "saurabh.working_hours = \"google\"\n",
    "print(saurabh.working_hours)\n",
    "\n",
    "            \n",
    "sumit = Programmer()\n",
    "print(sumit.company)\n",
    "sumit.age(19)\n",
    "sumit.salary()\n",
    "\n",
    "    \n",
    "    "
   ]
  },
  {
   "cell_type": "code",
   "execution_count": 47,
   "id": "05649ebd",
   "metadata": {},
   "outputs": [
    {
     "name": "stdout",
     "output_type": "stream",
     "text": [
      "800\n",
      "America\n"
     ]
    }
   ],
   "source": [
    "# Multiple Inheritence : it occurs when the child class imitates from two or more parent class.\n",
    " \n",
    "''' 1. First it check instance attribute ,\n",
    "2. It check respectective class\n",
    "3. then it check respective class parennt \n",
    "4. if their are more then one it will select from the first one , \n",
    "5. in first it not present then it will go to second and so on'''\n",
    "\n",
    "\n",
    "class Google:\n",
    "    salary = 800\n",
    "    net_charge = 10\n",
    "    \n",
    "class Youtube:\n",
    "    salary = 900\n",
    "    office = \"America\"\n",
    "    \n",
    "class Employee(Google , Youtube):\n",
    "    net_charge = 8\n",
    "\n",
    "sumit = Employee()\n",
    "print(sumit.salary)\n",
    "print(sumit.office)"
   ]
  },
  {
   "cell_type": "code",
   "execution_count": 58,
   "id": "499f7db3",
   "metadata": {},
   "outputs": [
    {
     "name": "stdout",
     "output_type": "stream",
     "text": [
      "saurabh\n",
      "no company \n",
      "Sorry , you can not work here\n",
      "The working hours are 11 hours\n"
     ]
    }
   ],
   "source": [
    "#Multilevel_Inheritence:-\n",
    "\n",
    "class Programmer:\n",
    "    company= \"Google\"\n",
    "    name = \"Aditya\"\n",
    "            \n",
    "    def working_hours(self):\n",
    "        print(\"The working hours are 11 hours\")\n",
    "   \n",
    "\n",
    "class Hacker(Programmer):\n",
    "    company = \"no company \"\n",
    "    name = \"saurabh\"\n",
    "    \n",
    "    def salary(self):\n",
    "        print(\"the salary  is 2,00,000\")\n",
    "   \n",
    "\n",
    "class Employee(Hacker):\n",
    "    king= \"no king\"\n",
    "    def age(self , age):\n",
    "        self.age = age\n",
    "        if self.age >= 18:\n",
    "            print(\"You can work here.\")\n",
    "        else: \n",
    "            print(\"Sorry , you can not work here\")\n",
    "        \n",
    "\n",
    "sumit = Employee()\n",
    "print(sumit.name)\n",
    "print(sumit.company)\n",
    "sumit.age(12)\n",
    "sumit.working_hours()"
   ]
  },
  {
   "cell_type": "markdown",
   "id": "4eaa4c40",
   "metadata": {},
   "source": [
    "# super()._______ function is used to print above attribute or function."
   ]
  },
  {
   "cell_type": "code",
   "execution_count": 67,
   "id": "da5b12db",
   "metadata": {},
   "outputs": [
    {
     "name": "stdout",
     "output_type": "stream",
     "text": [
      "the salary  is 2,00,000\n",
      "The working hours are 11 hours\n",
      "the salary  is 30,000\n"
     ]
    }
   ],
   "source": [
    "#super()\n",
    "\n",
    "class Programmer:\n",
    "    company= \"Google\"\n",
    "    name = \"Aditya\"\n",
    "            \n",
    "    def working_hours(self):\n",
    "        print(\"The working hours are 11 hours\")\n",
    "   \n",
    "\n",
    "class Hacker(Programmer):\n",
    "    company = \"google \"\n",
    "    name = \"saurabh\"\n",
    "    \n",
    "    def salary(self):\n",
    "        print(\"the salary  is 2,00,000\")\n",
    "   \n",
    "\n",
    "class Employee(Hacker):\n",
    "    king= \"no king\"\n",
    "    def age(self , age):\n",
    "        self.age = age\n",
    "        if self.age >= 18:\n",
    "            print(\"You can work here.\")\n",
    "        else: \n",
    "            print(\"Sorry , you can not work here\")\n",
    "            \n",
    "    def salary(self):\n",
    "        super().salary()\n",
    "        super().working_hours()\n",
    "        print(\"the salary  is 30,000\")\n",
    "        \n",
    "saurabh = Employee()\n",
    "saurabh.salary()"
   ]
  },
  {
   "cell_type": "code",
   "execution_count": 72,
   "id": "8ae28892",
   "metadata": {},
   "outputs": [
    {
     "name": "stdout",
     "output_type": "stream",
     "text": [
      "1000\n",
      "The changed salary is 3000\n"
     ]
    },
    {
     "data": {
      "text/plain": [
       "1000"
      ]
     },
     "execution_count": 72,
     "metadata": {},
     "output_type": "execute_result"
    }
   ],
   "source": [
    "#What when we want to change the value of class attribute for these there are two methods as following.\n",
    "# this is th first method but it only change for instant attribute it can not useful for class\n",
    "class Employee:\n",
    "    company = \"Alpha Bet\"\n",
    "    salary = 1000\n",
    "    \n",
    "    def change_salary(self ,changed_salary):\n",
    "        self.changed_salary = changed_salary\n",
    "        print(f\"The changed salary is {self.changed_salary}\")\n",
    "        \n",
    "        \n",
    "sumit = Employee()\n",
    "print(sumit.salary)\n",
    "sumit.change_salary(3000)\n",
    "\n",
    "saurabh = Employee()\n",
    "print(saurabh.salary)"
   ]
  },
  {
   "cell_type": "code",
   "execution_count": 91,
   "id": "876a26f8",
   "metadata": {},
   "outputs": [
    {
     "name": "stdout",
     "output_type": "stream",
     "text": [
      "1000\n",
      "The changed salary is 3000\n",
      "3000\n",
      "The name of changed company is Google\n",
      "Google\n",
      "\n",
      "\n",
      "3000\n",
      "Google\n"
     ]
    }
   ],
   "source": [
    "# 1) This is the first method we can change the value of class attribute by taking __class__ .\n",
    "class Employee:\n",
    "    company = \"Alpha Bet\"\n",
    "    salary = 1000\n",
    "    \n",
    "    def change_salary(self ,changed_salary):\n",
    "        self.__class__.salary = changed_salary\n",
    "        print(f\"The changed salary is {self.salary}\")\n",
    "        \n",
    "    def change_company(self,change_company):\n",
    "        self.__class__.company = change_company\n",
    "        print(F\"The name of changed company is {self.company}\")\n",
    "     \n",
    "        \n",
    "sumit = Employee()\n",
    "print(sumit.salary)\n",
    "sumit.change_salary(3000)\n",
    "print(sumit.salary)\n",
    "sumit.change_company(\"Google\")\n",
    "print(sumit.company)\n",
    "\n",
    "print()\n",
    "print()\n",
    "\n",
    "\n",
    "saurabh = Employee()\n",
    "print(saurabh.salary)\n",
    "print(saurabh.company)\n"
   ]
  },
  {
   "cell_type": "code",
   "execution_count": 86,
   "id": "7bb23abf",
   "metadata": {},
   "outputs": [
    {
     "name": "stdout",
     "output_type": "stream",
     "text": [
      "1000\n",
      "The changed salary is 3000\n",
      "3000\n",
      "The name of changed company is Google\n",
      "Google\n",
      "\n",
      "\n",
      "3000\n",
      "Google\n"
     ]
    }
   ],
   "source": [
    "# 2)we also change here class attribute here just want write @classmethod\n",
    "\n",
    "class Employee:\n",
    "    company = \"Alpha Bet\"\n",
    "    salary = 1000\n",
    "    @classmethod\n",
    "    def change_salary(self ,changed_salary):\n",
    "        self.salary = changed_salary\n",
    "        print(f\"The changed salary is {self.salary}\")\n",
    "    @classmethod \n",
    "    def change_company(self,change_company):\n",
    "        self.company = change_company\n",
    "        print(F\"The name of changed company is {self.company}\")\n",
    "     \n",
    "        \n",
    "sumit = Employee()\n",
    "print(sumit.salary)\n",
    "sumit.change_salary(3000)\n",
    "print(sumit.salary)\n",
    "sumit.change_company(\"Google\")\n",
    "print(sumit.company)\n",
    "\n",
    "print()\n",
    "print()\n",
    "\n",
    "\n",
    "saurabh = Employee()\n",
    "print(saurabh.salary)\n",
    "print(saurabh.company)\n"
   ]
  },
  {
   "cell_type": "code",
   "execution_count": 27,
   "id": "cca5b8a9",
   "metadata": {},
   "outputs": [
    {
     "name": "stdout",
     "output_type": "stream",
     "text": [
      "Alpha Bet\n",
      "1500\n",
      "750\n",
      "1000\n"
     ]
    }
   ],
   "source": [
    "#@property is said to be getter \n",
    "# @setter is \n",
    "class Employee:\n",
    "    company = \"Alpha Bet\"\n",
    "    salary = 1000\n",
    "    salarybonus = 500\n",
    "    \n",
    "    @property\n",
    "    def total_salary(self):\n",
    "        return self.salary + self.salarybonus\n",
    "    \n",
    "    @total_salary.setter\n",
    "    def total_salary(self , value):\n",
    "        self.salarybonus = value - self.salary\n",
    "\n",
    "sumit = Employee()\n",
    "print(sumit.company)\n",
    "print(sumit.total_salary)\n",
    "\n",
    "\n",
    "sumit.total_salary = 1750\n",
    "print(sumit.salarybonus)\n",
    "print(sumit.salary)"
   ]
  },
  {
   "cell_type": "code",
   "execution_count": 28,
   "id": "ddf3efaf",
   "metadata": {},
   "outputs": [
    {
     "ename": "TypeError",
     "evalue": "multi() missing 2 required positional arguments: 'x' and 'y'",
     "output_type": "error",
     "traceback": [
      "\u001b[1;31m---------------------------------------------------------------------------\u001b[0m",
      "\u001b[1;31mTypeError\u001b[0m                                 Traceback (most recent call last)",
      "\u001b[1;32m~\\AppData\\Local\\Temp/ipykernel_70720/3304402523.py\u001b[0m in \u001b[0;36m<module>\u001b[1;34m\u001b[0m\n\u001b[0;32m      9\u001b[0m \u001b[1;33m\u001b[0m\u001b[0m\n\u001b[0;32m     10\u001b[0m \u001b[0mcross\u001b[0m \u001b[1;33m=\u001b[0m \u001b[0mCalculation\u001b[0m\u001b[1;33m(\u001b[0m\u001b[1;33m)\u001b[0m\u001b[1;33m\u001b[0m\u001b[1;33m\u001b[0m\u001b[0m\n\u001b[1;32m---> 11\u001b[1;33m \u001b[0mcross\u001b[0m\u001b[1;33m.\u001b[0m\u001b[0mmulti\u001b[0m\u001b[1;33m(\u001b[0m \u001b[1;36m4\u001b[0m\u001b[1;33m,\u001b[0m \u001b[1;36m5\u001b[0m\u001b[1;33m)\u001b[0m\u001b[1;33m\u001b[0m\u001b[1;33m\u001b[0m\u001b[0m\n\u001b[0m",
      "\u001b[1;31mTypeError\u001b[0m: multi() missing 2 required positional arguments: 'x' and 'y'"
     ]
    }
   ],
   "source": [
    "class Calculation :\n",
    "    @property\n",
    "    def multi(self,x , y):\n",
    "        return self.x + self.y\n",
    "    \n",
    " #   @multi.setter\n",
    " #   def multi(self , value):\n",
    "  #      return self.x = self.y / self.value\n",
    "    \n",
    "cross= Calculation()\n",
    "cross.multi( 4, 5)"
   ]
  },
  {
   "cell_type": "code",
   "execution_count": null,
   "id": "08bb5eb0",
   "metadata": {},
   "outputs": [],
   "source": []
  }
 ],
 "metadata": {
  "kernelspec": {
   "display_name": "Python 3 (ipykernel)",
   "language": "python",
   "name": "python3"
  },
  "language_info": {
   "codemirror_mode": {
    "name": "ipython",
    "version": 3
   },
   "file_extension": ".py",
   "mimetype": "text/x-python",
   "name": "python",
   "nbconvert_exporter": "python",
   "pygments_lexer": "ipython3",
   "version": "3.9.7"
  }
 },
 "nbformat": 4,
 "nbformat_minor": 5
}
