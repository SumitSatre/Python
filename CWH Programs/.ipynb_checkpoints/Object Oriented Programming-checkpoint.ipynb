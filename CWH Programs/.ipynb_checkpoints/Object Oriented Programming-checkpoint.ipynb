{
 "cells": [
  {
   "cell_type": "code",
   "execution_count": 3,
   "id": "cba7cc05",
   "metadata": {},
   "outputs": [
    {
     "name": "stdout",
     "output_type": "stream",
     "text": [
      "Google\n",
      "4,00,000\n",
      "2000\n",
      "The working hours of Google are 8 hours \n"
     ]
    }
   ],
   "source": [
    "class Employee :\n",
    "    company = 'Google'\n",
    "    salary = \"4,00,000\"\n",
    "    internet_charge_ = \"2000\"\n",
    "    def working_hours(self):\n",
    "        return print(F\"The working hours of Google are 8 hours \")\n",
    "sumit = Employee() \n",
    "print(sumit.company)\n",
    "print(sumit.salary)\n",
    "print(sumit.internet_charge_)\n",
    "sumit.working_hours()    #Employee.working_hours(sumit) \n"
   ]
  },
  {
   "cell_type": "code",
   "execution_count": null,
   "id": "491af95f",
   "metadata": {},
   "outputs": [],
   "source": [
    "class Employee:\n",
    "    company = 'Google'\n",
    "    salary = \"4,00,000\"\n",
    "    internet_charge_ = \"2000\"\n",
    "\n"
   ]
  },
  {
   "cell_type": "code",
   "execution_count": 13,
   "id": "dfced68d",
   "metadata": {},
   "outputs": [
    {
     "name": "stdout",
     "output_type": "stream",
     "text": [
      "Welcome to microsoft !! \n",
      "The name of the Employee is Sumit.\n",
      "The address of the Microsoft employee Sumit is Bhugaon. \n",
      "The age of the Sumit is 18.\n",
      "\n",
      "\n",
      "The name of the Employee is Saurabh.\n",
      "The address of the Microsoft employee Saurabh is Kothrud. \n",
      "The age of the Saurabh is 20.\n"
     ]
    }
   ],
   "source": [
    "#Create a class programmer storing  information about few programmers working in Microsoft.\n",
    "\n",
    "\n",
    "class Programmer :\n",
    "    \n",
    "    print(\"Welcome to microsoft !! \")\n",
    "    company = \"Microsoft\"\n",
    "    salary = '10,000'\n",
    "    \n",
    "    \n",
    "    def __init__(self,name,address):\n",
    "        self.name = name\n",
    "        self.address = address \n",
    "        print(f\"The name of the Employee is {self.name}.\")\n",
    "        print(F\"The address of the {self.company} employee {self.name} is {self.address}. \")\n",
    "    \n",
    "    def age(self , age):\n",
    "        self.age = age\n",
    "        print(f\"The age of the {self.name} is {self.age}.\")\n",
    "    \n",
    "\n",
    "\n",
    "sumit = Programmer(\"Sumit\" , \"Bhugaon\")\n",
    "sumit.age(18)\n",
    "\n",
    "print()\n",
    "print()\n",
    "\n",
    "saurabh = Programmer(\"Saurabh\" , \"Kothrud\")\n",
    "saurabh.age(20)"
   ]
  },
  {
   "cell_type": "code",
   "execution_count": 33,
   "id": "6e7e6016",
   "metadata": {},
   "outputs": [
    {
     "name": "stdout",
     "output_type": "stream",
     "text": [
      "Enter the number : 5\n",
      "The Square of 5 is 25 . \n",
      "The cube of 5 is 125 . \n",
      "The Square root of 5 is 2.23606797749979 . \n"
     ]
    }
   ],
   "source": [
    "# Create a clas calculator to find the square , cube ,squareroot of a given number\n",
    "\n",
    "\n",
    "class Calculator:\n",
    "    def __init__(self, a):\n",
    "        \n",
    "        self.a = a\n",
    "        self.square = a**2\n",
    "        self.cube = a**3\n",
    "        self.squareroot = a**0.5\n",
    "        \n",
    "        print(F\"The Square of {self.a} is {self.square} . \")\n",
    "        print(F\"The cube of {self.a} is {self.cube} . \")\n",
    "        print(F\"The Square root of {self.a} is {self.squareroot} . \")\n",
    "        \n",
    "   \n",
    "\n",
    "m = Calculator(int(input(\"Enter the number : \")))       "
   ]
  },
  {
   "cell_type": "code",
   "execution_count": 40,
   "id": "dd5b79c0",
   "metadata": {},
   "outputs": [
    {
     "name": "stdout",
     "output_type": "stream",
     "text": [
      "The Square of 5 is 25 . \n",
      "The cube of 5 is 125 . \n",
      "The Square root of 5 is 2.23606797749979. \n",
      "***Hello Sumit Welcome to the Best calculator on the Earth***\n"
     ]
    }
   ],
   "source": [
    "# Use the programme same and just use the @staticmaethod in it and greet the user\n",
    "class Calculator:\n",
    "    def __init__(self, a):\n",
    "        \n",
    "        self.a = a\n",
    "        self.square = a**2\n",
    "        self.cube = a**3\n",
    "        self.squareroot = a**0.5\n",
    "        \n",
    "        print(F\"The Square of {self.a} is {self.square} . \")\n",
    "        print(F\"The cube of {self.a} is {self.cube} . \")\n",
    "        print(F\"The Square root of {self.a} is {self.squareroot}. \")\n",
    "         \n",
    "    @staticmethod\n",
    "    def name(user):\n",
    "        print(F\"***Hello {user} Welcome to the Best calculator on the Earth***\")\n",
    "        \n",
    "sumit = Calculator(5 )\n",
    "sumit.name(\"Sumit\")"
   ]
  },
  {
   "cell_type": "code",
   "execution_count": 53,
   "id": "afd5acca",
   "metadata": {},
   "outputs": [
    {
     "name": "stdout",
     "output_type": "stream",
     "text": [
      "Hello , Welcome to Sumit Train Services !! \n",
      "The name of the train is Pune Express. \n",
      "The fare of the train is 300. \n",
      "The empty seats on the train is 14. \n",
      "Your ticket is booked , Your seat number is 14.\n",
      "Your ticket is booked , Your seat number is 13.\n",
      "Your ticket is booked , Your seat number is 12.\n",
      "Your seat is cancelled .\n",
      "The remaining seats in the train is 11\n",
      "Your seat is cancelled .\n",
      "The remaining seats in the train is 12\n"
     ]
    }
   ],
   "source": [
    "# Create a class train and book the ticket for the passenger \n",
    "\n",
    "\n",
    "class Train:\n",
    "    print(\"Hello , Welcome to Sumit Train Services !! \")\n",
    "    def __init__(self ,name , fare , seats):\n",
    "        self.name = name\n",
    "        self.fare = fare\n",
    "        self.seats = seats\n",
    "    \n",
    "    def getself(self):\n",
    "        print(F\"The name of the train is {self.name}. \")\n",
    "        print(F\"The fare of the train is {self.fare}. \")\n",
    "        print(F\"The empty seats on the train is {self.seats}. \")\n",
    "        \n",
    "    def bookticket(self):\n",
    "        if self.seats > 0:\n",
    "            print(f\"Your ticket is booked , Your seat number is {self.seats}.\")\n",
    "            self.seats = self.seats - 1\n",
    "        else:\n",
    "            print(\"Sorry the saets are not available\")\n",
    "            \n",
    "    def cancelticket(self):\n",
    "        print(\"Your seat is cancelled .\")\n",
    "        print(f\"The remaining seats in the train is {self.seats}\")\n",
    "        self.seats += 1\n",
    "\n",
    "            \n",
    "Pune_Express = Train(\"Pune Express\", 300 , 14)        \n",
    "Pune_Express.getself()\n",
    "Pune_Express.bookticket()\n",
    "Pune_Express.bookticket()\n",
    "Pune_Express.bookticket()\n",
    "Pune_Express.cancelticket()\n",
    "Pune_Express.cancelticket()\n",
    "\n"
   ]
  },
  {
   "cell_type": "code",
   "execution_count": null,
   "id": "b935ed00",
   "metadata": {},
   "outputs": [],
   "source": []
  }
 ],
 "metadata": {
  "kernelspec": {
   "display_name": "Python 3 (ipykernel)",
   "language": "python",
   "name": "python3"
  },
  "language_info": {
   "codemirror_mode": {
    "name": "ipython",
    "version": 3
   },
   "file_extension": ".py",
   "mimetype": "text/x-python",
   "name": "python",
   "nbconvert_exporter": "python",
   "pygments_lexer": "ipython3",
   "version": "3.9.7"
  }
 },
 "nbformat": 4,
 "nbformat_minor": 5
}
