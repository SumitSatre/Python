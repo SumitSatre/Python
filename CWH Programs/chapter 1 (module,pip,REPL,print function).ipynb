{
 "cells": [
  {
   "cell_type": "code",
   "execution_count": 1,
   "id": "7ea54951",
   "metadata": {},
   "outputs": [
    {
     "name": "stdout",
     "output_type": "stream",
     "text": [
      "twinkal twinkal little star\n",
      "how i wondar what you are !\n"
     ]
    }
   ],
   "source": [
    "print('''twinkal twinkal little star\n",
    "how i wondar what you are !''')"
   ]
  },
  {
   "cell_type": "code",
   "execution_count": 3,
   "id": "a9d01d28",
   "metadata": {},
   "outputs": [
    {
     "name": "stdout",
     "output_type": "stream",
     "text": [
      "5\n",
      "10\n",
      "15\n",
      "20\n",
      "25\n",
      "30\n",
      "35\n",
      "40\n",
      "45\n",
      "50\n"
     ]
    }
   ],
   "source": [
    "x = 5\n",
    "for i in range(1,11):\n",
    "    print(x*i)\n",
    "    "
   ]
  },
  {
   "cell_type": "code",
   "execution_count": 4,
   "id": "081d632b",
   "metadata": {},
   "outputs": [
    {
     "name": "stdout",
     "output_type": "stream",
     "text": [
      "understand\n"
     ]
    }
   ],
   "source": [
    "#For comment we use hash in python\n",
    "'''for double line comment \n",
    "we use trople colon in python'''\n",
    "#comment does not any code\n",
    "print(\"understand\")"
   ]
  },
  {
   "cell_type": "code",
   "execution_count": 15,
   "id": "53c9ba5d",
   "metadata": {},
   "outputs": [
    {
     "data": {
      "text/plain": [
       "'.......................................hello Sumit'"
      ]
     },
     "execution_count": 15,
     "metadata": {},
     "output_type": "execute_result"
    }
   ],
   "source": [
    "format('hello'' Sumit','.>50')"
   ]
  },
  {
   "cell_type": "code",
   "execution_count": 21,
   "id": "a3013e67",
   "metadata": {},
   "outputs": [
    {
     "name": "stdout",
     "output_type": "stream",
     "text": [
      "sumitop\n",
      "sumitop\n",
      "sumit op\n"
     ]
    }
   ],
   "source": [
    "x=5\n",
    "print('sumit' + 'op')\n",
    "print('sumit''op')\n",
    "print('sumit','op')"
   ]
  },
  {
   "cell_type": "code",
   "execution_count": null,
   "id": "c4b540e3",
   "metadata": {},
   "outputs": [],
   "source": []
  },
  {
   "cell_type": "code",
   "execution_count": null,
   "id": "6135ca4e",
   "metadata": {},
   "outputs": [],
   "source": []
  }
 ],
 "metadata": {
  "kernelspec": {
   "display_name": "Python 3 (ipykernel)",
   "language": "python",
   "name": "python3"
  },
  "language_info": {
   "codemirror_mode": {
    "name": "ipython",
    "version": 3
   },
   "file_extension": ".py",
   "mimetype": "text/x-python",
   "name": "python",
   "nbconvert_exporter": "python",
   "pygments_lexer": "ipython3",
   "version": "3.9.7"
  }
 },
 "nbformat": 4,
 "nbformat_minor": 5
}
